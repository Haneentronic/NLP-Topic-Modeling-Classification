{
 "cells": [
  {
   "cell_type": "markdown",
   "source": [
    "# Imports"
   ],
   "metadata": {
    "collapsed": false,
    "pycharm": {
     "name": "#%% md\n"
    }
   }
  },
  {
   "cell_type": "code",
   "execution_count": 51,
   "outputs": [],
   "source": [
    "import pandas as pd\n",
    "import string\n",
    "from nltk.tokenize import sent_tokenize, word_tokenize\n",
    "from nltk.corpus import stopwords\n",
    "from collections import Counter\n",
    "from nltk.stem import PorterStemmer\n",
    "from nltk import pos_tag\n",
    "from nltk.corpus import wordnet\n",
    "from nltk.stem import WordNetLemmatizer\n",
    "import re"
   ],
   "metadata": {
    "collapsed": false,
    "pycharm": {
     "name": "#%%\n"
    }
   }
  },
  {
   "cell_type": "markdown",
   "source": [
    "# Data Reading"
   ],
   "metadata": {
    "collapsed": false,
    "pycharm": {
     "name": "#%% md\n"
    }
   }
  },
  {
   "cell_type": "code",
   "execution_count": 52,
   "outputs": [
    {
     "data": {
      "text/plain": "   Unnamed: 0     id                                              title  \\\n0           0  17283  House Republicans Fret About Winning Their Hea...   \n1           1  17284  Rift Between Officers and Residents as Killing...   \n2           2  17285  Tyrus Wong, ‘Bambi’ Artist Thwarted by Racial ...   \n3           3  17286  Among Deaths in 2016, a Heavy Toll in Pop Musi...   \n4           4  17287  Kim Jong-un Says North Korea Is Preparing to T...   \n\n      publication                         author        date    year  month  \\\n0  New York Times                     Carl Hulse  2016-12-31  2016.0   12.0   \n1  New York Times  Benjamin Mueller and Al Baker  2017-06-19  2017.0    6.0   \n2  New York Times                   Margalit Fox  2017-01-06  2017.0    1.0   \n3  New York Times               William McDonald  2017-04-10  2017.0    4.0   \n4  New York Times                  Choe Sang-Hun  2017-01-02  2017.0    1.0   \n\n   url                                            content  \n0  NaN  WASHINGTON  —   Congressional Republicans have...  \n1  NaN  After the bullet shells get counted, the blood...  \n2  NaN  When Walt Disney’s “Bambi” opened in 1942, cri...  \n3  NaN  Death may be the great equalizer, but it isn’t...  \n4  NaN  SEOUL, South Korea  —   North Korea’s leader, ...  ",
      "text/html": "<div>\n<style scoped>\n    .dataframe tbody tr th:only-of-type {\n        vertical-align: middle;\n    }\n\n    .dataframe tbody tr th {\n        vertical-align: top;\n    }\n\n    .dataframe thead th {\n        text-align: right;\n    }\n</style>\n<table border=\"1\" class=\"dataframe\">\n  <thead>\n    <tr style=\"text-align: right;\">\n      <th></th>\n      <th>Unnamed: 0</th>\n      <th>id</th>\n      <th>title</th>\n      <th>publication</th>\n      <th>author</th>\n      <th>date</th>\n      <th>year</th>\n      <th>month</th>\n      <th>url</th>\n      <th>content</th>\n    </tr>\n  </thead>\n  <tbody>\n    <tr>\n      <th>0</th>\n      <td>0</td>\n      <td>17283</td>\n      <td>House Republicans Fret About Winning Their Hea...</td>\n      <td>New York Times</td>\n      <td>Carl Hulse</td>\n      <td>2016-12-31</td>\n      <td>2016.0</td>\n      <td>12.0</td>\n      <td>NaN</td>\n      <td>WASHINGTON  —   Congressional Republicans have...</td>\n    </tr>\n    <tr>\n      <th>1</th>\n      <td>1</td>\n      <td>17284</td>\n      <td>Rift Between Officers and Residents as Killing...</td>\n      <td>New York Times</td>\n      <td>Benjamin Mueller and Al Baker</td>\n      <td>2017-06-19</td>\n      <td>2017.0</td>\n      <td>6.0</td>\n      <td>NaN</td>\n      <td>After the bullet shells get counted, the blood...</td>\n    </tr>\n    <tr>\n      <th>2</th>\n      <td>2</td>\n      <td>17285</td>\n      <td>Tyrus Wong, ‘Bambi’ Artist Thwarted by Racial ...</td>\n      <td>New York Times</td>\n      <td>Margalit Fox</td>\n      <td>2017-01-06</td>\n      <td>2017.0</td>\n      <td>1.0</td>\n      <td>NaN</td>\n      <td>When Walt Disney’s “Bambi” opened in 1942, cri...</td>\n    </tr>\n    <tr>\n      <th>3</th>\n      <td>3</td>\n      <td>17286</td>\n      <td>Among Deaths in 2016, a Heavy Toll in Pop Musi...</td>\n      <td>New York Times</td>\n      <td>William McDonald</td>\n      <td>2017-04-10</td>\n      <td>2017.0</td>\n      <td>4.0</td>\n      <td>NaN</td>\n      <td>Death may be the great equalizer, but it isn’t...</td>\n    </tr>\n    <tr>\n      <th>4</th>\n      <td>4</td>\n      <td>17287</td>\n      <td>Kim Jong-un Says North Korea Is Preparing to T...</td>\n      <td>New York Times</td>\n      <td>Choe Sang-Hun</td>\n      <td>2017-01-02</td>\n      <td>2017.0</td>\n      <td>1.0</td>\n      <td>NaN</td>\n      <td>SEOUL, South Korea  —   North Korea’s leader, ...</td>\n    </tr>\n  </tbody>\n</table>\n</div>"
     },
     "execution_count": 52,
     "metadata": {},
     "output_type": "execute_result"
    }
   ],
   "source": [
    "data_frame = pd.read_csv(\"../Dataset/articles.csv\")\n",
    "data_frame.head()\n",
    "\n",
    "# Decrease Number of rows\n",
    "# data_frame = data_frame.head(100)"
   ],
   "metadata": {
    "collapsed": false,
    "pycharm": {
     "name": "#%%\n"
    }
   }
  },
  {
   "cell_type": "markdown",
   "source": [
    "# Data Cleaning\n",
    "## 1- Handel Missing values\n",
    "### a- Handel columns with missing values"
   ],
   "metadata": {
    "collapsed": false,
    "pycharm": {
     "name": "#%% md\n"
    }
   }
  },
  {
   "cell_type": "code",
   "execution_count": 53,
   "outputs": [
    {
     "data": {
      "text/plain": "Unnamed: 0       0.000\nid               0.000\ntitle            0.000\npublication      0.000\nauthor          12.612\ndate             0.000\nyear             0.000\nmonth            0.000\nurl            100.000\ncontent          0.000\ndtype: float64"
     },
     "execution_count": 53,
     "metadata": {},
     "output_type": "execute_result"
    }
   ],
   "source": [
    "# Get total number of nulls in each column\n",
    "data_frame.isnull().sum() / len(data_frame) * 100"
   ],
   "metadata": {
    "collapsed": false,
    "pycharm": {
     "name": "#%%\n"
    }
   }
  },
  {
   "cell_type": "code",
   "execution_count": 54,
   "outputs": [
    {
     "data": {
      "text/plain": "Unnamed: 0      0.000\nid              0.000\ntitle           0.000\npublication     0.000\nauthor         12.612\ndate            0.000\nyear            0.000\nmonth           0.000\ncontent         0.000\ndtype: float64"
     },
     "execution_count": 54,
     "metadata": {},
     "output_type": "execute_result"
    }
   ],
   "source": [
    "# Remove url column because it's empty(100% null values)\n",
    "data_frame.drop(columns=['url'], inplace=True)\n",
    "data_frame.isnull().sum() / len(data_frame) * 100"
   ],
   "metadata": {
    "collapsed": false,
    "pycharm": {
     "name": "#%%\n"
    }
   }
  },
  {
   "cell_type": "markdown",
   "source": [
    "### b- Handel rows with missing values"
   ],
   "metadata": {
    "collapsed": false,
    "pycharm": {
     "name": "#%% md\n"
    }
   }
  },
  {
   "cell_type": "code",
   "execution_count": 55,
   "outputs": [
    {
     "name": "stdout",
     "output_type": "stream",
     "text": [
      "Number of rows contain null values = 12.612000000000002 %\n"
     ]
    }
   ],
   "source": [
    "# Get percentage of number of rows contain missing values\n",
    "mask = data_frame.isnull().any(axis=1)\n",
    "rows_with_missing_values = mask.sum() / len(data_frame)*100\n",
    "print(\"Number of rows contain null values =\", rows_with_missing_values, \"%\")"
   ],
   "metadata": {
    "collapsed": false,
    "pycharm": {
     "name": "#%%\n"
    }
   }
  },
  {
   "cell_type": "code",
   "execution_count": 56,
   "outputs": [
    {
     "data": {
      "text/plain": "Unnamed: 0     0.0\nid             0.0\ntitle          0.0\npublication    0.0\nauthor         0.0\ndate           0.0\nyear           0.0\nmonth          0.0\ncontent        0.0\ndtype: float64"
     },
     "execution_count": 56,
     "metadata": {},
     "output_type": "execute_result"
    }
   ],
   "source": [
    "# Drop rows contain null values\n",
    "data_frame.dropna(inplace=True)\n",
    "data_frame.isnull().sum() / len(data_frame) * 100"
   ],
   "metadata": {
    "collapsed": false,
    "pycharm": {
     "name": "#%%\n"
    }
   }
  },
  {
   "cell_type": "markdown",
   "source": [
    "## 2- Handel columns data types"
   ],
   "metadata": {
    "collapsed": false,
    "pycharm": {
     "name": "#%% md\n"
    }
   }
  },
  {
   "cell_type": "code",
   "execution_count": 57,
   "outputs": [
    {
     "data": {
      "text/plain": "Unnamed: 0       int64\nid               int64\ntitle           object\npublication     object\nauthor          object\ndate            object\nyear           float64\nmonth          float64\ncontent         object\ndtype: object"
     },
     "execution_count": 57,
     "metadata": {},
     "output_type": "execute_result"
    }
   ],
   "source": [
    "data_frame.dtypes"
   ],
   "metadata": {
    "collapsed": false,
    "pycharm": {
     "name": "#%%\n"
    }
   }
  },
  {
   "cell_type": "code",
   "execution_count": 58,
   "outputs": [
    {
     "data": {
      "text/plain": "Unnamed: 0              int64\nid                      int64\ntitle                  string\npublication            string\nauthor                 string\ndate           datetime64[ns]\nyear                    int64\nmonth                   int64\ncontent                string\ndtype: object"
     },
     "execution_count": 58,
     "metadata": {},
     "output_type": "execute_result"
    }
   ],
   "source": [
    "data_frame= data_frame.astype({\"title\": \"string\",\n",
    "                               \"publication\": \"string\",\n",
    "                               \"author\": \"string\",\n",
    "                               \"date\": \"datetime64\",\n",
    "                               \"year\": \"int64\",\n",
    "                               \"month\": \"int64\",\n",
    "                               \"content\": \"string\"})\n",
    "\n",
    "data_frame.dtypes"
   ],
   "metadata": {
    "collapsed": false,
    "pycharm": {
     "name": "#%%\n"
    }
   }
  },
  {
   "cell_type": "markdown",
   "source": [
    "# Text Preprocessing NLP Pipeline\n",
    "## 1- Convert to lowercase"
   ],
   "metadata": {
    "collapsed": false,
    "pycharm": {
     "name": "#%% md\n"
    }
   }
  },
  {
   "cell_type": "code",
   "execution_count": 59,
   "outputs": [
    {
     "data": {
      "text/plain": "   Unnamed: 0     id                                              title  \\\n0           0  17283  house republicans fret about winning their hea...   \n1           1  17284  rift between officers and residents as killing...   \n2           2  17285  tyrus wong, ‘bambi’ artist thwarted by racial ...   \n3           3  17286  among deaths in 2016, a heavy toll in pop musi...   \n4           4  17287  kim jong-un says north korea is preparing to t...   \n\n      publication                         author       date  year  month  \\\n0  New York Times                     Carl Hulse 2016-12-31  2016     12   \n1  New York Times  Benjamin Mueller and Al Baker 2017-06-19  2017      6   \n2  New York Times                   Margalit Fox 2017-01-06  2017      1   \n3  New York Times               William McDonald 2017-04-10  2017      4   \n4  New York Times                  Choe Sang-Hun 2017-01-02  2017      1   \n\n                                             content  \n0  washington  —   congressional republicans have...  \n1  after the bullet shells get counted, the blood...  \n2  when walt disney’s “bambi” opened in 1942, cri...  \n3  death may be the great equalizer, but it isn’t...  \n4  seoul, south korea  —   north korea’s leader, ...  ",
      "text/html": "<div>\n<style scoped>\n    .dataframe tbody tr th:only-of-type {\n        vertical-align: middle;\n    }\n\n    .dataframe tbody tr th {\n        vertical-align: top;\n    }\n\n    .dataframe thead th {\n        text-align: right;\n    }\n</style>\n<table border=\"1\" class=\"dataframe\">\n  <thead>\n    <tr style=\"text-align: right;\">\n      <th></th>\n      <th>Unnamed: 0</th>\n      <th>id</th>\n      <th>title</th>\n      <th>publication</th>\n      <th>author</th>\n      <th>date</th>\n      <th>year</th>\n      <th>month</th>\n      <th>content</th>\n    </tr>\n  </thead>\n  <tbody>\n    <tr>\n      <th>0</th>\n      <td>0</td>\n      <td>17283</td>\n      <td>house republicans fret about winning their hea...</td>\n      <td>New York Times</td>\n      <td>Carl Hulse</td>\n      <td>2016-12-31</td>\n      <td>2016</td>\n      <td>12</td>\n      <td>washington  —   congressional republicans have...</td>\n    </tr>\n    <tr>\n      <th>1</th>\n      <td>1</td>\n      <td>17284</td>\n      <td>rift between officers and residents as killing...</td>\n      <td>New York Times</td>\n      <td>Benjamin Mueller and Al Baker</td>\n      <td>2017-06-19</td>\n      <td>2017</td>\n      <td>6</td>\n      <td>after the bullet shells get counted, the blood...</td>\n    </tr>\n    <tr>\n      <th>2</th>\n      <td>2</td>\n      <td>17285</td>\n      <td>tyrus wong, ‘bambi’ artist thwarted by racial ...</td>\n      <td>New York Times</td>\n      <td>Margalit Fox</td>\n      <td>2017-01-06</td>\n      <td>2017</td>\n      <td>1</td>\n      <td>when walt disney’s “bambi” opened in 1942, cri...</td>\n    </tr>\n    <tr>\n      <th>3</th>\n      <td>3</td>\n      <td>17286</td>\n      <td>among deaths in 2016, a heavy toll in pop musi...</td>\n      <td>New York Times</td>\n      <td>William McDonald</td>\n      <td>2017-04-10</td>\n      <td>2017</td>\n      <td>4</td>\n      <td>death may be the great equalizer, but it isn’t...</td>\n    </tr>\n    <tr>\n      <th>4</th>\n      <td>4</td>\n      <td>17287</td>\n      <td>kim jong-un says north korea is preparing to t...</td>\n      <td>New York Times</td>\n      <td>Choe Sang-Hun</td>\n      <td>2017-01-02</td>\n      <td>2017</td>\n      <td>1</td>\n      <td>seoul, south korea  —   north korea’s leader, ...</td>\n    </tr>\n  </tbody>\n</table>\n</div>"
     },
     "execution_count": 59,
     "metadata": {},
     "output_type": "execute_result"
    }
   ],
   "source": [
    "data_frame[\"title\"] = data_frame[\"title\"].str.lower()\n",
    "data_frame[\"content\"] = data_frame[\"content\"].str.lower()\n",
    "data_frame.head()"
   ],
   "metadata": {
    "collapsed": false,
    "pycharm": {
     "name": "#%%\n"
    }
   }
  },
  {
   "cell_type": "markdown",
   "source": [
    "## 2- Apply Tokenization\n",
    "### a- Apply sentence tokenization"
   ],
   "metadata": {
    "collapsed": false,
    "pycharm": {
     "name": "#%% md\n"
    }
   }
  },
  {
   "cell_type": "code",
   "execution_count": 60,
   "outputs": [],
   "source": [
    "# def sentence_tokenizer(text):\n",
    "#     return sent_tokenize(text)\n",
    "#\n",
    "# data_frame[\"content\"] = data_frame[\"content\"].apply(lambda x: sentence_tokenizer(x))\n",
    "#\n",
    "# data_frame[\"content\"]"
   ],
   "metadata": {
    "collapsed": false,
    "pycharm": {
     "name": "#%%\n"
    }
   }
  },
  {
   "cell_type": "markdown",
   "source": [
    "### b- Apply word tokenization"
   ],
   "metadata": {
    "collapsed": false,
    "pycharm": {
     "name": "#%% md\n"
    }
   }
  },
  {
   "cell_type": "code",
   "execution_count": 61,
   "outputs": [],
   "source": [
    "# def word_tokenizer(sentences):\n",
    "#     tokenized_words = []\n",
    "#     for x in sentences:\n",
    "#         tokenized_words = tokenized_words + word_tokenize(x)\n",
    "#     return tokenized_words\n",
    "#\n",
    "# data_frame[\"content\"] = data_frame[\"content\"].apply(lambda x: word_tokenizer(x))"
   ],
   "metadata": {
    "collapsed": false,
    "pycharm": {
     "name": "#%%\n"
    }
   }
  },
  {
   "cell_type": "markdown",
   "source": [
    "## 3- Remove HTML tags"
   ],
   "metadata": {
    "collapsed": false,
    "pycharm": {
     "name": "#%% md\n"
    }
   }
  },
  {
   "cell_type": "code",
   "execution_count": 62,
   "outputs": [],
   "source": [
    "def remove_html_tags(text):\n",
    "    return re.sub(r'<.*?>', \"\", text)\n",
    "\n",
    "data_frame[\"title\"] = data_frame[\"title\"].apply(lambda x: remove_html_tags(x))\n",
    "\n",
    "data_frame[\"content\"] = data_frame[\"content\"].apply(lambda x: remove_html_tags(x))\n",
    "\n"
   ],
   "metadata": {
    "collapsed": false,
    "pycharm": {
     "name": "#%%\n"
    }
   }
  },
  {
   "cell_type": "markdown",
   "source": [
    "## 4- Remove Punctuations and Special Characters"
   ],
   "metadata": {
    "collapsed": false,
    "pycharm": {
     "name": "#%% md\n"
    }
   }
  },
  {
   "cell_type": "code",
   "execution_count": 63,
   "outputs": [
    {
     "data": {
      "text/plain": "                                                   title  \\\n0      house republicans fret about winning their hea...   \n1      rift between officers and residents as killing...   \n2      tyrus wong   bambi  artist thwarted by racial ...   \n3      among deaths in 2016  a heavy toll in pop musi...   \n4      kim jong un says north korea is preparing to t...   \n...                                                  ...   \n49995   rex tillerson says climate change is real  but     \n49996  the biggest intelligence questions raised by t...   \n49997  trump announces plan that does little to resol...   \n49998    dozens of for profit colleges could soon close    \n49999                       the milky way s stolen stars   \n\n                                                 content  \n0      washington      congressional republicans have...  \n1      after the bullet shells get counted  the blood...  \n2      when walt disney s  bambi  opened in 1942  cri...  \n3      death may be the great equalizer  but it isn t...  \n4      seoul  south korea      north korea s leader  ...  \n...                                                  ...  \n49995  as chairman and ceo of exxonmobil  rex tillers...  \n49996  i ve spent nearly 20 years looking at intellig...  \n49997    donald trump will not be taking necessary st...  \n49998  dozens of   colleges could be forced to close ...  \n49999  the force of gravity can be described using a ...  \n\n[43694 rows x 2 columns]",
      "text/html": "<div>\n<style scoped>\n    .dataframe tbody tr th:only-of-type {\n        vertical-align: middle;\n    }\n\n    .dataframe tbody tr th {\n        vertical-align: top;\n    }\n\n    .dataframe thead th {\n        text-align: right;\n    }\n</style>\n<table border=\"1\" class=\"dataframe\">\n  <thead>\n    <tr style=\"text-align: right;\">\n      <th></th>\n      <th>title</th>\n      <th>content</th>\n    </tr>\n  </thead>\n  <tbody>\n    <tr>\n      <th>0</th>\n      <td>house republicans fret about winning their hea...</td>\n      <td>washington      congressional republicans have...</td>\n    </tr>\n    <tr>\n      <th>1</th>\n      <td>rift between officers and residents as killing...</td>\n      <td>after the bullet shells get counted  the blood...</td>\n    </tr>\n    <tr>\n      <th>2</th>\n      <td>tyrus wong   bambi  artist thwarted by racial ...</td>\n      <td>when walt disney s  bambi  opened in 1942  cri...</td>\n    </tr>\n    <tr>\n      <th>3</th>\n      <td>among deaths in 2016  a heavy toll in pop musi...</td>\n      <td>death may be the great equalizer  but it isn t...</td>\n    </tr>\n    <tr>\n      <th>4</th>\n      <td>kim jong un says north korea is preparing to t...</td>\n      <td>seoul  south korea      north korea s leader  ...</td>\n    </tr>\n    <tr>\n      <th>...</th>\n      <td>...</td>\n      <td>...</td>\n    </tr>\n    <tr>\n      <th>49995</th>\n      <td>rex tillerson says climate change is real  but</td>\n      <td>as chairman and ceo of exxonmobil  rex tillers...</td>\n    </tr>\n    <tr>\n      <th>49996</th>\n      <td>the biggest intelligence questions raised by t...</td>\n      <td>i ve spent nearly 20 years looking at intellig...</td>\n    </tr>\n    <tr>\n      <th>49997</th>\n      <td>trump announces plan that does little to resol...</td>\n      <td>donald trump will not be taking necessary st...</td>\n    </tr>\n    <tr>\n      <th>49998</th>\n      <td>dozens of for profit colleges could soon close</td>\n      <td>dozens of   colleges could be forced to close ...</td>\n    </tr>\n    <tr>\n      <th>49999</th>\n      <td>the milky way s stolen stars</td>\n      <td>the force of gravity can be described using a ...</td>\n    </tr>\n  </tbody>\n</table>\n<p>43694 rows × 2 columns</p>\n</div>"
     },
     "execution_count": 63,
     "metadata": {},
     "output_type": "execute_result"
    }
   ],
   "source": [
    "data_frame[\"title\"] = data_frame['title'].str.replace('[^a-zA-Z0-9]', \" \", regex=True)\n",
    "\n",
    "data_frame[\"content\"] = data_frame['content'].str.replace('[^a-zA-Z0-9]', \" \", regex=True)\n",
    "\n",
    "data_frame[['title', 'content']]"
   ],
   "metadata": {
    "collapsed": false,
    "pycharm": {
     "name": "#%%\n"
    }
   }
  },
  {
   "cell_type": "markdown",
   "source": [
    "## 4- Remove unnecessary spaces and words"
   ],
   "metadata": {
    "collapsed": false,
    "pycharm": {
     "name": "#%% md\n"
    }
   }
  },
  {
   "cell_type": "code",
   "execution_count": 64,
   "outputs": [
    {
     "data": {
      "text/plain": "                                                   title  \\\n0      house republicans fret about winning their hea...   \n1      rift between officers and residents as killing...   \n2      tyrus wongbambiartist thwarted by racial biasd...   \n3      among deaths in 2016a heavy toll in pop musict...   \n4      kim jong un says north korea is preparing to t...   \n...                                                  ...   \n49995       rex tillerson says climate change is realbut   \n49996  the biggest intelligence questions raised by t...   \n49997  trump announces plan that does little to resol...   \n49998    dozens of for profit colleges could soon close    \n49999                       the milky way s stolen stars   \n\n                                                 content  \n0      washington congressional republicans have a ne...  \n1      after the bullet shells get counted the blood ...  \n2      when walt disney s bambi opened in 1942 critic...  \n3      death may be the great equalizer but it isn t ...  \n4      seoul south korea north korea s leader kim sai...  \n...                                                  ...  \n49995  as chairman and ceo of exxonmobil rex tillerso...  \n49996  i ve spent nearly 20 years looking at intellig...  \n49997   donald trump will not be taking necessary ste...  \n49998  dozens of colleges could be forced to close in...  \n49999  the force of gravity can be described using a ...  \n\n[43694 rows x 2 columns]",
      "text/html": "<div>\n<style scoped>\n    .dataframe tbody tr th:only-of-type {\n        vertical-align: middle;\n    }\n\n    .dataframe tbody tr th {\n        vertical-align: top;\n    }\n\n    .dataframe thead th {\n        text-align: right;\n    }\n</style>\n<table border=\"1\" class=\"dataframe\">\n  <thead>\n    <tr style=\"text-align: right;\">\n      <th></th>\n      <th>title</th>\n      <th>content</th>\n    </tr>\n  </thead>\n  <tbody>\n    <tr>\n      <th>0</th>\n      <td>house republicans fret about winning their hea...</td>\n      <td>washington congressional republicans have a ne...</td>\n    </tr>\n    <tr>\n      <th>1</th>\n      <td>rift between officers and residents as killing...</td>\n      <td>after the bullet shells get counted the blood ...</td>\n    </tr>\n    <tr>\n      <th>2</th>\n      <td>tyrus wongbambiartist thwarted by racial biasd...</td>\n      <td>when walt disney s bambi opened in 1942 critic...</td>\n    </tr>\n    <tr>\n      <th>3</th>\n      <td>among deaths in 2016a heavy toll in pop musict...</td>\n      <td>death may be the great equalizer but it isn t ...</td>\n    </tr>\n    <tr>\n      <th>4</th>\n      <td>kim jong un says north korea is preparing to t...</td>\n      <td>seoul south korea north korea s leader kim sai...</td>\n    </tr>\n    <tr>\n      <th>...</th>\n      <td>...</td>\n      <td>...</td>\n    </tr>\n    <tr>\n      <th>49995</th>\n      <td>rex tillerson says climate change is realbut</td>\n      <td>as chairman and ceo of exxonmobil rex tillerso...</td>\n    </tr>\n    <tr>\n      <th>49996</th>\n      <td>the biggest intelligence questions raised by t...</td>\n      <td>i ve spent nearly 20 years looking at intellig...</td>\n    </tr>\n    <tr>\n      <th>49997</th>\n      <td>trump announces plan that does little to resol...</td>\n      <td>donald trump will not be taking necessary ste...</td>\n    </tr>\n    <tr>\n      <th>49998</th>\n      <td>dozens of for profit colleges could soon close</td>\n      <td>dozens of colleges could be forced to close in...</td>\n    </tr>\n    <tr>\n      <th>49999</th>\n      <td>the milky way s stolen stars</td>\n      <td>the force of gravity can be described using a ...</td>\n    </tr>\n  </tbody>\n</table>\n<p>43694 rows × 2 columns</p>\n</div>"
     },
     "execution_count": 64,
     "metadata": {},
     "output_type": "execute_result"
    }
   ],
   "source": [
    "# remove unnecessary spaces\n",
    "data_frame[\"title\"] = data_frame['title'].str.replace('\\s\\s+', \"\", regex=True)\n",
    "\n",
    "data_frame[\"content\"] = data_frame['content'].str.replace('\\s\\s+', \" \", regex=True)\n",
    "\n",
    "data_frame[['title', 'content']]"
   ],
   "metadata": {
    "collapsed": false,
    "pycharm": {
     "name": "#%%\n"
    }
   }
  },
  {
   "cell_type": "code",
   "execution_count": 65,
   "outputs": [
    {
     "data": {
      "text/plain": "   Unnamed: 0     id                                              title  \\\n0           0  17283  house republicans fret about winning their hea...   \n1           1  17284  rift between officers and residents as killing...   \n2           2  17285  tyrus wongbambiartist thwarted by racial biasd...   \n3           3  17286  among deaths in 2016a heavy toll in pop musict...   \n4           4  17287  kim jong un says north korea is preparing to t...   \n\n      publication                         author       date  year  month  \\\n0  New York Times                     Carl Hulse 2016-12-31  2016     12   \n1  New York Times  Benjamin Mueller and Al Baker 2017-06-19  2017      6   \n2  New York Times                   Margalit Fox 2017-01-06  2017      1   \n3  New York Times               William McDonald 2017-04-10  2017      4   \n4  New York Times                  Choe Sang-Hun 2017-01-02  2017      1   \n\n                                             content  \n0  washington congressional republicans have a ne...  \n1  after the bullet shells get counted the blood ...  \n2  when walt disney s bambi opened in 1942 critic...  \n3  death may be the great equalizer but it isn t ...  \n4  seoul south korea north korea s leader kim sai...  ",
      "text/html": "<div>\n<style scoped>\n    .dataframe tbody tr th:only-of-type {\n        vertical-align: middle;\n    }\n\n    .dataframe tbody tr th {\n        vertical-align: top;\n    }\n\n    .dataframe thead th {\n        text-align: right;\n    }\n</style>\n<table border=\"1\" class=\"dataframe\">\n  <thead>\n    <tr style=\"text-align: right;\">\n      <th></th>\n      <th>Unnamed: 0</th>\n      <th>id</th>\n      <th>title</th>\n      <th>publication</th>\n      <th>author</th>\n      <th>date</th>\n      <th>year</th>\n      <th>month</th>\n      <th>content</th>\n    </tr>\n  </thead>\n  <tbody>\n    <tr>\n      <th>0</th>\n      <td>0</td>\n      <td>17283</td>\n      <td>house republicans fret about winning their hea...</td>\n      <td>New York Times</td>\n      <td>Carl Hulse</td>\n      <td>2016-12-31</td>\n      <td>2016</td>\n      <td>12</td>\n      <td>washington congressional republicans have a ne...</td>\n    </tr>\n    <tr>\n      <th>1</th>\n      <td>1</td>\n      <td>17284</td>\n      <td>rift between officers and residents as killing...</td>\n      <td>New York Times</td>\n      <td>Benjamin Mueller and Al Baker</td>\n      <td>2017-06-19</td>\n      <td>2017</td>\n      <td>6</td>\n      <td>after the bullet shells get counted the blood ...</td>\n    </tr>\n    <tr>\n      <th>2</th>\n      <td>2</td>\n      <td>17285</td>\n      <td>tyrus wongbambiartist thwarted by racial biasd...</td>\n      <td>New York Times</td>\n      <td>Margalit Fox</td>\n      <td>2017-01-06</td>\n      <td>2017</td>\n      <td>1</td>\n      <td>when walt disney s bambi opened in 1942 critic...</td>\n    </tr>\n    <tr>\n      <th>3</th>\n      <td>3</td>\n      <td>17286</td>\n      <td>among deaths in 2016a heavy toll in pop musict...</td>\n      <td>New York Times</td>\n      <td>William McDonald</td>\n      <td>2017-04-10</td>\n      <td>2017</td>\n      <td>4</td>\n      <td>death may be the great equalizer but it isn t ...</td>\n    </tr>\n    <tr>\n      <th>4</th>\n      <td>4</td>\n      <td>17287</td>\n      <td>kim jong un says north korea is preparing to t...</td>\n      <td>New York Times</td>\n      <td>Choe Sang-Hun</td>\n      <td>2017-01-02</td>\n      <td>2017</td>\n      <td>1</td>\n      <td>seoul south korea north korea s leader kim sai...</td>\n    </tr>\n  </tbody>\n</table>\n</div>"
     },
     "execution_count": 65,
     "metadata": {},
     "output_type": "execute_result"
    }
   ],
   "source": [
    "# remove unnecessary words\n",
    "# remove publication from title\n",
    "publication_unique_values = data_frame[\"publication\"].unique()\n",
    "for publication in publication_unique_values:\n",
    "    data_frame[\"title\"] = data_frame['title'].str.replace(\".\" + publication + \"$\", \"\", regex=True)\n",
    "\n",
    "data_frame.head()"
   ],
   "metadata": {
    "collapsed": false,
    "pycharm": {
     "name": "#%%\n"
    }
   }
  },
  {
   "cell_type": "markdown",
   "source": [
    "## 5- Remove Stop Words"
   ],
   "metadata": {
    "collapsed": false,
    "pycharm": {
     "name": "#%% md\n"
    }
   }
  },
  {
   "cell_type": "code",
   "execution_count": 66,
   "outputs": [],
   "source": [
    "STOPWORDS = set(stopwords.words(\"english\"))\n",
    "def remove_stop_words(text):\n",
    "    return \" \".join([word for word in text.split() if word not in STOPWORDS])\n",
    "\n",
    "data_frame[\"title\"] = data_frame[\"title\"].apply(lambda x: remove_stop_words(x))\n",
    "\n",
    "data_frame[\"content\"] = data_frame[\"content\"].apply(lambda x: remove_stop_words(x))"
   ],
   "metadata": {
    "collapsed": false,
    "pycharm": {
     "name": "#%%\n"
    }
   }
  },
  {
   "cell_type": "markdown",
   "source": [
    "## 6- Remove frequently words"
   ],
   "metadata": {
    "collapsed": false,
    "pycharm": {
     "name": "#%% md\n"
    }
   }
  },
  {
   "cell_type": "code",
   "execution_count": 67,
   "outputs": [],
   "source": [
    "word_counter_title = Counter()\n",
    "word_counter_content = Counter()\n",
    "def get_most_frequently_words(column_name, word_counter):\n",
    "    for text in data_frame[column_name]:\n",
    "        for word in text.split():\n",
    "            word_counter[word] += 1\n",
    "    return word_counter\n",
    "\n",
    "# get the most common frequently words in [title] more than 1000\n",
    "word_frequency_title = get_most_frequently_words(\"title\", word_counter_title).most_common(10)\n",
    "\n",
    "# get the most common frequently words in [content]\n",
    "word_frequency_content = get_most_frequently_words(\"content\", word_counter_content).most_common(10)"
   ],
   "metadata": {
    "collapsed": false,
    "pycharm": {
     "name": "#%%\n"
    }
   }
  },
  {
   "cell_type": "code",
   "execution_count": 68,
   "outputs": [],
   "source": [
    "FREQUENT_WORDS_TITLE = set(word for (word, word_count) in get_most_frequently_words(\"title\", word_counter_title).most_common(10))\n",
    "FREQUENT_WORDS_CONTENT = set(word for (word, word_count) in get_most_frequently_words(\"content\", word_counter_content).most_common(10))\n",
    "\n",
    "def remove_frequent_words(string_text, frequent_words):\n",
    "    return \" \".join([word for word in string_text.split() if word not in frequent_words])\n",
    "\n",
    "data_frame[\"title\"] = data_frame[\"title\"].apply(lambda x: remove_frequent_words(x, FREQUENT_WORDS_TITLE))\n",
    "\n",
    "data_frame[\"content\"] = data_frame[\"content\"].apply(lambda x: remove_frequent_words(x, FREQUENT_WORDS_CONTENT))"
   ],
   "metadata": {
    "collapsed": false,
    "pycharm": {
     "name": "#%%\n"
    }
   }
  },
  {
   "cell_type": "markdown",
   "source": [
    "## 7- Remove rare words"
   ],
   "metadata": {
    "collapsed": false,
    "pycharm": {
     "name": "#%% md\n"
    }
   }
  },
  {
   "cell_type": "code",
   "execution_count": null,
   "outputs": [],
   "source": [
    "RARE_WORDS_TITLE = set(word for (word, word_count) in get_most_frequently_words(\"title\", word_counter_title).most_common()[:-10:-1])\n",
    "\n",
    "RARE_WORDS_CONTENT = set(word for (word, word_count) in get_most_frequently_words(\"content\", word_counter_content).most_common()[:-10:-1])\n",
    "\n",
    "def remove_rare_words(string_text, rare_words):\n",
    "    return \" \".join([word for word in string_text.split() if word not in rare_words])\n",
    "\n",
    "data_frame[\"title\"] = data_frame[\"title\"].apply(lambda x: remove_rare_words(x, RARE_WORDS_TITLE))\n",
    "\n",
    "data_frame[\"content\"] = data_frame[\"content\"].apply(lambda x: remove_rare_words(x, RARE_WORDS_CONTENT))"
   ],
   "metadata": {
    "collapsed": false,
    "pycharm": {
     "name": "#%%\n",
     "is_executing": true
    }
   }
  },
  {
   "cell_type": "markdown",
   "source": [
    "## 8- Apply Stemming"
   ],
   "metadata": {
    "collapsed": false,
    "pycharm": {
     "name": "#%% md\n"
    }
   }
  },
  {
   "cell_type": "code",
   "execution_count": null,
   "outputs": [],
   "source": [
    "porter_stemmer_title = PorterStemmer()\n",
    "porter_stemmer_content = PorterStemmer()\n",
    "def stemming_words(text, porter_stemmer):\n",
    "    return \" \".join([porter_stemmer.stem(word) for word in text.split()])\n",
    "\n",
    "data_frame[\"title\"] = data_frame[\"title\"].apply(lambda x: stemming_words(x, porter_stemmer_title))\n",
    "\n",
    "data_frame[\"content\"] = data_frame[\"content\"].apply(lambda x: stemming_words(x, porter_stemmer_content))"
   ],
   "metadata": {
    "collapsed": false,
    "pycharm": {
     "name": "#%%\n",
     "is_executing": true
    }
   }
  },
  {
   "cell_type": "markdown",
   "source": [
    "## 9- Apply POS and Lemmatization"
   ],
   "metadata": {
    "collapsed": false,
    "pycharm": {
     "name": "#%% md\n"
    }
   }
  },
  {
   "cell_type": "code",
   "execution_count": null,
   "outputs": [],
   "source": [
    "lemmatizer_title = WordNetLemmatizer()\n",
    "lemmatizer_content = WordNetLemmatizer()\n",
    "wordnet_map = {\"N\": wordnet.NOUN, \"V\": wordnet.VERB, \"J\": wordnet.ADJ, \"R\": wordnet.ADV}\n",
    "\n",
    "def lemmatize_words(text, lemmatizer):\n",
    "    # apply POS tagging\n",
    "    pos_text = pos_tag(text.split())\n",
    "    return \" \".join([lemmatizer.lemmatize(word, wordnet_map.get(pos[0],  wordnet.NOUN)) for word, pos in pos_text])\n",
    "\n",
    "data_frame[\"title\"] = data_frame[\"title\"].apply(lambda x: lemmatize_words(x, lemmatizer_title))\n",
    "\n",
    "data_frame[\"content\"] = data_frame[\"content\"].apply(lambda x: lemmatize_words(x, lemmatizer_content))"
   ],
   "metadata": {
    "collapsed": false,
    "pycharm": {
     "name": "#%%\n",
     "is_executing": true
    }
   }
  },
  {
   "cell_type": "markdown",
   "source": [],
   "metadata": {
    "collapsed": false,
    "pycharm": {
     "name": "#%% md\n"
    }
   }
  },
  {
   "cell_type": "code",
   "execution_count": null,
   "outputs": [],
   "source": [
    "# Drop id column because it contain unnecessary unique values\n",
    "data_frame.drop(columns=['id'], inplace=True)\n",
    "data_frame.head()"
   ],
   "metadata": {
    "collapsed": false,
    "pycharm": {
     "name": "#%%\n",
     "is_executing": true
    }
   }
  },
  {
   "cell_type": "code",
   "execution_count": null,
   "outputs": [],
   "source": [
    "# extract day from date column and rename column to day\n",
    "data_frame['date'] = data_frame['date'].astype('string')\n",
    "data_frame['date'] = data_frame['date'].str.replace(\"-\", \"/\")\n",
    "data_frame[[\"year\", \"month\", \"day\"]] = data_frame[\"date\"].str.split(\"/\", expand = True)\n",
    "data_frame['date'] = data_frame['day']\n",
    "data_frame.drop(columns=[\"day\"], inplace=True)\n",
    "data_frame.rename(columns={\"date\": \"day\"}, inplace=True)\n",
    "data_frame.head()"
   ],
   "metadata": {
    "collapsed": false,
    "pycharm": {
     "name": "#%%\n",
     "is_executing": true
    }
   }
  },
  {
   "cell_type": "markdown",
   "source": [
    "## 2- Dealing with categorical data (Nominal Data)"
   ],
   "metadata": {
    "collapsed": false,
    "pycharm": {
     "name": "#%% md\n"
    }
   }
  },
  {
   "cell_type": "code",
   "execution_count": null,
   "outputs": [],
   "source": [
    "# get number of unique values in publication column\n",
    "publication_unique_values = data_frame[\"publication\"].unique()\n",
    "print(\"Publication unique values = \", len(publication_unique_values))"
   ],
   "metadata": {
    "collapsed": false,
    "pycharm": {
     "name": "#%%\n",
     "is_executing": true
    }
   }
  },
  {
   "cell_type": "code",
   "execution_count": null,
   "outputs": [],
   "source": [
    "# apply one hot encoding in publication column\n",
    "data_frame = pd.get_dummies(data=data_frame, columns=[\"publication\"])\n",
    "data_frame.dtypes"
   ],
   "metadata": {
    "collapsed": false,
    "pycharm": {
     "name": "#%%\n",
     "is_executing": true
    }
   }
  },
  {
   "cell_type": "code",
   "execution_count": null,
   "outputs": [],
   "source": [
    "# get number of unique values in author column\n",
    "author_unique_values = Counter()\n",
    "for text in data_frame[\"author\"]:\n",
    "        for author_name in re.split('and|,',text):\n",
    "            author_unique_values[author_name] += 1\n",
    "\n",
    "print(\"Author unique values = \", len(author_unique_values))\n",
    "print(author_unique_values)"
   ],
   "metadata": {
    "collapsed": false,
    "pycharm": {
     "name": "#%%\n",
     "is_executing": true
    }
   }
  },
  {
   "cell_type": "code",
   "execution_count": null,
   "outputs": [],
   "source": [
    "def split_authors(text):\n",
    "    return ','.join([word for word in re.split('and|,',text)])\n",
    "\n",
    "data_frame[\"author\"] = data_frame[\"author\"].apply(lambda x: split_authors(x))\n",
    "\n",
    "data_frame[\"author\"]\n",
    "\n",
    "print(author_unique_values[\"benjamin mueller\"], \"other\" , author_unique_values[\"al baker\"])"
   ],
   "metadata": {
    "collapsed": false,
    "pycharm": {
     "name": "#%%\n",
     "is_executing": true
    }
   }
  },
  {
   "cell_type": "code",
   "execution_count": null,
   "outputs": [],
   "source": [
    "# apply mapping in author\n",
    "mapping_author = {}\n",
    "unique_authors = data_frame[\"author\"].str.lower().unique()\n",
    "for index, author in enumerate(unique_authors):\n",
    "    mapping_author[author] = index\n",
    "\n",
    "data_frame = data_frame.replace({\n",
    "    \"author\" : mapping_author\n",
    "})\n",
    "data_frame.head()"
   ],
   "metadata": {
    "collapsed": false,
    "pycharm": {
     "name": "#%%\n",
     "is_executing": true
    }
   }
  },
  {
   "cell_type": "code",
   "execution_count": null,
   "outputs": [],
   "source": [],
   "metadata": {
    "collapsed": false,
    "pycharm": {
     "name": "#%%\n",
     "is_executing": true
    }
   }
  }
 ],
 "metadata": {
  "kernelspec": {
   "display_name": "Python 3",
   "language": "python",
   "name": "python3"
  },
  "language_info": {
   "codemirror_mode": {
    "name": "ipython",
    "version": 2
   },
   "file_extension": ".py",
   "mimetype": "text/x-python",
   "name": "python",
   "nbconvert_exporter": "python",
   "pygments_lexer": "ipython2",
   "version": "2.7.6"
  }
 },
 "nbformat": 4,
 "nbformat_minor": 0
}