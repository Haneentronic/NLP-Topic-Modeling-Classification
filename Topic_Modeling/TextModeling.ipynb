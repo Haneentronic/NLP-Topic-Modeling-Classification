{
 "cells": [
  {
   "cell_type": "markdown",
   "source": [
    "# Imports"
   ],
   "metadata": {
    "collapsed": false,
    "pycharm": {
     "name": "#%% md\n"
    }
   }
  },
  {
   "cell_type": "code",
   "execution_count": 30,
   "outputs": [],
   "source": [
    "import pandas as pd"
   ],
   "metadata": {
    "collapsed": false,
    "pycharm": {
     "name": "#%%\n"
    }
   }
  },
  {
   "cell_type": "markdown",
   "source": [
    "# Data Preprocessing\n",
    "## 1- Handel Missing values"
   ],
   "metadata": {
    "collapsed": false,
    "pycharm": {
     "name": "#%% md\n"
    }
   }
  },
  {
   "cell_type": "code",
   "execution_count": 31,
   "outputs": [
    {
     "data": {
      "text/plain": "   Unnamed: 0     id                                              title  \\\n0           0  17283  House Republicans Fret About Winning Their Hea...   \n1           1  17284  Rift Between Officers and Residents as Killing...   \n2           2  17285  Tyrus Wong, ‘Bambi’ Artist Thwarted by Racial ...   \n3           3  17286  Among Deaths in 2016, a Heavy Toll in Pop Musi...   \n4           4  17287  Kim Jong-un Says North Korea Is Preparing to T...   \n\n      publication                         author        date    year  month  \\\n0  New York Times                     Carl Hulse  2016-12-31  2016.0   12.0   \n1  New York Times  Benjamin Mueller and Al Baker  2017-06-19  2017.0    6.0   \n2  New York Times                   Margalit Fox  2017-01-06  2017.0    1.0   \n3  New York Times               William McDonald  2017-04-10  2017.0    4.0   \n4  New York Times                  Choe Sang-Hun  2017-01-02  2017.0    1.0   \n\n   url                                            content  \n0  NaN  WASHINGTON  —   Congressional Republicans have...  \n1  NaN  After the bullet shells get counted, the blood...  \n2  NaN  When Walt Disney’s “Bambi” opened in 1942, cri...  \n3  NaN  Death may be the great equalizer, but it isn’t...  \n4  NaN  SEOUL, South Korea  —   North Korea’s leader, ...  ",
      "text/html": "<div>\n<style scoped>\n    .dataframe tbody tr th:only-of-type {\n        vertical-align: middle;\n    }\n\n    .dataframe tbody tr th {\n        vertical-align: top;\n    }\n\n    .dataframe thead th {\n        text-align: right;\n    }\n</style>\n<table border=\"1\" class=\"dataframe\">\n  <thead>\n    <tr style=\"text-align: right;\">\n      <th></th>\n      <th>Unnamed: 0</th>\n      <th>id</th>\n      <th>title</th>\n      <th>publication</th>\n      <th>author</th>\n      <th>date</th>\n      <th>year</th>\n      <th>month</th>\n      <th>url</th>\n      <th>content</th>\n    </tr>\n  </thead>\n  <tbody>\n    <tr>\n      <th>0</th>\n      <td>0</td>\n      <td>17283</td>\n      <td>House Republicans Fret About Winning Their Hea...</td>\n      <td>New York Times</td>\n      <td>Carl Hulse</td>\n      <td>2016-12-31</td>\n      <td>2016.0</td>\n      <td>12.0</td>\n      <td>NaN</td>\n      <td>WASHINGTON  —   Congressional Republicans have...</td>\n    </tr>\n    <tr>\n      <th>1</th>\n      <td>1</td>\n      <td>17284</td>\n      <td>Rift Between Officers and Residents as Killing...</td>\n      <td>New York Times</td>\n      <td>Benjamin Mueller and Al Baker</td>\n      <td>2017-06-19</td>\n      <td>2017.0</td>\n      <td>6.0</td>\n      <td>NaN</td>\n      <td>After the bullet shells get counted, the blood...</td>\n    </tr>\n    <tr>\n      <th>2</th>\n      <td>2</td>\n      <td>17285</td>\n      <td>Tyrus Wong, ‘Bambi’ Artist Thwarted by Racial ...</td>\n      <td>New York Times</td>\n      <td>Margalit Fox</td>\n      <td>2017-01-06</td>\n      <td>2017.0</td>\n      <td>1.0</td>\n      <td>NaN</td>\n      <td>When Walt Disney’s “Bambi” opened in 1942, cri...</td>\n    </tr>\n    <tr>\n      <th>3</th>\n      <td>3</td>\n      <td>17286</td>\n      <td>Among Deaths in 2016, a Heavy Toll in Pop Musi...</td>\n      <td>New York Times</td>\n      <td>William McDonald</td>\n      <td>2017-04-10</td>\n      <td>2017.0</td>\n      <td>4.0</td>\n      <td>NaN</td>\n      <td>Death may be the great equalizer, but it isn’t...</td>\n    </tr>\n    <tr>\n      <th>4</th>\n      <td>4</td>\n      <td>17287</td>\n      <td>Kim Jong-un Says North Korea Is Preparing to T...</td>\n      <td>New York Times</td>\n      <td>Choe Sang-Hun</td>\n      <td>2017-01-02</td>\n      <td>2017.0</td>\n      <td>1.0</td>\n      <td>NaN</td>\n      <td>SEOUL, South Korea  —   North Korea’s leader, ...</td>\n    </tr>\n  </tbody>\n</table>\n</div>"
     },
     "execution_count": 31,
     "metadata": {},
     "output_type": "execute_result"
    }
   ],
   "source": [
    "data_frame = pd.read_csv(\"../Dataset/articles.csv\")\n",
    "data_frame.head()"
   ],
   "metadata": {
    "collapsed": false,
    "pycharm": {
     "name": "#%%\n"
    }
   }
  },
  {
   "cell_type": "markdown",
   "source": [
    "### a- Handel columns with missing values"
   ],
   "metadata": {
    "collapsed": false,
    "pycharm": {
     "name": "#%% md\n"
    }
   }
  },
  {
   "cell_type": "code",
   "execution_count": 32,
   "outputs": [
    {
     "data": {
      "text/plain": "Unnamed: 0       0.000\nid               0.000\ntitle            0.000\npublication      0.000\nauthor          12.612\ndate             0.000\nyear             0.000\nmonth            0.000\nurl            100.000\ncontent          0.000\ndtype: float64"
     },
     "execution_count": 32,
     "metadata": {},
     "output_type": "execute_result"
    }
   ],
   "source": [
    "# Get total number of nulls in each column\n",
    "data_frame.isnull().sum() / len(data_frame) * 100"
   ],
   "metadata": {
    "collapsed": false,
    "pycharm": {
     "name": "#%%\n"
    }
   }
  },
  {
   "cell_type": "code",
   "execution_count": 33,
   "outputs": [
    {
     "data": {
      "text/plain": "Unnamed: 0      0.000\nid              0.000\ntitle           0.000\npublication     0.000\nauthor         12.612\ndate            0.000\nyear            0.000\nmonth           0.000\ncontent         0.000\ndtype: float64"
     },
     "execution_count": 33,
     "metadata": {},
     "output_type": "execute_result"
    }
   ],
   "source": [
    "# Remove url column because it's empty(100% null values)\n",
    "data_frame.drop(columns=['url'], inplace=True)\n",
    "data_frame.isnull().sum() / len(data_frame) * 100"
   ],
   "metadata": {
    "collapsed": false,
    "pycharm": {
     "name": "#%%\n"
    }
   }
  },
  {
   "cell_type": "markdown",
   "source": [
    "### b- Handel rows with missing values"
   ],
   "metadata": {
    "collapsed": false,
    "pycharm": {
     "name": "#%% md\n"
    }
   }
  },
  {
   "cell_type": "code",
   "execution_count": 34,
   "outputs": [
    {
     "name": "stdout",
     "output_type": "stream",
     "text": [
      "Number of rows contain null values = 12.612000000000002 %\n"
     ]
    }
   ],
   "source": [
    "# Get percentage of number of rows contain missing values\n",
    "mask = data_frame.isnull().any(axis=1)\n",
    "rows_with_missing_values = mask.sum() / len(data_frame)*100\n",
    "print(\"Number of rows contain null values =\", rows_with_missing_values, \"%\")"
   ],
   "metadata": {
    "collapsed": false,
    "pycharm": {
     "name": "#%%\n"
    }
   }
  },
  {
   "cell_type": "code",
   "execution_count": 35,
   "outputs": [
    {
     "data": {
      "text/plain": "Unnamed: 0     0.0\nid             0.0\ntitle          0.0\npublication    0.0\nauthor         0.0\ndate           0.0\nyear           0.0\nmonth          0.0\ncontent        0.0\ndtype: float64"
     },
     "execution_count": 35,
     "metadata": {},
     "output_type": "execute_result"
    }
   ],
   "source": [
    "# Drop rows contain null values\n",
    "data_frame.dropna(inplace=True)\n",
    "data_frame.isnull().sum() / len(data_frame) * 100"
   ],
   "metadata": {
    "collapsed": false,
    "pycharm": {
     "name": "#%%\n"
    }
   }
  },
  {
   "cell_type": "markdown",
   "source": [
    "## 2- Handel columns data types"
   ],
   "metadata": {
    "collapsed": false,
    "pycharm": {
     "name": "#%% md\n"
    }
   }
  },
  {
   "cell_type": "code",
   "execution_count": 36,
   "outputs": [
    {
     "data": {
      "text/plain": "Unnamed: 0       int64\nid               int64\ntitle           object\npublication     object\nauthor          object\ndate            object\nyear           float64\nmonth          float64\ncontent         object\ndtype: object"
     },
     "execution_count": 36,
     "metadata": {},
     "output_type": "execute_result"
    }
   ],
   "source": [
    "data_frame.dtypes"
   ],
   "metadata": {
    "collapsed": false,
    "pycharm": {
     "name": "#%%\n"
    }
   }
  },
  {
   "cell_type": "code",
   "execution_count": 37,
   "outputs": [
    {
     "data": {
      "text/plain": "Unnamed: 0              int64\nid                      int64\ntitle                  string\npublication            string\nauthor                 string\ndate           datetime64[ns]\nyear                    int64\nmonth                   int64\ncontent                string\ndtype: object"
     },
     "execution_count": 37,
     "metadata": {},
     "output_type": "execute_result"
    }
   ],
   "source": [
    "data_frame= data_frame.astype({\"title\": \"string\",\n",
    "                               \"publication\": \"string\",\n",
    "                               \"author\": \"string\",\n",
    "                               \"date\": \"datetime64\",\n",
    "                               \"year\": \"int64\",\n",
    "                               \"month\": \"int64\",\n",
    "                               \"content\": \"string\"})\n",
    "\n",
    "data_frame.dtypes"
   ],
   "metadata": {
    "collapsed": false,
    "pycharm": {
     "name": "#%%\n"
    }
   }
  },
  {
   "cell_type": "markdown",
   "source": [
    "## 3- Dealing with unnecessary columns"
   ],
   "metadata": {
    "collapsed": false,
    "pycharm": {
     "name": "#%% md\n"
    }
   }
  },
  {
   "cell_type": "code",
   "execution_count": 38,
   "outputs": [
    {
     "data": {
      "text/plain": "   Unnamed: 0                                              title  \\\n0           0  House Republicans Fret About Winning Their Hea...   \n1           1  Rift Between Officers and Residents as Killing...   \n2           2  Tyrus Wong, ‘Bambi’ Artist Thwarted by Racial ...   \n3           3  Among Deaths in 2016, a Heavy Toll in Pop Musi...   \n4           4  Kim Jong-un Says North Korea Is Preparing to T...   \n\n      publication                         author       date  year  month  \\\n0  New York Times                     Carl Hulse 2016-12-31  2016     12   \n1  New York Times  Benjamin Mueller and Al Baker 2017-06-19  2017      6   \n2  New York Times                   Margalit Fox 2017-01-06  2017      1   \n3  New York Times               William McDonald 2017-04-10  2017      4   \n4  New York Times                  Choe Sang-Hun 2017-01-02  2017      1   \n\n                                             content  \n0  WASHINGTON  —   Congressional Republicans have...  \n1  After the bullet shells get counted, the blood...  \n2  When Walt Disney’s “Bambi” opened in 1942, cri...  \n3  Death may be the great equalizer, but it isn’t...  \n4  SEOUL, South Korea  —   North Korea’s leader, ...  ",
      "text/html": "<div>\n<style scoped>\n    .dataframe tbody tr th:only-of-type {\n        vertical-align: middle;\n    }\n\n    .dataframe tbody tr th {\n        vertical-align: top;\n    }\n\n    .dataframe thead th {\n        text-align: right;\n    }\n</style>\n<table border=\"1\" class=\"dataframe\">\n  <thead>\n    <tr style=\"text-align: right;\">\n      <th></th>\n      <th>Unnamed: 0</th>\n      <th>title</th>\n      <th>publication</th>\n      <th>author</th>\n      <th>date</th>\n      <th>year</th>\n      <th>month</th>\n      <th>content</th>\n    </tr>\n  </thead>\n  <tbody>\n    <tr>\n      <th>0</th>\n      <td>0</td>\n      <td>House Republicans Fret About Winning Their Hea...</td>\n      <td>New York Times</td>\n      <td>Carl Hulse</td>\n      <td>2016-12-31</td>\n      <td>2016</td>\n      <td>12</td>\n      <td>WASHINGTON  —   Congressional Republicans have...</td>\n    </tr>\n    <tr>\n      <th>1</th>\n      <td>1</td>\n      <td>Rift Between Officers and Residents as Killing...</td>\n      <td>New York Times</td>\n      <td>Benjamin Mueller and Al Baker</td>\n      <td>2017-06-19</td>\n      <td>2017</td>\n      <td>6</td>\n      <td>After the bullet shells get counted, the blood...</td>\n    </tr>\n    <tr>\n      <th>2</th>\n      <td>2</td>\n      <td>Tyrus Wong, ‘Bambi’ Artist Thwarted by Racial ...</td>\n      <td>New York Times</td>\n      <td>Margalit Fox</td>\n      <td>2017-01-06</td>\n      <td>2017</td>\n      <td>1</td>\n      <td>When Walt Disney’s “Bambi” opened in 1942, cri...</td>\n    </tr>\n    <tr>\n      <th>3</th>\n      <td>3</td>\n      <td>Among Deaths in 2016, a Heavy Toll in Pop Musi...</td>\n      <td>New York Times</td>\n      <td>William McDonald</td>\n      <td>2017-04-10</td>\n      <td>2017</td>\n      <td>4</td>\n      <td>Death may be the great equalizer, but it isn’t...</td>\n    </tr>\n    <tr>\n      <th>4</th>\n      <td>4</td>\n      <td>Kim Jong-un Says North Korea Is Preparing to T...</td>\n      <td>New York Times</td>\n      <td>Choe Sang-Hun</td>\n      <td>2017-01-02</td>\n      <td>2017</td>\n      <td>1</td>\n      <td>SEOUL, South Korea  —   North Korea’s leader, ...</td>\n    </tr>\n  </tbody>\n</table>\n</div>"
     },
     "execution_count": 38,
     "metadata": {},
     "output_type": "execute_result"
    }
   ],
   "source": [
    "# Drop id column because it contain unnecessary unique values\n",
    "data_frame.drop(columns=['id'], inplace=True)\n",
    "data_frame.head()"
   ],
   "metadata": {
    "collapsed": false,
    "pycharm": {
     "name": "#%%\n"
    }
   }
  },
  {
   "cell_type": "code",
   "execution_count": 39,
   "outputs": [
    {
     "data": {
      "text/plain": "   Unnamed: 0                                              title  \\\n0           0  House Republicans Fret About Winning Their Hea...   \n1           1  Rift Between Officers and Residents as Killing...   \n2           2  Tyrus Wong, ‘Bambi’ Artist Thwarted by Racial ...   \n3           3  Among Deaths in 2016, a Heavy Toll in Pop Musi...   \n4           4  Kim Jong-un Says North Korea Is Preparing to T...   \n\n      publication                         author day  year month  \\\n0  New York Times                     Carl Hulse  31  2016    12   \n1  New York Times  Benjamin Mueller and Al Baker  19  2017    06   \n2  New York Times                   Margalit Fox  06  2017    01   \n3  New York Times               William McDonald  10  2017    04   \n4  New York Times                  Choe Sang-Hun  02  2017    01   \n\n                                             content  \n0  WASHINGTON  —   Congressional Republicans have...  \n1  After the bullet shells get counted, the blood...  \n2  When Walt Disney’s “Bambi” opened in 1942, cri...  \n3  Death may be the great equalizer, but it isn’t...  \n4  SEOUL, South Korea  —   North Korea’s leader, ...  ",
      "text/html": "<div>\n<style scoped>\n    .dataframe tbody tr th:only-of-type {\n        vertical-align: middle;\n    }\n\n    .dataframe tbody tr th {\n        vertical-align: top;\n    }\n\n    .dataframe thead th {\n        text-align: right;\n    }\n</style>\n<table border=\"1\" class=\"dataframe\">\n  <thead>\n    <tr style=\"text-align: right;\">\n      <th></th>\n      <th>Unnamed: 0</th>\n      <th>title</th>\n      <th>publication</th>\n      <th>author</th>\n      <th>day</th>\n      <th>year</th>\n      <th>month</th>\n      <th>content</th>\n    </tr>\n  </thead>\n  <tbody>\n    <tr>\n      <th>0</th>\n      <td>0</td>\n      <td>House Republicans Fret About Winning Their Hea...</td>\n      <td>New York Times</td>\n      <td>Carl Hulse</td>\n      <td>31</td>\n      <td>2016</td>\n      <td>12</td>\n      <td>WASHINGTON  —   Congressional Republicans have...</td>\n    </tr>\n    <tr>\n      <th>1</th>\n      <td>1</td>\n      <td>Rift Between Officers and Residents as Killing...</td>\n      <td>New York Times</td>\n      <td>Benjamin Mueller and Al Baker</td>\n      <td>19</td>\n      <td>2017</td>\n      <td>06</td>\n      <td>After the bullet shells get counted, the blood...</td>\n    </tr>\n    <tr>\n      <th>2</th>\n      <td>2</td>\n      <td>Tyrus Wong, ‘Bambi’ Artist Thwarted by Racial ...</td>\n      <td>New York Times</td>\n      <td>Margalit Fox</td>\n      <td>06</td>\n      <td>2017</td>\n      <td>01</td>\n      <td>When Walt Disney’s “Bambi” opened in 1942, cri...</td>\n    </tr>\n    <tr>\n      <th>3</th>\n      <td>3</td>\n      <td>Among Deaths in 2016, a Heavy Toll in Pop Musi...</td>\n      <td>New York Times</td>\n      <td>William McDonald</td>\n      <td>10</td>\n      <td>2017</td>\n      <td>04</td>\n      <td>Death may be the great equalizer, but it isn’t...</td>\n    </tr>\n    <tr>\n      <th>4</th>\n      <td>4</td>\n      <td>Kim Jong-un Says North Korea Is Preparing to T...</td>\n      <td>New York Times</td>\n      <td>Choe Sang-Hun</td>\n      <td>02</td>\n      <td>2017</td>\n      <td>01</td>\n      <td>SEOUL, South Korea  —   North Korea’s leader, ...</td>\n    </tr>\n  </tbody>\n</table>\n</div>"
     },
     "execution_count": 39,
     "metadata": {},
     "output_type": "execute_result"
    }
   ],
   "source": [
    "# extract day from date column and rename column to day\n",
    "data_frame['date'] = data_frame['date'].astype('string')\n",
    "data_frame['date'] = data_frame['date'].str.replace(\"-\", \"/\")\n",
    "data_frame[[\"year\", \"month\", \"day\"]] = data_frame[\"date\"].str.split(\"/\", expand = True)\n",
    "data_frame['date'] = data_frame['day']\n",
    "data_frame.drop(columns=[\"day\"], inplace=True)\n",
    "data_frame.rename(columns={\"date\": \"day\"}, inplace=True)\n",
    "data_frame.head()"
   ],
   "metadata": {
    "collapsed": false,
    "pycharm": {
     "name": "#%%\n"
    }
   }
  },
  {
   "cell_type": "markdown",
   "source": [
    "## 4- Dealing with categorical data (Nominal Data)"
   ],
   "metadata": {
    "collapsed": false,
    "pycharm": {
     "name": "#%% md\n"
    }
   }
  },
  {
   "cell_type": "code",
   "execution_count": 40,
   "outputs": [
    {
     "name": "stdout",
     "output_type": "stream",
     "text": [
      "Publication unique values =  5\n"
     ]
    }
   ],
   "source": [
    "# get number of unique values in publication column\n",
    "data_frame[\"publication\"] = data_frame[\"publication\"].str.lower()\n",
    "print(\"Publication unique values = \", len(data_frame[\"publication\"].unique()))"
   ],
   "metadata": {
    "collapsed": false,
    "pycharm": {
     "name": "#%%\n"
    }
   }
  },
  {
   "cell_type": "code",
   "execution_count": 41,
   "outputs": [
    {
     "name": "stdout",
     "output_type": "stream",
     "text": [
      "Author unique values =  3600\n"
     ]
    }
   ],
   "source": [
    "# get number of unique values in author column\n",
    "data_frame[\"author\"] = data_frame[\"author\"].str.lower()\n",
    "print(\"Author unique values = \", len(data_frame[\"author\"].unique()))"
   ],
   "metadata": {
    "collapsed": false,
    "pycharm": {
     "name": "#%%\n"
    }
   }
  },
  {
   "cell_type": "code",
   "execution_count": 42,
   "outputs": [
    {
     "data": {
      "text/plain": "Unnamed: 0                       int64\ntitle                           string\nauthor                          string\nday                             string\nyear                            string\nmonth                           string\ncontent                         string\npublication_atlantic             uint8\npublication_breitbart            uint8\npublication_business insider     uint8\npublication_cnn                  uint8\npublication_new york times       uint8\ndtype: object"
     },
     "execution_count": 42,
     "metadata": {},
     "output_type": "execute_result"
    }
   ],
   "source": [
    "# apply one hot encoding in publication column\n",
    "data_frame = pd.get_dummies(data=data_frame, columns=[\"publication\"])\n",
    "data_frame.dtypes"
   ],
   "metadata": {
    "collapsed": false,
    "pycharm": {
     "name": "#%%\n"
    }
   }
  },
  {
   "cell_type": "code",
   "execution_count": 43,
   "outputs": [
    {
     "data": {
      "text/plain": "   Unnamed: 0                                              title  author day  \\\n0           0  House Republicans Fret About Winning Their Hea...       0  31   \n1           1  Rift Between Officers and Residents as Killing...       1  19   \n2           2  Tyrus Wong, ‘Bambi’ Artist Thwarted by Racial ...       2  06   \n3           3  Among Deaths in 2016, a Heavy Toll in Pop Musi...       3  10   \n4           4  Kim Jong-un Says North Korea Is Preparing to T...       4  02   \n\n   year month                                            content  \\\n0  2016    12  WASHINGTON  —   Congressional Republicans have...   \n1  2017    06  After the bullet shells get counted, the blood...   \n2  2017    01  When Walt Disney’s “Bambi” opened in 1942, cri...   \n3  2017    04  Death may be the great equalizer, but it isn’t...   \n4  2017    01  SEOUL, South Korea  —   North Korea’s leader, ...   \n\n   publication_atlantic  publication_breitbart  publication_business insider  \\\n0                     0                      0                             0   \n1                     0                      0                             0   \n2                     0                      0                             0   \n3                     0                      0                             0   \n4                     0                      0                             0   \n\n   publication_cnn  publication_new york times  \n0                0                           1  \n1                0                           1  \n2                0                           1  \n3                0                           1  \n4                0                           1  ",
      "text/html": "<div>\n<style scoped>\n    .dataframe tbody tr th:only-of-type {\n        vertical-align: middle;\n    }\n\n    .dataframe tbody tr th {\n        vertical-align: top;\n    }\n\n    .dataframe thead th {\n        text-align: right;\n    }\n</style>\n<table border=\"1\" class=\"dataframe\">\n  <thead>\n    <tr style=\"text-align: right;\">\n      <th></th>\n      <th>Unnamed: 0</th>\n      <th>title</th>\n      <th>author</th>\n      <th>day</th>\n      <th>year</th>\n      <th>month</th>\n      <th>content</th>\n      <th>publication_atlantic</th>\n      <th>publication_breitbart</th>\n      <th>publication_business insider</th>\n      <th>publication_cnn</th>\n      <th>publication_new york times</th>\n    </tr>\n  </thead>\n  <tbody>\n    <tr>\n      <th>0</th>\n      <td>0</td>\n      <td>House Republicans Fret About Winning Their Hea...</td>\n      <td>0</td>\n      <td>31</td>\n      <td>2016</td>\n      <td>12</td>\n      <td>WASHINGTON  —   Congressional Republicans have...</td>\n      <td>0</td>\n      <td>0</td>\n      <td>0</td>\n      <td>0</td>\n      <td>1</td>\n    </tr>\n    <tr>\n      <th>1</th>\n      <td>1</td>\n      <td>Rift Between Officers and Residents as Killing...</td>\n      <td>1</td>\n      <td>19</td>\n      <td>2017</td>\n      <td>06</td>\n      <td>After the bullet shells get counted, the blood...</td>\n      <td>0</td>\n      <td>0</td>\n      <td>0</td>\n      <td>0</td>\n      <td>1</td>\n    </tr>\n    <tr>\n      <th>2</th>\n      <td>2</td>\n      <td>Tyrus Wong, ‘Bambi’ Artist Thwarted by Racial ...</td>\n      <td>2</td>\n      <td>06</td>\n      <td>2017</td>\n      <td>01</td>\n      <td>When Walt Disney’s “Bambi” opened in 1942, cri...</td>\n      <td>0</td>\n      <td>0</td>\n      <td>0</td>\n      <td>0</td>\n      <td>1</td>\n    </tr>\n    <tr>\n      <th>3</th>\n      <td>3</td>\n      <td>Among Deaths in 2016, a Heavy Toll in Pop Musi...</td>\n      <td>3</td>\n      <td>10</td>\n      <td>2017</td>\n      <td>04</td>\n      <td>Death may be the great equalizer, but it isn’t...</td>\n      <td>0</td>\n      <td>0</td>\n      <td>0</td>\n      <td>0</td>\n      <td>1</td>\n    </tr>\n    <tr>\n      <th>4</th>\n      <td>4</td>\n      <td>Kim Jong-un Says North Korea Is Preparing to T...</td>\n      <td>4</td>\n      <td>02</td>\n      <td>2017</td>\n      <td>01</td>\n      <td>SEOUL, South Korea  —   North Korea’s leader, ...</td>\n      <td>0</td>\n      <td>0</td>\n      <td>0</td>\n      <td>0</td>\n      <td>1</td>\n    </tr>\n  </tbody>\n</table>\n</div>"
     },
     "execution_count": 43,
     "metadata": {},
     "output_type": "execute_result"
    }
   ],
   "source": [
    "# apply mapping in author\n",
    "mapping_author = {}\n",
    "unique_authors = data_frame[\"author\"].str.lower().unique()\n",
    "for index, author in enumerate(unique_authors):\n",
    "    mapping_author[author] = index\n",
    "\n",
    "data_frame = data_frame.replace({\n",
    "    \"author\" : mapping_author\n",
    "})\n",
    "data_frame.head()"
   ],
   "metadata": {
    "collapsed": false,
    "pycharm": {
     "name": "#%%\n"
    }
   }
  },
  {
   "cell_type": "markdown",
   "source": [
    "# Text Preprocessing NLP Pipeline"
   ],
   "metadata": {
    "collapsed": false,
    "pycharm": {
     "name": "#%% md\n"
    }
   }
  },
  {
   "cell_type": "markdown",
   "source": [
    "## 1- convert to lowercase"
   ],
   "metadata": {
    "collapsed": false,
    "pycharm": {
     "name": "#%% md\n"
    }
   }
  },
  {
   "cell_type": "code",
   "execution_count": 44,
   "outputs": [
    {
     "data": {
      "text/plain": "   Unnamed: 0                                              title  author day  \\\n0           0  house republicans fret about winning their hea...       0  31   \n1           1  rift between officers and residents as killing...       1  19   \n2           2  tyrus wong, ‘bambi’ artist thwarted by racial ...       2  06   \n3           3  among deaths in 2016, a heavy toll in pop musi...       3  10   \n4           4  kim jong-un says north korea is preparing to t...       4  02   \n\n   year month                                            content  \\\n0  2016    12  washington  —   congressional republicans have...   \n1  2017    06  after the bullet shells get counted, the blood...   \n2  2017    01  when walt disney’s “bambi” opened in 1942, cri...   \n3  2017    04  death may be the great equalizer, but it isn’t...   \n4  2017    01  seoul, south korea  —   north korea’s leader, ...   \n\n   publication_atlantic  publication_breitbart  publication_business insider  \\\n0                     0                      0                             0   \n1                     0                      0                             0   \n2                     0                      0                             0   \n3                     0                      0                             0   \n4                     0                      0                             0   \n\n   publication_cnn  publication_new york times  \n0                0                           1  \n1                0                           1  \n2                0                           1  \n3                0                           1  \n4                0                           1  ",
      "text/html": "<div>\n<style scoped>\n    .dataframe tbody tr th:only-of-type {\n        vertical-align: middle;\n    }\n\n    .dataframe tbody tr th {\n        vertical-align: top;\n    }\n\n    .dataframe thead th {\n        text-align: right;\n    }\n</style>\n<table border=\"1\" class=\"dataframe\">\n  <thead>\n    <tr style=\"text-align: right;\">\n      <th></th>\n      <th>Unnamed: 0</th>\n      <th>title</th>\n      <th>author</th>\n      <th>day</th>\n      <th>year</th>\n      <th>month</th>\n      <th>content</th>\n      <th>publication_atlantic</th>\n      <th>publication_breitbart</th>\n      <th>publication_business insider</th>\n      <th>publication_cnn</th>\n      <th>publication_new york times</th>\n    </tr>\n  </thead>\n  <tbody>\n    <tr>\n      <th>0</th>\n      <td>0</td>\n      <td>house republicans fret about winning their hea...</td>\n      <td>0</td>\n      <td>31</td>\n      <td>2016</td>\n      <td>12</td>\n      <td>washington  —   congressional republicans have...</td>\n      <td>0</td>\n      <td>0</td>\n      <td>0</td>\n      <td>0</td>\n      <td>1</td>\n    </tr>\n    <tr>\n      <th>1</th>\n      <td>1</td>\n      <td>rift between officers and residents as killing...</td>\n      <td>1</td>\n      <td>19</td>\n      <td>2017</td>\n      <td>06</td>\n      <td>after the bullet shells get counted, the blood...</td>\n      <td>0</td>\n      <td>0</td>\n      <td>0</td>\n      <td>0</td>\n      <td>1</td>\n    </tr>\n    <tr>\n      <th>2</th>\n      <td>2</td>\n      <td>tyrus wong, ‘bambi’ artist thwarted by racial ...</td>\n      <td>2</td>\n      <td>06</td>\n      <td>2017</td>\n      <td>01</td>\n      <td>when walt disney’s “bambi” opened in 1942, cri...</td>\n      <td>0</td>\n      <td>0</td>\n      <td>0</td>\n      <td>0</td>\n      <td>1</td>\n    </tr>\n    <tr>\n      <th>3</th>\n      <td>3</td>\n      <td>among deaths in 2016, a heavy toll in pop musi...</td>\n      <td>3</td>\n      <td>10</td>\n      <td>2017</td>\n      <td>04</td>\n      <td>death may be the great equalizer, but it isn’t...</td>\n      <td>0</td>\n      <td>0</td>\n      <td>0</td>\n      <td>0</td>\n      <td>1</td>\n    </tr>\n    <tr>\n      <th>4</th>\n      <td>4</td>\n      <td>kim jong-un says north korea is preparing to t...</td>\n      <td>4</td>\n      <td>02</td>\n      <td>2017</td>\n      <td>01</td>\n      <td>seoul, south korea  —   north korea’s leader, ...</td>\n      <td>0</td>\n      <td>0</td>\n      <td>0</td>\n      <td>0</td>\n      <td>1</td>\n    </tr>\n  </tbody>\n</table>\n</div>"
     },
     "execution_count": 44,
     "metadata": {},
     "output_type": "execute_result"
    }
   ],
   "source": [
    "data_frame[\"title\"] = data_frame[\"title\"].str.lower()\n",
    "data_frame[\"content\"] = data_frame[\"content\"].str.lower()\n",
    "data_frame.head()"
   ],
   "metadata": {
    "collapsed": false,
    "pycharm": {
     "name": "#%%\n"
    }
   }
  },
  {
   "cell_type": "markdown",
   "source": [
    "## 2- Remove Punctuations"
   ],
   "metadata": {
    "collapsed": false,
    "pycharm": {
     "name": "#%% md\n"
    }
   }
  },
  {
   "cell_type": "code",
   "execution_count": null,
   "outputs": [],
   "source": [],
   "metadata": {
    "collapsed": false,
    "pycharm": {
     "name": "#%%\n"
    }
   }
  }
 ],
 "metadata": {
  "kernelspec": {
   "display_name": "Python 3",
   "language": "python",
   "name": "python3"
  },
  "language_info": {
   "codemirror_mode": {
    "name": "ipython",
    "version": 2
   },
   "file_extension": ".py",
   "mimetype": "text/x-python",
   "name": "python",
   "nbconvert_exporter": "python",
   "pygments_lexer": "ipython2",
   "version": "2.7.6"
  }
 },
 "nbformat": 4,
 "nbformat_minor": 0
}