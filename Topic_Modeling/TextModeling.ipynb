{
 "cells": [
  {
   "cell_type": "markdown",
   "source": [
    "# Imports"
   ],
   "metadata": {
    "collapsed": false,
    "pycharm": {
     "name": "#%% md\n"
    }
   }
  },
  {
   "cell_type": "code",
   "execution_count": 351,
   "outputs": [],
   "source": [
    "import pandas as pd\n",
    "import string\n",
    "import re\n",
    "from nltk.tokenize import sent_tokenize, word_tokenize\n",
    "from nltk.corpus import stopwords\n",
    "from collections import Counter\n",
    "from nltk.stem import PorterStemmer\n",
    "from nltk import pos_tag\n",
    "from nltk.corpus import wordnet\n",
    "from nltk.stem import WordNetLemmatizer"
   ],
   "metadata": {
    "collapsed": false,
    "pycharm": {
     "name": "#%%\n"
    }
   }
  },
  {
   "cell_type": "markdown",
   "source": [
    "# Data Reading"
   ],
   "metadata": {
    "collapsed": false,
    "pycharm": {
     "name": "#%% md\n"
    }
   }
  },
  {
   "cell_type": "code",
   "execution_count": 352,
   "outputs": [],
   "source": [
    "data_frame = pd.read_csv(\"../Dataset/articles.csv\")\n",
    "data_frame.head()\n",
    "\n",
    "data_frame = data_frame.head(100)"
   ],
   "metadata": {
    "collapsed": false,
    "pycharm": {
     "name": "#%%\n"
    }
   }
  },
  {
   "cell_type": "markdown",
   "source": [
    "# Data Preprocessing\n",
    "## 1- Handel Missing values\n",
    "### a- Handel columns with missing values"
   ],
   "metadata": {
    "collapsed": false,
    "pycharm": {
     "name": "#%% md\n"
    }
   }
  },
  {
   "cell_type": "code",
   "execution_count": 353,
   "outputs": [
    {
     "data": {
      "text/plain": "Unnamed: 0       0.0\nid               0.0\ntitle            0.0\npublication      0.0\nauthor           2.0\ndate             0.0\nyear             0.0\nmonth            0.0\nurl            100.0\ncontent          0.0\ndtype: float64"
     },
     "execution_count": 353,
     "metadata": {},
     "output_type": "execute_result"
    }
   ],
   "source": [
    "# Get total number of nulls in each column\n",
    "data_frame.isnull().sum() / len(data_frame) * 100"
   ],
   "metadata": {
    "collapsed": false,
    "pycharm": {
     "name": "#%%\n"
    }
   }
  },
  {
   "cell_type": "code",
   "execution_count": 354,
   "outputs": [
    {
     "data": {
      "text/plain": "Unnamed: 0     0.0\nid             0.0\ntitle          0.0\npublication    0.0\nauthor         2.0\ndate           0.0\nyear           0.0\nmonth          0.0\ncontent        0.0\ndtype: float64"
     },
     "execution_count": 354,
     "metadata": {},
     "output_type": "execute_result"
    }
   ],
   "source": [
    "# Remove url column because it's empty(100% null values)\n",
    "data_frame.drop(columns=['url'], inplace=True)\n",
    "data_frame.isnull().sum() / len(data_frame) * 100"
   ],
   "metadata": {
    "collapsed": false,
    "pycharm": {
     "name": "#%%\n"
    }
   }
  },
  {
   "cell_type": "markdown",
   "source": [
    "### b- Handel rows with missing values"
   ],
   "metadata": {
    "collapsed": false,
    "pycharm": {
     "name": "#%% md\n"
    }
   }
  },
  {
   "cell_type": "code",
   "execution_count": 355,
   "outputs": [
    {
     "name": "stdout",
     "output_type": "stream",
     "text": [
      "Number of rows contain null values = 2.0 %\n"
     ]
    }
   ],
   "source": [
    "# Get percentage of number of rows contain missing values\n",
    "mask = data_frame.isnull().any(axis=1)\n",
    "rows_with_missing_values = mask.sum() / len(data_frame)*100\n",
    "print(\"Number of rows contain null values =\", rows_with_missing_values, \"%\")"
   ],
   "metadata": {
    "collapsed": false,
    "pycharm": {
     "name": "#%%\n"
    }
   }
  },
  {
   "cell_type": "code",
   "execution_count": 356,
   "outputs": [
    {
     "data": {
      "text/plain": "Unnamed: 0     0.0\nid             0.0\ntitle          0.0\npublication    0.0\nauthor         0.0\ndate           0.0\nyear           0.0\nmonth          0.0\ncontent        0.0\ndtype: float64"
     },
     "execution_count": 356,
     "metadata": {},
     "output_type": "execute_result"
    }
   ],
   "source": [
    "# Drop rows contain null values\n",
    "data_frame.dropna(inplace=True)\n",
    "data_frame.isnull().sum() / len(data_frame) * 100"
   ],
   "metadata": {
    "collapsed": false,
    "pycharm": {
     "name": "#%%\n"
    }
   }
  },
  {
   "cell_type": "markdown",
   "source": [
    "## 2- Handel columns data types"
   ],
   "metadata": {
    "collapsed": false,
    "pycharm": {
     "name": "#%% md\n"
    }
   }
  },
  {
   "cell_type": "code",
   "execution_count": 357,
   "outputs": [
    {
     "data": {
      "text/plain": "Unnamed: 0       int64\nid               int64\ntitle           object\npublication     object\nauthor          object\ndate            object\nyear           float64\nmonth          float64\ncontent         object\ndtype: object"
     },
     "execution_count": 357,
     "metadata": {},
     "output_type": "execute_result"
    }
   ],
   "source": [
    "data_frame.dtypes"
   ],
   "metadata": {
    "collapsed": false,
    "pycharm": {
     "name": "#%%\n"
    }
   }
  },
  {
   "cell_type": "code",
   "execution_count": 358,
   "outputs": [
    {
     "data": {
      "text/plain": "Unnamed: 0              int64\nid                      int64\ntitle                  string\npublication            string\nauthor                 string\ndate           datetime64[ns]\nyear                    int64\nmonth                   int64\ncontent                string\ndtype: object"
     },
     "execution_count": 358,
     "metadata": {},
     "output_type": "execute_result"
    }
   ],
   "source": [
    "data_frame= data_frame.astype({\"title\": \"string\",\n",
    "                               \"publication\": \"string\",\n",
    "                               \"author\": \"string\",\n",
    "                               \"date\": \"datetime64\",\n",
    "                               \"year\": \"int64\",\n",
    "                               \"month\": \"int64\",\n",
    "                               \"content\": \"string\"})\n",
    "\n",
    "data_frame.dtypes"
   ],
   "metadata": {
    "collapsed": false,
    "pycharm": {
     "name": "#%%\n"
    }
   }
  },
  {
   "cell_type": "markdown",
   "source": [
    "## 3- Dealing with unnecessary columns"
   ],
   "metadata": {
    "collapsed": false,
    "pycharm": {
     "name": "#%% md\n"
    }
   }
  },
  {
   "cell_type": "code",
   "execution_count": 359,
   "outputs": [
    {
     "data": {
      "text/plain": "   Unnamed: 0                                              title  \\\n0           0  House Republicans Fret About Winning Their Hea...   \n1           1  Rift Between Officers and Residents as Killing...   \n2           2  Tyrus Wong, ‘Bambi’ Artist Thwarted by Racial ...   \n3           3  Among Deaths in 2016, a Heavy Toll in Pop Musi...   \n4           4  Kim Jong-un Says North Korea Is Preparing to T...   \n\n      publication                         author       date  year  month  \\\n0  New York Times                     Carl Hulse 2016-12-31  2016     12   \n1  New York Times  Benjamin Mueller and Al Baker 2017-06-19  2017      6   \n2  New York Times                   Margalit Fox 2017-01-06  2017      1   \n3  New York Times               William McDonald 2017-04-10  2017      4   \n4  New York Times                  Choe Sang-Hun 2017-01-02  2017      1   \n\n                                             content  \n0  WASHINGTON  —   Congressional Republicans have...  \n1  After the bullet shells get counted, the blood...  \n2  When Walt Disney’s “Bambi” opened in 1942, cri...  \n3  Death may be the great equalizer, but it isn’t...  \n4  SEOUL, South Korea  —   North Korea’s leader, ...  ",
      "text/html": "<div>\n<style scoped>\n    .dataframe tbody tr th:only-of-type {\n        vertical-align: middle;\n    }\n\n    .dataframe tbody tr th {\n        vertical-align: top;\n    }\n\n    .dataframe thead th {\n        text-align: right;\n    }\n</style>\n<table border=\"1\" class=\"dataframe\">\n  <thead>\n    <tr style=\"text-align: right;\">\n      <th></th>\n      <th>Unnamed: 0</th>\n      <th>title</th>\n      <th>publication</th>\n      <th>author</th>\n      <th>date</th>\n      <th>year</th>\n      <th>month</th>\n      <th>content</th>\n    </tr>\n  </thead>\n  <tbody>\n    <tr>\n      <th>0</th>\n      <td>0</td>\n      <td>House Republicans Fret About Winning Their Hea...</td>\n      <td>New York Times</td>\n      <td>Carl Hulse</td>\n      <td>2016-12-31</td>\n      <td>2016</td>\n      <td>12</td>\n      <td>WASHINGTON  —   Congressional Republicans have...</td>\n    </tr>\n    <tr>\n      <th>1</th>\n      <td>1</td>\n      <td>Rift Between Officers and Residents as Killing...</td>\n      <td>New York Times</td>\n      <td>Benjamin Mueller and Al Baker</td>\n      <td>2017-06-19</td>\n      <td>2017</td>\n      <td>6</td>\n      <td>After the bullet shells get counted, the blood...</td>\n    </tr>\n    <tr>\n      <th>2</th>\n      <td>2</td>\n      <td>Tyrus Wong, ‘Bambi’ Artist Thwarted by Racial ...</td>\n      <td>New York Times</td>\n      <td>Margalit Fox</td>\n      <td>2017-01-06</td>\n      <td>2017</td>\n      <td>1</td>\n      <td>When Walt Disney’s “Bambi” opened in 1942, cri...</td>\n    </tr>\n    <tr>\n      <th>3</th>\n      <td>3</td>\n      <td>Among Deaths in 2016, a Heavy Toll in Pop Musi...</td>\n      <td>New York Times</td>\n      <td>William McDonald</td>\n      <td>2017-04-10</td>\n      <td>2017</td>\n      <td>4</td>\n      <td>Death may be the great equalizer, but it isn’t...</td>\n    </tr>\n    <tr>\n      <th>4</th>\n      <td>4</td>\n      <td>Kim Jong-un Says North Korea Is Preparing to T...</td>\n      <td>New York Times</td>\n      <td>Choe Sang-Hun</td>\n      <td>2017-01-02</td>\n      <td>2017</td>\n      <td>1</td>\n      <td>SEOUL, South Korea  —   North Korea’s leader, ...</td>\n    </tr>\n  </tbody>\n</table>\n</div>"
     },
     "execution_count": 359,
     "metadata": {},
     "output_type": "execute_result"
    }
   ],
   "source": [
    "# Drop id column because it contain unnecessary unique values\n",
    "data_frame.drop(columns=['id'], inplace=True)\n",
    "data_frame.head()"
   ],
   "metadata": {
    "collapsed": false,
    "pycharm": {
     "name": "#%%\n"
    }
   }
  },
  {
   "cell_type": "code",
   "execution_count": 360,
   "outputs": [
    {
     "data": {
      "text/plain": "   Unnamed: 0                                              title  \\\n0           0  House Republicans Fret About Winning Their Hea...   \n1           1  Rift Between Officers and Residents as Killing...   \n2           2  Tyrus Wong, ‘Bambi’ Artist Thwarted by Racial ...   \n3           3  Among Deaths in 2016, a Heavy Toll in Pop Musi...   \n4           4  Kim Jong-un Says North Korea Is Preparing to T...   \n\n      publication                         author day  year month  \\\n0  New York Times                     Carl Hulse  31  2016    12   \n1  New York Times  Benjamin Mueller and Al Baker  19  2017    06   \n2  New York Times                   Margalit Fox  06  2017    01   \n3  New York Times               William McDonald  10  2017    04   \n4  New York Times                  Choe Sang-Hun  02  2017    01   \n\n                                             content  \n0  WASHINGTON  —   Congressional Republicans have...  \n1  After the bullet shells get counted, the blood...  \n2  When Walt Disney’s “Bambi” opened in 1942, cri...  \n3  Death may be the great equalizer, but it isn’t...  \n4  SEOUL, South Korea  —   North Korea’s leader, ...  ",
      "text/html": "<div>\n<style scoped>\n    .dataframe tbody tr th:only-of-type {\n        vertical-align: middle;\n    }\n\n    .dataframe tbody tr th {\n        vertical-align: top;\n    }\n\n    .dataframe thead th {\n        text-align: right;\n    }\n</style>\n<table border=\"1\" class=\"dataframe\">\n  <thead>\n    <tr style=\"text-align: right;\">\n      <th></th>\n      <th>Unnamed: 0</th>\n      <th>title</th>\n      <th>publication</th>\n      <th>author</th>\n      <th>day</th>\n      <th>year</th>\n      <th>month</th>\n      <th>content</th>\n    </tr>\n  </thead>\n  <tbody>\n    <tr>\n      <th>0</th>\n      <td>0</td>\n      <td>House Republicans Fret About Winning Their Hea...</td>\n      <td>New York Times</td>\n      <td>Carl Hulse</td>\n      <td>31</td>\n      <td>2016</td>\n      <td>12</td>\n      <td>WASHINGTON  —   Congressional Republicans have...</td>\n    </tr>\n    <tr>\n      <th>1</th>\n      <td>1</td>\n      <td>Rift Between Officers and Residents as Killing...</td>\n      <td>New York Times</td>\n      <td>Benjamin Mueller and Al Baker</td>\n      <td>19</td>\n      <td>2017</td>\n      <td>06</td>\n      <td>After the bullet shells get counted, the blood...</td>\n    </tr>\n    <tr>\n      <th>2</th>\n      <td>2</td>\n      <td>Tyrus Wong, ‘Bambi’ Artist Thwarted by Racial ...</td>\n      <td>New York Times</td>\n      <td>Margalit Fox</td>\n      <td>06</td>\n      <td>2017</td>\n      <td>01</td>\n      <td>When Walt Disney’s “Bambi” opened in 1942, cri...</td>\n    </tr>\n    <tr>\n      <th>3</th>\n      <td>3</td>\n      <td>Among Deaths in 2016, a Heavy Toll in Pop Musi...</td>\n      <td>New York Times</td>\n      <td>William McDonald</td>\n      <td>10</td>\n      <td>2017</td>\n      <td>04</td>\n      <td>Death may be the great equalizer, but it isn’t...</td>\n    </tr>\n    <tr>\n      <th>4</th>\n      <td>4</td>\n      <td>Kim Jong-un Says North Korea Is Preparing to T...</td>\n      <td>New York Times</td>\n      <td>Choe Sang-Hun</td>\n      <td>02</td>\n      <td>2017</td>\n      <td>01</td>\n      <td>SEOUL, South Korea  —   North Korea’s leader, ...</td>\n    </tr>\n  </tbody>\n</table>\n</div>"
     },
     "execution_count": 360,
     "metadata": {},
     "output_type": "execute_result"
    }
   ],
   "source": [
    "# extract day from date column and rename column to day\n",
    "data_frame['date'] = data_frame['date'].astype('string')\n",
    "data_frame['date'] = data_frame['date'].str.replace(\"-\", \"/\")\n",
    "data_frame[[\"year\", \"month\", \"day\"]] = data_frame[\"date\"].str.split(\"/\", expand = True)\n",
    "data_frame['date'] = data_frame['day']\n",
    "data_frame.drop(columns=[\"day\"], inplace=True)\n",
    "data_frame.rename(columns={\"date\": \"day\"}, inplace=True)\n",
    "data_frame.head()"
   ],
   "metadata": {
    "collapsed": false,
    "pycharm": {
     "name": "#%%\n"
    }
   }
  },
  {
   "cell_type": "markdown",
   "source": [
    "# Text Preprocessing NLP Pipeline\n",
    "## 1- Convert to lowercase"
   ],
   "metadata": {
    "collapsed": false,
    "pycharm": {
     "name": "#%% md\n"
    }
   }
  },
  {
   "cell_type": "code",
   "execution_count": 361,
   "outputs": [
    {
     "data": {
      "text/plain": "   Unnamed: 0                                              title  \\\n0           0  house republicans fret about winning their hea...   \n1           1  rift between officers and residents as killing...   \n2           2  tyrus wong, ‘bambi’ artist thwarted by racial ...   \n3           3  among deaths in 2016, a heavy toll in pop musi...   \n4           4  kim jong-un says north korea is preparing to t...   \n\n      publication                         author day  year month  \\\n0  new york times                     carl hulse  31  2016    12   \n1  new york times  benjamin mueller and al baker  19  2017    06   \n2  new york times                   margalit fox  06  2017    01   \n3  new york times               william mcdonald  10  2017    04   \n4  new york times                  choe sang-hun  02  2017    01   \n\n                                             content  \n0  washington  —   congressional republicans have...  \n1  after the bullet shells get counted, the blood...  \n2  when walt disney’s “bambi” opened in 1942, cri...  \n3  death may be the great equalizer, but it isn’t...  \n4  seoul, south korea  —   north korea’s leader, ...  ",
      "text/html": "<div>\n<style scoped>\n    .dataframe tbody tr th:only-of-type {\n        vertical-align: middle;\n    }\n\n    .dataframe tbody tr th {\n        vertical-align: top;\n    }\n\n    .dataframe thead th {\n        text-align: right;\n    }\n</style>\n<table border=\"1\" class=\"dataframe\">\n  <thead>\n    <tr style=\"text-align: right;\">\n      <th></th>\n      <th>Unnamed: 0</th>\n      <th>title</th>\n      <th>publication</th>\n      <th>author</th>\n      <th>day</th>\n      <th>year</th>\n      <th>month</th>\n      <th>content</th>\n    </tr>\n  </thead>\n  <tbody>\n    <tr>\n      <th>0</th>\n      <td>0</td>\n      <td>house republicans fret about winning their hea...</td>\n      <td>new york times</td>\n      <td>carl hulse</td>\n      <td>31</td>\n      <td>2016</td>\n      <td>12</td>\n      <td>washington  —   congressional republicans have...</td>\n    </tr>\n    <tr>\n      <th>1</th>\n      <td>1</td>\n      <td>rift between officers and residents as killing...</td>\n      <td>new york times</td>\n      <td>benjamin mueller and al baker</td>\n      <td>19</td>\n      <td>2017</td>\n      <td>06</td>\n      <td>after the bullet shells get counted, the blood...</td>\n    </tr>\n    <tr>\n      <th>2</th>\n      <td>2</td>\n      <td>tyrus wong, ‘bambi’ artist thwarted by racial ...</td>\n      <td>new york times</td>\n      <td>margalit fox</td>\n      <td>06</td>\n      <td>2017</td>\n      <td>01</td>\n      <td>when walt disney’s “bambi” opened in 1942, cri...</td>\n    </tr>\n    <tr>\n      <th>3</th>\n      <td>3</td>\n      <td>among deaths in 2016, a heavy toll in pop musi...</td>\n      <td>new york times</td>\n      <td>william mcdonald</td>\n      <td>10</td>\n      <td>2017</td>\n      <td>04</td>\n      <td>death may be the great equalizer, but it isn’t...</td>\n    </tr>\n    <tr>\n      <th>4</th>\n      <td>4</td>\n      <td>kim jong-un says north korea is preparing to t...</td>\n      <td>new york times</td>\n      <td>choe sang-hun</td>\n      <td>02</td>\n      <td>2017</td>\n      <td>01</td>\n      <td>seoul, south korea  —   north korea’s leader, ...</td>\n    </tr>\n  </tbody>\n</table>\n</div>"
     },
     "execution_count": 361,
     "metadata": {},
     "output_type": "execute_result"
    }
   ],
   "source": [
    "columns = [\"title\", \"publication\", \"author\", \"content\"]\n",
    "for column in columns:\n",
    "    data_frame[column] = data_frame[column].str.lower()\n",
    "\n",
    "data_frame.head()"
   ],
   "metadata": {
    "collapsed": false,
    "pycharm": {
     "name": "#%%\n"
    }
   }
  },
  {
   "cell_type": "markdown",
   "source": [
    "## 2- Remove HTML Tags"
   ],
   "metadata": {
    "collapsed": false,
    "pycharm": {
     "name": "#%% md\n"
    }
   }
  },
  {
   "cell_type": "code",
   "execution_count": 362,
   "outputs": [],
   "source": [
    "def remove_HTML_tags(text):\n",
    "    return re.sub(r'<.*?>', \"\", text)\n",
    "\n",
    "columns = [\"title\", \"author\", \"content\"]\n",
    "for column in columns:\n",
    "    data_frame[column] = data_frame[column].apply(lambda x: remove_HTML_tags(x))"
   ],
   "metadata": {
    "collapsed": false,
    "pycharm": {
     "name": "#%%\n"
    }
   }
  },
  {
   "cell_type": "markdown",
   "source": [
    "## 3- Remove URLs"
   ],
   "metadata": {
    "collapsed": false,
    "pycharm": {
     "name": "#%% md\n"
    }
   }
  },
  {
   "cell_type": "code",
   "execution_count": 363,
   "outputs": [],
   "source": [
    "def remove_URLs(text):\n",
    "    return re.sub(r'https?://\\S+www\\.\\S+', \"\", text)\n",
    "\n",
    "columns = [\"title\", \"author\", \"content\"]\n",
    "for column in columns:\n",
    "    data_frame[column] = data_frame[column].apply(lambda x: remove_URLs(x))"
   ],
   "metadata": {
    "collapsed": false,
    "pycharm": {
     "name": "#%%\n"
    }
   }
  },
  {
   "cell_type": "markdown",
   "source": [
    "## 4- Remove Punctuations and Special Characters"
   ],
   "metadata": {
    "collapsed": false,
    "pycharm": {
     "name": "#%% md\n"
    }
   }
  },
  {
   "cell_type": "code",
   "execution_count": 364,
   "outputs": [
    {
     "data": {
      "text/plain": "                                                title  \\\n0   house republicans fret about winning their hea...   \n1   rift between officers and residents as killing...   \n2   tyrus wong   bambi  artist thwarted by racial ...   \n3   among deaths in 2016  a heavy toll in pop musi...   \n4   kim jong un says north korea is preparing to t...   \n..                                                ...   \n95  corzine reaches  5 million settlement with reg...   \n96  sears agrees to sell craftsman to stanley blac...   \n97  l i r r  train that crashed was going over twi...   \n98  record 2016 for u s  auto industry long road b...   \n99  macy s will cut 10 000 jobs after poor holiday...   \n\n                                              content  \n0   washington      congressional republicans have...  \n1   after the bullet shells get counted  the blood...  \n2   when walt disney s  bambi  opened in 1942  cri...  \n3   death may be the great equalizer  but it isn t...  \n4   seoul  south korea      north korea s leader  ...  \n..                                                ...  \n95  after more than five years of investigations a...  \n96  the question from the analyst on thursday was ...  \n97  a long island rail road train that crashed in ...  \n98  detroit      unexpectedly strong sales of new ...  \n99  struggling with sagging sales over another cru...  \n\n[98 rows x 2 columns]",
      "text/html": "<div>\n<style scoped>\n    .dataframe tbody tr th:only-of-type {\n        vertical-align: middle;\n    }\n\n    .dataframe tbody tr th {\n        vertical-align: top;\n    }\n\n    .dataframe thead th {\n        text-align: right;\n    }\n</style>\n<table border=\"1\" class=\"dataframe\">\n  <thead>\n    <tr style=\"text-align: right;\">\n      <th></th>\n      <th>title</th>\n      <th>content</th>\n    </tr>\n  </thead>\n  <tbody>\n    <tr>\n      <th>0</th>\n      <td>house republicans fret about winning their hea...</td>\n      <td>washington      congressional republicans have...</td>\n    </tr>\n    <tr>\n      <th>1</th>\n      <td>rift between officers and residents as killing...</td>\n      <td>after the bullet shells get counted  the blood...</td>\n    </tr>\n    <tr>\n      <th>2</th>\n      <td>tyrus wong   bambi  artist thwarted by racial ...</td>\n      <td>when walt disney s  bambi  opened in 1942  cri...</td>\n    </tr>\n    <tr>\n      <th>3</th>\n      <td>among deaths in 2016  a heavy toll in pop musi...</td>\n      <td>death may be the great equalizer  but it isn t...</td>\n    </tr>\n    <tr>\n      <th>4</th>\n      <td>kim jong un says north korea is preparing to t...</td>\n      <td>seoul  south korea      north korea s leader  ...</td>\n    </tr>\n    <tr>\n      <th>...</th>\n      <td>...</td>\n      <td>...</td>\n    </tr>\n    <tr>\n      <th>95</th>\n      <td>corzine reaches  5 million settlement with reg...</td>\n      <td>after more than five years of investigations a...</td>\n    </tr>\n    <tr>\n      <th>96</th>\n      <td>sears agrees to sell craftsman to stanley blac...</td>\n      <td>the question from the analyst on thursday was ...</td>\n    </tr>\n    <tr>\n      <th>97</th>\n      <td>l i r r  train that crashed was going over twi...</td>\n      <td>a long island rail road train that crashed in ...</td>\n    </tr>\n    <tr>\n      <th>98</th>\n      <td>record 2016 for u s  auto industry long road b...</td>\n      <td>detroit      unexpectedly strong sales of new ...</td>\n    </tr>\n    <tr>\n      <th>99</th>\n      <td>macy s will cut 10 000 jobs after poor holiday...</td>\n      <td>struggling with sagging sales over another cru...</td>\n    </tr>\n  </tbody>\n</table>\n<p>98 rows × 2 columns</p>\n</div>"
     },
     "execution_count": 364,
     "metadata": {},
     "output_type": "execute_result"
    }
   ],
   "source": [
    "columns = [\"title\", \"author\", \"content\"]\n",
    "for column in columns:\n",
    "    data_frame[column] = data_frame[column].str.replace('[^a-zA-Z0-9]', \" \", regex=True)\n",
    "\n",
    "data_frame[['title', 'content']]"
   ],
   "metadata": {
    "collapsed": false,
    "pycharm": {
     "name": "#%%\n"
    }
   }
  },
  {
   "cell_type": "markdown",
   "source": [
    "## 5- Remove unnecessary spaces and words"
   ],
   "metadata": {
    "collapsed": false,
    "pycharm": {
     "name": "#%% md\n"
    }
   }
  },
  {
   "cell_type": "code",
   "execution_count": 365,
   "outputs": [
    {
     "data": {
      "text/plain": "                                                title  \\\n0   house republicans fret about winning their hea...   \n1   rift between officers and residents as killing...   \n2   tyrus wong bambi artist thwarted by racial bia...   \n3   among deaths in 2016 a heavy toll in pop music...   \n4   kim jong un says north korea is preparing to t...   \n..                                                ...   \n95  corzine reaches 5 million settlement with regu...   \n96  sears agrees to sell craftsman to stanley blac...   \n97  l i r r train that crashed was going over twic...   \n98  record 2016 for u s auto industry long road ba...   \n99  macy s will cut 10 000 jobs after poor holiday...   \n\n                                              content  \n0   washington congressional republicans have a ne...  \n1   after the bullet shells get counted the blood ...  \n2   when walt disney s bambi opened in 1942 critic...  \n3   death may be the great equalizer but it isn t ...  \n4   seoul south korea north korea s leader kim sai...  \n..                                                ...  \n95  after more than five years of investigations a...  \n96  the question from the analyst on thursday was ...  \n97  a long island rail road train that crashed in ...  \n98  detroit unexpectedly strong sales of new vehic...  \n99  struggling with sagging sales over another cru...  \n\n[98 rows x 2 columns]",
      "text/html": "<div>\n<style scoped>\n    .dataframe tbody tr th:only-of-type {\n        vertical-align: middle;\n    }\n\n    .dataframe tbody tr th {\n        vertical-align: top;\n    }\n\n    .dataframe thead th {\n        text-align: right;\n    }\n</style>\n<table border=\"1\" class=\"dataframe\">\n  <thead>\n    <tr style=\"text-align: right;\">\n      <th></th>\n      <th>title</th>\n      <th>content</th>\n    </tr>\n  </thead>\n  <tbody>\n    <tr>\n      <th>0</th>\n      <td>house republicans fret about winning their hea...</td>\n      <td>washington congressional republicans have a ne...</td>\n    </tr>\n    <tr>\n      <th>1</th>\n      <td>rift between officers and residents as killing...</td>\n      <td>after the bullet shells get counted the blood ...</td>\n    </tr>\n    <tr>\n      <th>2</th>\n      <td>tyrus wong bambi artist thwarted by racial bia...</td>\n      <td>when walt disney s bambi opened in 1942 critic...</td>\n    </tr>\n    <tr>\n      <th>3</th>\n      <td>among deaths in 2016 a heavy toll in pop music...</td>\n      <td>death may be the great equalizer but it isn t ...</td>\n    </tr>\n    <tr>\n      <th>4</th>\n      <td>kim jong un says north korea is preparing to t...</td>\n      <td>seoul south korea north korea s leader kim sai...</td>\n    </tr>\n    <tr>\n      <th>...</th>\n      <td>...</td>\n      <td>...</td>\n    </tr>\n    <tr>\n      <th>95</th>\n      <td>corzine reaches 5 million settlement with regu...</td>\n      <td>after more than five years of investigations a...</td>\n    </tr>\n    <tr>\n      <th>96</th>\n      <td>sears agrees to sell craftsman to stanley blac...</td>\n      <td>the question from the analyst on thursday was ...</td>\n    </tr>\n    <tr>\n      <th>97</th>\n      <td>l i r r train that crashed was going over twic...</td>\n      <td>a long island rail road train that crashed in ...</td>\n    </tr>\n    <tr>\n      <th>98</th>\n      <td>record 2016 for u s auto industry long road ba...</td>\n      <td>detroit unexpectedly strong sales of new vehic...</td>\n    </tr>\n    <tr>\n      <th>99</th>\n      <td>macy s will cut 10 000 jobs after poor holiday...</td>\n      <td>struggling with sagging sales over another cru...</td>\n    </tr>\n  </tbody>\n</table>\n<p>98 rows × 2 columns</p>\n</div>"
     },
     "execution_count": 365,
     "metadata": {},
     "output_type": "execute_result"
    }
   ],
   "source": [
    "# remove unnecessary spaces\n",
    "columns = [\"title\", \"author\", \"content\"]\n",
    "for column in columns:\n",
    "    data_frame[column] = data_frame[column].str.replace('\\s\\s+', \" \", regex=True)\n",
    "\n",
    "data_frame[['title', 'content']]"
   ],
   "metadata": {
    "collapsed": false,
    "pycharm": {
     "name": "#%%\n"
    }
   }
  },
  {
   "cell_type": "code",
   "execution_count": 366,
   "outputs": [
    {
     "data": {
      "text/plain": "   Unnamed: 0                                              title  \\\n0           0  house republicans fret about winning their hea...   \n1           1  rift between officers and residents as killing...   \n2           2  tyrus wong bambi artist thwarted by racial bia...   \n3           3  among deaths in 2016 a heavy toll in pop music...   \n4           4  kim jong un says north korea is preparing to t...   \n\n      publication                         author day  year month  \\\n0  new york times                     carl hulse  31  2016    12   \n1  new york times  benjamin mueller and al baker  19  2017    06   \n2  new york times                   margalit fox  06  2017    01   \n3  new york times               william mcdonald  10  2017    04   \n4  new york times                  choe sang hun  02  2017    01   \n\n                                             content  \n0  washington congressional republicans have a ne...  \n1  after the bullet shells get counted the blood ...  \n2  when walt disney s bambi opened in 1942 critic...  \n3  death may be the great equalizer but it isn t ...  \n4  seoul south korea north korea s leader kim sai...  ",
      "text/html": "<div>\n<style scoped>\n    .dataframe tbody tr th:only-of-type {\n        vertical-align: middle;\n    }\n\n    .dataframe tbody tr th {\n        vertical-align: top;\n    }\n\n    .dataframe thead th {\n        text-align: right;\n    }\n</style>\n<table border=\"1\" class=\"dataframe\">\n  <thead>\n    <tr style=\"text-align: right;\">\n      <th></th>\n      <th>Unnamed: 0</th>\n      <th>title</th>\n      <th>publication</th>\n      <th>author</th>\n      <th>day</th>\n      <th>year</th>\n      <th>month</th>\n      <th>content</th>\n    </tr>\n  </thead>\n  <tbody>\n    <tr>\n      <th>0</th>\n      <td>0</td>\n      <td>house republicans fret about winning their hea...</td>\n      <td>new york times</td>\n      <td>carl hulse</td>\n      <td>31</td>\n      <td>2016</td>\n      <td>12</td>\n      <td>washington congressional republicans have a ne...</td>\n    </tr>\n    <tr>\n      <th>1</th>\n      <td>1</td>\n      <td>rift between officers and residents as killing...</td>\n      <td>new york times</td>\n      <td>benjamin mueller and al baker</td>\n      <td>19</td>\n      <td>2017</td>\n      <td>06</td>\n      <td>after the bullet shells get counted the blood ...</td>\n    </tr>\n    <tr>\n      <th>2</th>\n      <td>2</td>\n      <td>tyrus wong bambi artist thwarted by racial bia...</td>\n      <td>new york times</td>\n      <td>margalit fox</td>\n      <td>06</td>\n      <td>2017</td>\n      <td>01</td>\n      <td>when walt disney s bambi opened in 1942 critic...</td>\n    </tr>\n    <tr>\n      <th>3</th>\n      <td>3</td>\n      <td>among deaths in 2016 a heavy toll in pop music...</td>\n      <td>new york times</td>\n      <td>william mcdonald</td>\n      <td>10</td>\n      <td>2017</td>\n      <td>04</td>\n      <td>death may be the great equalizer but it isn t ...</td>\n    </tr>\n    <tr>\n      <th>4</th>\n      <td>4</td>\n      <td>kim jong un says north korea is preparing to t...</td>\n      <td>new york times</td>\n      <td>choe sang hun</td>\n      <td>02</td>\n      <td>2017</td>\n      <td>01</td>\n      <td>seoul south korea north korea s leader kim sai...</td>\n    </tr>\n  </tbody>\n</table>\n</div>"
     },
     "execution_count": 366,
     "metadata": {},
     "output_type": "execute_result"
    }
   ],
   "source": [
    "# remove unnecessary words\n",
    "# remove publication from title\n",
    "publication_unique_values = data_frame[\"publication\"].unique()\n",
    "for publication in publication_unique_values:\n",
    "    data_frame[\"title\"] = data_frame['title'].str.replace(\".\" + publication + \"$\", \"\", regex=True)\n",
    "\n",
    "data_frame.head()"
   ],
   "metadata": {
    "collapsed": false,
    "pycharm": {
     "name": "#%%\n"
    }
   }
  },
  {
   "cell_type": "markdown",
   "source": [
    "## 6- Apply Tokenization\n",
    "### a- Apply sentence tokenization"
   ],
   "metadata": {
    "collapsed": false,
    "pycharm": {
     "name": "#%% md\n"
    }
   }
  },
  {
   "cell_type": "code",
   "execution_count": 367,
   "outputs": [],
   "source": [
    "# def sentence_tokenizer(text):\n",
    "#     return sent_tokenize(text)\n",
    "#\n",
    "# columns = [\"title\", \"content\"]\n",
    "# for column in columns:\n",
    "#     data_frame[column] = data_frame[column].apply(lambda x: sentence_tokenizer(x))\n",
    "#\n",
    "# data_frame[['title', 'content']]"
   ],
   "metadata": {
    "collapsed": false,
    "pycharm": {
     "name": "#%%\n"
    }
   }
  },
  {
   "cell_type": "markdown",
   "source": [
    "### b- Apply word tokenization"
   ],
   "metadata": {
    "collapsed": false,
    "pycharm": {
     "name": "#%% md\n"
    }
   }
  },
  {
   "cell_type": "code",
   "execution_count": 382,
   "outputs": [
    {
     "data": {
      "text/plain": "   Unnamed: 0                                       title  author day  year  \\\n0           0     [h, u, p, u, b, c, f, w, g, h, h, c, u]       0  31  2016   \n1           1        [f, f, f, c, d, k, g, p, u, h, b, x]       1  19  2017   \n2           2  [y, u, w, g, b, m, b, h, w, d, c, b, d, 0]       2  06  2017   \n3           3     [m, g, d, h, 0, h, v, y, p, p, m, u, c]       3  10  2017   \n4           4  [k, m, j, g, u, y, h, k, p, p, g, g, g, m]       4  02  2017   \n\n  month                                            content  \\\n0    12  [w, h, g, c, g, p, u, b, c, w, f, c, m, h, h, ...   \n1    06  [b, u, h, g, c, u, d, b, d, d, v, v, c, d, b, ...   \n2    01  [w, d, y, b, m, b, p, d, 9, c, c, p, d, p, h, ...   \n3    04  [d, h, m, y, g, u, c, y, v, h, d, d, f, d, d, ...   \n4    01  [u, u, h, k, h, k, d, k, m, d, u, d, y, c, u, ...   \n\n   publication_new york times  \n0                           1  \n1                           1  \n2                           1  \n3                           1  \n4                           1  ",
      "text/html": "<div>\n<style scoped>\n    .dataframe tbody tr th:only-of-type {\n        vertical-align: middle;\n    }\n\n    .dataframe tbody tr th {\n        vertical-align: top;\n    }\n\n    .dataframe thead th {\n        text-align: right;\n    }\n</style>\n<table border=\"1\" class=\"dataframe\">\n  <thead>\n    <tr style=\"text-align: right;\">\n      <th></th>\n      <th>Unnamed: 0</th>\n      <th>title</th>\n      <th>author</th>\n      <th>day</th>\n      <th>year</th>\n      <th>month</th>\n      <th>content</th>\n      <th>publication_new york times</th>\n    </tr>\n  </thead>\n  <tbody>\n    <tr>\n      <th>0</th>\n      <td>0</td>\n      <td>[h, u, p, u, b, c, f, w, g, h, h, c, u]</td>\n      <td>0</td>\n      <td>31</td>\n      <td>2016</td>\n      <td>12</td>\n      <td>[w, h, g, c, g, p, u, b, c, w, f, c, m, h, h, ...</td>\n      <td>1</td>\n    </tr>\n    <tr>\n      <th>1</th>\n      <td>1</td>\n      <td>[f, f, f, c, d, k, g, p, u, h, b, x]</td>\n      <td>1</td>\n      <td>19</td>\n      <td>2017</td>\n      <td>06</td>\n      <td>[b, u, h, g, c, u, d, b, d, d, v, v, c, d, b, ...</td>\n      <td>1</td>\n    </tr>\n    <tr>\n      <th>2</th>\n      <td>2</td>\n      <td>[y, u, w, g, b, m, b, h, w, d, c, b, d, 0]</td>\n      <td>2</td>\n      <td>06</td>\n      <td>2017</td>\n      <td>01</td>\n      <td>[w, d, y, b, m, b, p, d, 9, c, c, p, d, p, h, ...</td>\n      <td>1</td>\n    </tr>\n    <tr>\n      <th>3</th>\n      <td>3</td>\n      <td>[m, g, d, h, 0, h, v, y, p, p, m, u, c]</td>\n      <td>3</td>\n      <td>10</td>\n      <td>2017</td>\n      <td>04</td>\n      <td>[d, h, m, y, g, u, c, y, v, h, d, d, f, d, d, ...</td>\n      <td>1</td>\n    </tr>\n    <tr>\n      <th>4</th>\n      <td>4</td>\n      <td>[k, m, j, g, u, y, h, k, p, p, g, g, g, m]</td>\n      <td>4</td>\n      <td>02</td>\n      <td>2017</td>\n      <td>01</td>\n      <td>[u, u, h, k, h, k, d, k, m, d, u, d, y, c, u, ...</td>\n      <td>1</td>\n    </tr>\n  </tbody>\n</table>\n</div>"
     },
     "execution_count": 382,
     "metadata": {},
     "output_type": "execute_result"
    }
   ],
   "source": [
    "# def word_tokenizer(sentences):\n",
    "#     tokenized_words = []\n",
    "#     for x in sentences:\n",
    "#         tokenized_words = tokenized_words + word_tokenize(x)\n",
    "#     return tokenized_words\n",
    "\n",
    "def word_tokenizer(text):\n",
    "    return word_tokenize(text)\n",
    "columns = [\"title\", \"content\"]\n",
    "for column in columns:\n",
    "    data_frame[column] = data_frame[column].apply(lambda x: word_tokenizer(x))\n",
    "\n",
    "data_frame.head()"
   ],
   "metadata": {
    "collapsed": false,
    "pycharm": {
     "name": "#%%\n"
    }
   }
  },
  {
   "cell_type": "markdown",
   "source": [
    "## 7- Remove Stop Words"
   ],
   "metadata": {
    "collapsed": false,
    "pycharm": {
     "name": "#%% md\n"
    }
   }
  },
  {
   "cell_type": "code",
   "execution_count": 369,
   "outputs": [],
   "source": [
    "STOPWORDS = set(stopwords.words(\"english\"))\n",
    "def remove_stop_words(text):\n",
    "    return \" \".join([word for word in text if word not in STOPWORDS])\n",
    "\n",
    "columns = [\"title\", \"author\", \"content\"]\n",
    "for column in columns:\n",
    "    data_frame[column] = data_frame[column].apply(lambda x: remove_stop_words(x))"
   ],
   "metadata": {
    "collapsed": false,
    "pycharm": {
     "name": "#%%\n"
    }
   }
  },
  {
   "cell_type": "markdown",
   "source": [
    "## 8- Remove frequently words"
   ],
   "metadata": {
    "collapsed": false,
    "pycharm": {
     "name": "#%% md\n"
    }
   }
  },
  {
   "cell_type": "code",
   "execution_count": 370,
   "outputs": [],
   "source": [
    "word_counter_title = Counter()\n",
    "word_counter_content = Counter()\n",
    "def get_most_frequently_words(column_name, word_counter):\n",
    "    for text in data_frame[column_name]:\n",
    "        for word in text:\n",
    "            word_counter[word] += 1\n",
    "    return word_counter\n",
    "\n",
    "# get the most common frequently words in [title] more than 1000\n",
    "word_frequency_title = get_most_frequently_words(\"title\", word_counter_title).most_common(10)\n",
    "\n",
    "# get the most common frequently words in [content]\n",
    "word_frequency_content = get_most_frequently_words(\"content\", word_counter_content).most_common(10)"
   ],
   "metadata": {
    "collapsed": false,
    "pycharm": {
     "name": "#%%\n"
    }
   }
  },
  {
   "cell_type": "code",
   "execution_count": 371,
   "outputs": [],
   "source": [
    "FREQUENT_WORDS_TITLE = set(word for (word, word_count) in get_most_frequently_words(\"title\", word_counter_title).most_common(10))\n",
    "FREQUENT_WORDS_CONTENT = set(word for (word, word_count) in get_most_frequently_words(\"content\", word_counter_content).most_common(10))\n",
    "\n",
    "def remove_frequent_words(string_text, frequent_words):\n",
    "    return \" \".join([word for word in string_text if word not in frequent_words])\n",
    "\n",
    "columns = [\"title\", \"content\"]\n",
    "for column in columns:\n",
    "    data_frame[column] = data_frame[column].apply(lambda x: remove_frequent_words(x, FREQUENT_WORDS_TITLE))"
   ],
   "metadata": {
    "collapsed": false,
    "pycharm": {
     "name": "#%%\n"
    }
   }
  },
  {
   "cell_type": "markdown",
   "source": [
    "## 9- Remove rare words"
   ],
   "metadata": {
    "collapsed": false,
    "pycharm": {
     "name": "#%% md\n"
    }
   }
  },
  {
   "cell_type": "code",
   "execution_count": 372,
   "outputs": [],
   "source": [
    "RARE_WORDS_TITLE = set(word for (word, word_count) in get_most_frequently_words(\"title\", word_counter_title).most_common()[:-10:-1])\n",
    "RARE_WORDS_CONTENT = set(word for (word, word_count) in get_most_frequently_words(\"content\", word_counter_content).most_common()[:-10:-1])\n",
    "\n",
    "def remove_rare_words(string_text, rare_words):\n",
    "    return \" \".join([word for word in string_text if word not in rare_words])\n",
    "\n",
    "columns = [\"title\", \"content\"]\n",
    "for column in columns:\n",
    "    data_frame[column] = data_frame[column].apply(lambda x: remove_rare_words(x, RARE_WORDS_TITLE))"
   ],
   "metadata": {
    "collapsed": false,
    "pycharm": {
     "name": "#%%\n"
    }
   }
  },
  {
   "cell_type": "markdown",
   "source": [
    "## 10- Apply Stemming"
   ],
   "metadata": {
    "collapsed": false,
    "pycharm": {
     "name": "#%% md\n"
    }
   }
  },
  {
   "cell_type": "code",
   "execution_count": 373,
   "outputs": [],
   "source": [
    "porter_stemmer_title = PorterStemmer()\n",
    "porter_stemmer_content = PorterStemmer()\n",
    "def stemming_words(text, porter_stemmer):\n",
    "    return \" \".join([porter_stemmer.stem(word) for word in text])\n",
    "\n",
    "columns = [\"title\", \"content\"]\n",
    "for column in columns:\n",
    "    data_frame[column] = data_frame[column].apply(lambda x: stemming_words(x, porter_stemmer_title))"
   ],
   "metadata": {
    "collapsed": false,
    "pycharm": {
     "name": "#%%\n"
    }
   }
  },
  {
   "cell_type": "markdown",
   "source": [
    "## 11- Apply POS and Lemmatization"
   ],
   "metadata": {
    "collapsed": false,
    "pycharm": {
     "name": "#%% md\n"
    }
   }
  },
  {
   "cell_type": "code",
   "execution_count": 374,
   "outputs": [],
   "source": [
    "lemmatizer_title = WordNetLemmatizer()\n",
    "lemmatizer_content = WordNetLemmatizer()\n",
    "wordnet_map = {\"N\": wordnet.NOUN, \"V\": wordnet.VERB, \"J\": wordnet.ADJ, \"R\": wordnet.ADV}\n",
    "\n",
    "def lemmatize_words(text, lemmatizer):\n",
    "    # apply POS tagging\n",
    "    pos_text = pos_tag(text.split())\n",
    "    return \" \".join([lemmatizer.lemmatize(word, wordnet_map.get(pos[0],  wordnet.NOUN)) for word, pos in pos_text])\n",
    "\n",
    "columns = [\"title\", \"content\"]\n",
    "for column in columns:\n",
    "    data_frame[column] = data_frame[column].apply(lambda x: lemmatize_words(x, lemmatizer_title))"
   ],
   "metadata": {
    "collapsed": false,
    "pycharm": {
     "name": "#%%\n"
    }
   }
  },
  {
   "cell_type": "markdown",
   "source": [
    "# Data Preprocessing\n",
    "## 1- Dealing with categorical data (Nominal Data)"
   ],
   "metadata": {
    "collapsed": false,
    "pycharm": {
     "name": "#%% md\n"
    }
   }
  },
  {
   "cell_type": "code",
   "execution_count": 375,
   "outputs": [
    {
     "name": "stdout",
     "output_type": "stream",
     "text": [
      "Publication unique values =  1\n"
     ]
    }
   ],
   "source": [
    "# get number of unique values in publication column\n",
    "publication_unique_values = data_frame[\"publication\"].unique()\n",
    "print(\"Publication unique values = \", len(publication_unique_values))"
   ],
   "metadata": {
    "collapsed": false,
    "pycharm": {
     "name": "#%%\n"
    }
   }
  },
  {
   "cell_type": "code",
   "execution_count": 376,
   "outputs": [
    {
     "data": {
      "text/plain": "Unnamed: 0                     int64\ntitle                         object\nauthor                        object\nday                           string\nyear                          string\nmonth                         string\ncontent                       object\npublication_new york times     uint8\ndtype: object"
     },
     "execution_count": 376,
     "metadata": {},
     "output_type": "execute_result"
    }
   ],
   "source": [
    "# apply one hot encoding in publication column\n",
    "data_frame = pd.get_dummies(data=data_frame, columns=[\"publication\"])\n",
    "data_frame.dtypes"
   ],
   "metadata": {
    "collapsed": false,
    "pycharm": {
     "name": "#%%\n"
    }
   }
  },
  {
   "cell_type": "code",
   "execution_count": 377,
   "outputs": [
    {
     "name": "stdout",
     "output_type": "stream",
     "text": [
      "Author unique values =  87\n"
     ]
    }
   ],
   "source": [
    "# get number of unique values in author column\n",
    "author_unique_values = Counter()\n",
    "for text in data_frame[\"author\"]:\n",
    "    for author_name in re.split('and|,', text):\n",
    "        author_unique_values[author_name] += 1\n",
    "\n",
    "print(\"Author unique values = \", len(author_unique_values))"
   ],
   "metadata": {
    "collapsed": false,
    "pycharm": {
     "name": "#%%\n"
    }
   }
  },
  {
   "cell_type": "code",
   "execution_count": 378,
   "outputs": [
    {
     "name": "stdout",
     "output_type": "stream",
     "text": [
      "0 other 0\n"
     ]
    }
   ],
   "source": [
    "def split_authors(text):\n",
    "    return ','.join([word for word in re.split('and|,', text)])\n",
    "\n",
    "\n",
    "data_frame[\"author\"] = data_frame[\"author\"].apply(lambda x: split_authors(x))\n",
    "print(author_unique_values[\"benjamin mueller\"], \"other\", author_unique_values[\"al baker\"])"
   ],
   "metadata": {
    "collapsed": false,
    "pycharm": {
     "name": "#%%\n"
    }
   }
  },
  {
   "cell_type": "code",
   "execution_count": 379,
   "outputs": [
    {
     "data": {
      "text/plain": "   Unnamed: 0                        title  author day  year month  \\\n0           0    h u p u b c f w g h h c u       0  31  2016    12   \n1           1      f f f c d k g p u h b x       1  19  2017    06   \n2           2  y u w g b m b h w d c b d 0       2  06  2017    01   \n3           3    m g d h 0 h v y p p m u c       3  10  2017    04   \n4           4  k m j g u y h k p p g g g m       4  02  2017    01   \n\n                                             content  \\\n0  w h g c g p u b c w f c m h h c w u b m d m m ...   \n1  b u h g c u d b d d v v c d b u p p p w d w c ...   \n2  w d y b m b p d 9 c c p d p h u g v u y v y d ...   \n3  d h m y g u c y v h d d f d d v u f f d m 0 c ...   \n4  u u h k h k d k m d u d y c u y m k g f p p c ...   \n\n   publication_new york times  \n0                           1  \n1                           1  \n2                           1  \n3                           1  \n4                           1  ",
      "text/html": "<div>\n<style scoped>\n    .dataframe tbody tr th:only-of-type {\n        vertical-align: middle;\n    }\n\n    .dataframe tbody tr th {\n        vertical-align: top;\n    }\n\n    .dataframe thead th {\n        text-align: right;\n    }\n</style>\n<table border=\"1\" class=\"dataframe\">\n  <thead>\n    <tr style=\"text-align: right;\">\n      <th></th>\n      <th>Unnamed: 0</th>\n      <th>title</th>\n      <th>author</th>\n      <th>day</th>\n      <th>year</th>\n      <th>month</th>\n      <th>content</th>\n      <th>publication_new york times</th>\n    </tr>\n  </thead>\n  <tbody>\n    <tr>\n      <th>0</th>\n      <td>0</td>\n      <td>h u p u b c f w g h h c u</td>\n      <td>0</td>\n      <td>31</td>\n      <td>2016</td>\n      <td>12</td>\n      <td>w h g c g p u b c w f c m h h c w u b m d m m ...</td>\n      <td>1</td>\n    </tr>\n    <tr>\n      <th>1</th>\n      <td>1</td>\n      <td>f f f c d k g p u h b x</td>\n      <td>1</td>\n      <td>19</td>\n      <td>2017</td>\n      <td>06</td>\n      <td>b u h g c u d b d d v v c d b u p p p w d w c ...</td>\n      <td>1</td>\n    </tr>\n    <tr>\n      <th>2</th>\n      <td>2</td>\n      <td>y u w g b m b h w d c b d 0</td>\n      <td>2</td>\n      <td>06</td>\n      <td>2017</td>\n      <td>01</td>\n      <td>w d y b m b p d 9 c c p d p h u g v u y v y d ...</td>\n      <td>1</td>\n    </tr>\n    <tr>\n      <th>3</th>\n      <td>3</td>\n      <td>m g d h 0 h v y p p m u c</td>\n      <td>3</td>\n      <td>10</td>\n      <td>2017</td>\n      <td>04</td>\n      <td>d h m y g u c y v h d d f d d v u f f d m 0 c ...</td>\n      <td>1</td>\n    </tr>\n    <tr>\n      <th>4</th>\n      <td>4</td>\n      <td>k m j g u y h k p p g g g m</td>\n      <td>4</td>\n      <td>02</td>\n      <td>2017</td>\n      <td>01</td>\n      <td>u u h k h k d k m d u d y c u y m k g f p p c ...</td>\n      <td>1</td>\n    </tr>\n  </tbody>\n</table>\n</div>"
     },
     "execution_count": 379,
     "metadata": {},
     "output_type": "execute_result"
    }
   ],
   "source": [
    "# apply mapping in author\n",
    "mapping_author = {}\n",
    "unique_authors = data_frame[\"author\"].str.lower().unique()\n",
    "for index, author in enumerate(unique_authors):\n",
    "    mapping_author[author] = index\n",
    "\n",
    "data_frame = data_frame.replace({\n",
    "    \"author\": mapping_author\n",
    "})\n",
    "data_frame.head()"
   ],
   "metadata": {
    "collapsed": false,
    "pycharm": {
     "name": "#%%\n"
    }
   }
  },
  {
   "cell_type": "code",
   "execution_count": null,
   "outputs": [],
   "source": [],
   "metadata": {
    "collapsed": false,
    "pycharm": {
     "name": "#%%\n"
    }
   }
  },
  {
   "cell_type": "code",
   "execution_count": 87,
   "outputs": [
    {
     "name": "stdout",
     "output_type": "stream",
     "text": [
      "Number of rows contain null values = 2.0 %\n"
     ]
    }
   ],
   "source": [
    "# Get percentage of number of rows contain missing values\n",
    "mask = data_frame.isnull().any(axis=1)\n",
    "rows_with_missing_values = mask.sum() / len(data_frame)*100\n",
    "print(\"Number of rows contain null values =\", rows_with_missing_values, \"%\")"
   ],
   "metadata": {
    "collapsed": false,
    "pycharm": {
     "name": "#%%\n"
    }
   }
  },
  {
   "cell_type": "code",
   "execution_count": 88,
   "outputs": [
    {
     "data": {
      "text/plain": "Unnamed: 0     0.0\nid             0.0\ntitle          0.0\npublication    0.0\nauthor         0.0\ndate           0.0\nyear           0.0\nmonth          0.0\ncontent        0.0\ndtype: float64"
     },
     "execution_count": 88,
     "metadata": {},
     "output_type": "execute_result"
    }
   ],
   "source": [
    "# Drop rows contain null values\n",
    "data_frame.dropna(inplace=True)\n",
    "data_frame.isnull().sum() / len(data_frame) * 100"
   ],
   "metadata": {
    "collapsed": false,
    "pycharm": {
     "name": "#%%\n"
    }
   }
  },
  {
   "cell_type": "markdown",
   "source": [
    "## 2- Handel columns data types"
   ],
   "metadata": {
    "collapsed": false,
    "pycharm": {
     "name": "#%% md\n"
    }
   }
  },
  {
   "cell_type": "code",
   "execution_count": 89,
   "outputs": [
    {
     "data": {
      "text/plain": "Unnamed: 0       int64\nid               int64\ntitle           object\npublication     object\nauthor          object\ndate            object\nyear           float64\nmonth          float64\ncontent         object\ndtype: object"
     },
     "execution_count": 89,
     "metadata": {},
     "output_type": "execute_result"
    }
   ],
   "source": [
    "data_frame.dtypes"
   ],
   "metadata": {
    "collapsed": false,
    "pycharm": {
     "name": "#%%\n"
    }
   }
  },
  {
   "cell_type": "code",
   "execution_count": 90,
   "outputs": [
    {
     "data": {
      "text/plain": "Unnamed: 0              int64\nid                      int64\ntitle                  string\npublication            string\nauthor                 string\ndate           datetime64[ns]\nyear                    int64\nmonth                   int64\ncontent                string\ndtype: object"
     },
     "execution_count": 90,
     "metadata": {},
     "output_type": "execute_result"
    }
   ],
   "source": [
    "data_frame= data_frame.astype({\"title\": \"string\",\n",
    "                               \"publication\": \"string\",\n",
    "                               \"author\": \"string\",\n",
    "                               \"date\": \"datetime64\",\n",
    "                               \"year\": \"int64\",\n",
    "                               \"month\": \"int64\",\n",
    "                               \"content\": \"string\"})\n",
    "\n",
    "data_frame.dtypes"
   ],
   "metadata": {
    "collapsed": false,
    "pycharm": {
     "name": "#%%\n"
    }
   }
  },
  {
   "cell_type": "markdown",
   "source": [
    "## 3- Dealing with unnecessary columns"
   ],
   "metadata": {
    "collapsed": false,
    "pycharm": {
     "name": "#%% md\n"
    }
   }
  },
  {
   "cell_type": "code",
   "execution_count": 91,
   "outputs": [
    {
     "data": {
      "text/plain": "   Unnamed: 0                                              title  \\\n0           0  House Republicans Fret About Winning Their Hea...   \n1           1  Rift Between Officers and Residents as Killing...   \n2           2  Tyrus Wong, ‘Bambi’ Artist Thwarted by Racial ...   \n3           3  Among Deaths in 2016, a Heavy Toll in Pop Musi...   \n4           4  Kim Jong-un Says North Korea Is Preparing to T...   \n\n      publication                         author       date  year  month  \\\n0  New York Times                     Carl Hulse 2016-12-31  2016     12   \n1  New York Times  Benjamin Mueller and Al Baker 2017-06-19  2017      6   \n2  New York Times                   Margalit Fox 2017-01-06  2017      1   \n3  New York Times               William McDonald 2017-04-10  2017      4   \n4  New York Times                  Choe Sang-Hun 2017-01-02  2017      1   \n\n                                             content  \n0  WASHINGTON  —   Congressional Republicans have...  \n1  After the bullet shells get counted, the blood...  \n2  When Walt Disney’s “Bambi” opened in 1942, cri...  \n3  Death may be the great equalizer, but it isn’t...  \n4  SEOUL, South Korea  —   North Korea’s leader, ...  ",
      "text/html": "<div>\n<style scoped>\n    .dataframe tbody tr th:only-of-type {\n        vertical-align: middle;\n    }\n\n    .dataframe tbody tr th {\n        vertical-align: top;\n    }\n\n    .dataframe thead th {\n        text-align: right;\n    }\n</style>\n<table border=\"1\" class=\"dataframe\">\n  <thead>\n    <tr style=\"text-align: right;\">\n      <th></th>\n      <th>Unnamed: 0</th>\n      <th>title</th>\n      <th>publication</th>\n      <th>author</th>\n      <th>date</th>\n      <th>year</th>\n      <th>month</th>\n      <th>content</th>\n    </tr>\n  </thead>\n  <tbody>\n    <tr>\n      <th>0</th>\n      <td>0</td>\n      <td>House Republicans Fret About Winning Their Hea...</td>\n      <td>New York Times</td>\n      <td>Carl Hulse</td>\n      <td>2016-12-31</td>\n      <td>2016</td>\n      <td>12</td>\n      <td>WASHINGTON  —   Congressional Republicans have...</td>\n    </tr>\n    <tr>\n      <th>1</th>\n      <td>1</td>\n      <td>Rift Between Officers and Residents as Killing...</td>\n      <td>New York Times</td>\n      <td>Benjamin Mueller and Al Baker</td>\n      <td>2017-06-19</td>\n      <td>2017</td>\n      <td>6</td>\n      <td>After the bullet shells get counted, the blood...</td>\n    </tr>\n    <tr>\n      <th>2</th>\n      <td>2</td>\n      <td>Tyrus Wong, ‘Bambi’ Artist Thwarted by Racial ...</td>\n      <td>New York Times</td>\n      <td>Margalit Fox</td>\n      <td>2017-01-06</td>\n      <td>2017</td>\n      <td>1</td>\n      <td>When Walt Disney’s “Bambi” opened in 1942, cri...</td>\n    </tr>\n    <tr>\n      <th>3</th>\n      <td>3</td>\n      <td>Among Deaths in 2016, a Heavy Toll in Pop Musi...</td>\n      <td>New York Times</td>\n      <td>William McDonald</td>\n      <td>2017-04-10</td>\n      <td>2017</td>\n      <td>4</td>\n      <td>Death may be the great equalizer, but it isn’t...</td>\n    </tr>\n    <tr>\n      <th>4</th>\n      <td>4</td>\n      <td>Kim Jong-un Says North Korea Is Preparing to T...</td>\n      <td>New York Times</td>\n      <td>Choe Sang-Hun</td>\n      <td>2017-01-02</td>\n      <td>2017</td>\n      <td>1</td>\n      <td>SEOUL, South Korea  —   North Korea’s leader, ...</td>\n    </tr>\n  </tbody>\n</table>\n</div>"
     },
     "execution_count": 91,
     "metadata": {},
     "output_type": "execute_result"
    }
   ],
   "source": [
    "# Drop id column because it contain unnecessary unique values\n",
    "data_frame.drop(columns=['id'], inplace=True)\n",
    "data_frame.head()"
   ],
   "metadata": {
    "collapsed": false,
    "pycharm": {
     "name": "#%%\n"
    }
   }
  },
  {
   "cell_type": "code",
   "execution_count": 92,
   "outputs": [
    {
     "data": {
      "text/plain": "   Unnamed: 0                                              title  \\\n0           0  House Republicans Fret About Winning Their Hea...   \n1           1  Rift Between Officers and Residents as Killing...   \n2           2  Tyrus Wong, ‘Bambi’ Artist Thwarted by Racial ...   \n3           3  Among Deaths in 2016, a Heavy Toll in Pop Musi...   \n4           4  Kim Jong-un Says North Korea Is Preparing to T...   \n\n      publication                         author day  year month  \\\n0  New York Times                     Carl Hulse  31  2016    12   \n1  New York Times  Benjamin Mueller and Al Baker  19  2017    06   \n2  New York Times                   Margalit Fox  06  2017    01   \n3  New York Times               William McDonald  10  2017    04   \n4  New York Times                  Choe Sang-Hun  02  2017    01   \n\n                                             content  \n0  WASHINGTON  —   Congressional Republicans have...  \n1  After the bullet shells get counted, the blood...  \n2  When Walt Disney’s “Bambi” opened in 1942, cri...  \n3  Death may be the great equalizer, but it isn’t...  \n4  SEOUL, South Korea  —   North Korea’s leader, ...  ",
      "text/html": "<div>\n<style scoped>\n    .dataframe tbody tr th:only-of-type {\n        vertical-align: middle;\n    }\n\n    .dataframe tbody tr th {\n        vertical-align: top;\n    }\n\n    .dataframe thead th {\n        text-align: right;\n    }\n</style>\n<table border=\"1\" class=\"dataframe\">\n  <thead>\n    <tr style=\"text-align: right;\">\n      <th></th>\n      <th>Unnamed: 0</th>\n      <th>title</th>\n      <th>publication</th>\n      <th>author</th>\n      <th>day</th>\n      <th>year</th>\n      <th>month</th>\n      <th>content</th>\n    </tr>\n  </thead>\n  <tbody>\n    <tr>\n      <th>0</th>\n      <td>0</td>\n      <td>House Republicans Fret About Winning Their Hea...</td>\n      <td>New York Times</td>\n      <td>Carl Hulse</td>\n      <td>31</td>\n      <td>2016</td>\n      <td>12</td>\n      <td>WASHINGTON  —   Congressional Republicans have...</td>\n    </tr>\n    <tr>\n      <th>1</th>\n      <td>1</td>\n      <td>Rift Between Officers and Residents as Killing...</td>\n      <td>New York Times</td>\n      <td>Benjamin Mueller and Al Baker</td>\n      <td>19</td>\n      <td>2017</td>\n      <td>06</td>\n      <td>After the bullet shells get counted, the blood...</td>\n    </tr>\n    <tr>\n      <th>2</th>\n      <td>2</td>\n      <td>Tyrus Wong, ‘Bambi’ Artist Thwarted by Racial ...</td>\n      <td>New York Times</td>\n      <td>Margalit Fox</td>\n      <td>06</td>\n      <td>2017</td>\n      <td>01</td>\n      <td>When Walt Disney’s “Bambi” opened in 1942, cri...</td>\n    </tr>\n    <tr>\n      <th>3</th>\n      <td>3</td>\n      <td>Among Deaths in 2016, a Heavy Toll in Pop Musi...</td>\n      <td>New York Times</td>\n      <td>William McDonald</td>\n      <td>10</td>\n      <td>2017</td>\n      <td>04</td>\n      <td>Death may be the great equalizer, but it isn’t...</td>\n    </tr>\n    <tr>\n      <th>4</th>\n      <td>4</td>\n      <td>Kim Jong-un Says North Korea Is Preparing to T...</td>\n      <td>New York Times</td>\n      <td>Choe Sang-Hun</td>\n      <td>02</td>\n      <td>2017</td>\n      <td>01</td>\n      <td>SEOUL, South Korea  —   North Korea’s leader, ...</td>\n    </tr>\n  </tbody>\n</table>\n</div>"
     },
     "execution_count": 92,
     "metadata": {},
     "output_type": "execute_result"
    }
   ],
   "source": [
    "# extract day from date column and rename column to day\n",
    "data_frame['date'] = data_frame['date'].astype('string')\n",
    "data_frame['date'] = data_frame['date'].str.replace(\"-\", \"/\")\n",
    "data_frame[[\"year\", \"month\", \"day\"]] = data_frame[\"date\"].str.split(\"/\", expand = True)\n",
    "data_frame['date'] = data_frame['day']\n",
    "data_frame.drop(columns=[\"day\"], inplace=True)\n",
    "data_frame.rename(columns={\"date\": \"day\"}, inplace=True)\n",
    "data_frame.head()"
   ],
   "metadata": {
    "collapsed": false,
    "pycharm": {
     "name": "#%%\n"
    }
   }
  },
  {
   "cell_type": "markdown",
   "source": [
    "## 4- Dealing with categorical data (Nominal Data)"
   ],
   "metadata": {
    "collapsed": false,
    "pycharm": {
     "name": "#%% md\n"
    }
   }
  },
  {
   "cell_type": "code",
   "execution_count": 93,
   "outputs": [
    {
     "name": "stdout",
     "output_type": "stream",
     "text": [
      "Publication unique values =  1\n"
     ]
    }
   ],
   "source": [
    "# get number of unique values in publication column\n",
    "data_frame[\"publication\"] = data_frame[\"publication\"].str.lower()\n",
    "publication_unique_values = data_frame[\"publication\"].unique()\n",
    "print(\"Publication unique values = \", len(publication_unique_values))"
   ],
   "metadata": {
    "collapsed": false,
    "pycharm": {
     "name": "#%%\n"
    }
   }
  },
  {
   "cell_type": "code",
   "execution_count": 94,
   "outputs": [
    {
     "name": "stdout",
     "output_type": "stream",
     "text": [
      "Author unique values =  87\n"
     ]
    }
   ],
   "source": [
    "# get number of unique values in author column\n",
    "data_frame[\"author\"] = data_frame[\"author\"].str.lower()\n",
    "print(\"Author unique values = \", len(data_frame[\"author\"].unique()))"
   ],
   "metadata": {
    "collapsed": false,
    "pycharm": {
     "name": "#%%\n"
    }
   }
  },
  {
   "cell_type": "code",
   "execution_count": 95,
   "outputs": [
    {
     "data": {
      "text/plain": "Unnamed: 0                     int64\ntitle                         string\nauthor                        string\nday                           string\nyear                          string\nmonth                         string\ncontent                       string\npublication_new york times     uint8\ndtype: object"
     },
     "execution_count": 95,
     "metadata": {},
     "output_type": "execute_result"
    }
   ],
   "source": [
    "# apply one hot encoding in publication column\n",
    "data_frame = pd.get_dummies(data=data_frame, columns=[\"publication\"])\n",
    "data_frame.dtypes"
   ],
   "metadata": {
    "collapsed": false,
    "pycharm": {
     "name": "#%%\n"
    }
   }
  },
  {
   "cell_type": "code",
   "execution_count": 96,
   "outputs": [
    {
     "data": {
      "text/plain": "   Unnamed: 0                                              title  author day  \\\n0           0  House Republicans Fret About Winning Their Hea...       0  31   \n1           1  Rift Between Officers and Residents as Killing...       1  19   \n2           2  Tyrus Wong, ‘Bambi’ Artist Thwarted by Racial ...       2  06   \n3           3  Among Deaths in 2016, a Heavy Toll in Pop Musi...       3  10   \n4           4  Kim Jong-un Says North Korea Is Preparing to T...       4  02   \n\n   year month                                            content  \\\n0  2016    12  WASHINGTON  —   Congressional Republicans have...   \n1  2017    06  After the bullet shells get counted, the blood...   \n2  2017    01  When Walt Disney’s “Bambi” opened in 1942, cri...   \n3  2017    04  Death may be the great equalizer, but it isn’t...   \n4  2017    01  SEOUL, South Korea  —   North Korea’s leader, ...   \n\n   publication_new york times  \n0                           1  \n1                           1  \n2                           1  \n3                           1  \n4                           1  ",
      "text/html": "<div>\n<style scoped>\n    .dataframe tbody tr th:only-of-type {\n        vertical-align: middle;\n    }\n\n    .dataframe tbody tr th {\n        vertical-align: top;\n    }\n\n    .dataframe thead th {\n        text-align: right;\n    }\n</style>\n<table border=\"1\" class=\"dataframe\">\n  <thead>\n    <tr style=\"text-align: right;\">\n      <th></th>\n      <th>Unnamed: 0</th>\n      <th>title</th>\n      <th>author</th>\n      <th>day</th>\n      <th>year</th>\n      <th>month</th>\n      <th>content</th>\n      <th>publication_new york times</th>\n    </tr>\n  </thead>\n  <tbody>\n    <tr>\n      <th>0</th>\n      <td>0</td>\n      <td>House Republicans Fret About Winning Their Hea...</td>\n      <td>0</td>\n      <td>31</td>\n      <td>2016</td>\n      <td>12</td>\n      <td>WASHINGTON  —   Congressional Republicans have...</td>\n      <td>1</td>\n    </tr>\n    <tr>\n      <th>1</th>\n      <td>1</td>\n      <td>Rift Between Officers and Residents as Killing...</td>\n      <td>1</td>\n      <td>19</td>\n      <td>2017</td>\n      <td>06</td>\n      <td>After the bullet shells get counted, the blood...</td>\n      <td>1</td>\n    </tr>\n    <tr>\n      <th>2</th>\n      <td>2</td>\n      <td>Tyrus Wong, ‘Bambi’ Artist Thwarted by Racial ...</td>\n      <td>2</td>\n      <td>06</td>\n      <td>2017</td>\n      <td>01</td>\n      <td>When Walt Disney’s “Bambi” opened in 1942, cri...</td>\n      <td>1</td>\n    </tr>\n    <tr>\n      <th>3</th>\n      <td>3</td>\n      <td>Among Deaths in 2016, a Heavy Toll in Pop Musi...</td>\n      <td>3</td>\n      <td>10</td>\n      <td>2017</td>\n      <td>04</td>\n      <td>Death may be the great equalizer, but it isn’t...</td>\n      <td>1</td>\n    </tr>\n    <tr>\n      <th>4</th>\n      <td>4</td>\n      <td>Kim Jong-un Says North Korea Is Preparing to T...</td>\n      <td>4</td>\n      <td>02</td>\n      <td>2017</td>\n      <td>01</td>\n      <td>SEOUL, South Korea  —   North Korea’s leader, ...</td>\n      <td>1</td>\n    </tr>\n  </tbody>\n</table>\n</div>"
     },
     "execution_count": 96,
     "metadata": {},
     "output_type": "execute_result"
    }
   ],
   "source": [
    "# apply mapping in author\n",
    "mapping_author = {}\n",
    "unique_authors = data_frame[\"author\"].str.lower().unique()\n",
    "for index, author in enumerate(unique_authors):\n",
    "    mapping_author[author] = index\n",
    "\n",
    "data_frame = data_frame.replace({\n",
    "    \"author\" : mapping_author\n",
    "})\n",
    "data_frame.head()"
   ],
   "metadata": {
    "collapsed": false,
    "pycharm": {
     "name": "#%%\n"
    }
   }
  },
  {
   "cell_type": "markdown",
   "source": [
    "# Text Preprocessing NLP Pipeline\n",
    "## 1- Convert to lowercase"
   ],
   "metadata": {
    "collapsed": false,
    "pycharm": {
     "name": "#%% md\n"
    }
   }
  },
  {
   "cell_type": "code",
   "execution_count": 97,
   "outputs": [
    {
     "data": {
      "text/plain": "   Unnamed: 0                                              title  author day  \\\n0           0  house republicans fret about winning their hea...       0  31   \n1           1  rift between officers and residents as killing...       1  19   \n2           2  tyrus wong, ‘bambi’ artist thwarted by racial ...       2  06   \n3           3  among deaths in 2016, a heavy toll in pop musi...       3  10   \n4           4  kim jong-un says north korea is preparing to t...       4  02   \n\n   year month                                            content  \\\n0  2016    12  washington  —   congressional republicans have...   \n1  2017    06  after the bullet shells get counted, the blood...   \n2  2017    01  when walt disney’s “bambi” opened in 1942, cri...   \n3  2017    04  death may be the great equalizer, but it isn’t...   \n4  2017    01  seoul, south korea  —   north korea’s leader, ...   \n\n   publication_new york times  \n0                           1  \n1                           1  \n2                           1  \n3                           1  \n4                           1  ",
      "text/html": "<div>\n<style scoped>\n    .dataframe tbody tr th:only-of-type {\n        vertical-align: middle;\n    }\n\n    .dataframe tbody tr th {\n        vertical-align: top;\n    }\n\n    .dataframe thead th {\n        text-align: right;\n    }\n</style>\n<table border=\"1\" class=\"dataframe\">\n  <thead>\n    <tr style=\"text-align: right;\">\n      <th></th>\n      <th>Unnamed: 0</th>\n      <th>title</th>\n      <th>author</th>\n      <th>day</th>\n      <th>year</th>\n      <th>month</th>\n      <th>content</th>\n      <th>publication_new york times</th>\n    </tr>\n  </thead>\n  <tbody>\n    <tr>\n      <th>0</th>\n      <td>0</td>\n      <td>house republicans fret about winning their hea...</td>\n      <td>0</td>\n      <td>31</td>\n      <td>2016</td>\n      <td>12</td>\n      <td>washington  —   congressional republicans have...</td>\n      <td>1</td>\n    </tr>\n    <tr>\n      <th>1</th>\n      <td>1</td>\n      <td>rift between officers and residents as killing...</td>\n      <td>1</td>\n      <td>19</td>\n      <td>2017</td>\n      <td>06</td>\n      <td>after the bullet shells get counted, the blood...</td>\n      <td>1</td>\n    </tr>\n    <tr>\n      <th>2</th>\n      <td>2</td>\n      <td>tyrus wong, ‘bambi’ artist thwarted by racial ...</td>\n      <td>2</td>\n      <td>06</td>\n      <td>2017</td>\n      <td>01</td>\n      <td>when walt disney’s “bambi” opened in 1942, cri...</td>\n      <td>1</td>\n    </tr>\n    <tr>\n      <th>3</th>\n      <td>3</td>\n      <td>among deaths in 2016, a heavy toll in pop musi...</td>\n      <td>3</td>\n      <td>10</td>\n      <td>2017</td>\n      <td>04</td>\n      <td>death may be the great equalizer, but it isn’t...</td>\n      <td>1</td>\n    </tr>\n    <tr>\n      <th>4</th>\n      <td>4</td>\n      <td>kim jong-un says north korea is preparing to t...</td>\n      <td>4</td>\n      <td>02</td>\n      <td>2017</td>\n      <td>01</td>\n      <td>seoul, south korea  —   north korea’s leader, ...</td>\n      <td>1</td>\n    </tr>\n  </tbody>\n</table>\n</div>"
     },
     "execution_count": 97,
     "metadata": {},
     "output_type": "execute_result"
    }
   ],
   "source": [
    "data_frame[\"title\"] = data_frame[\"title\"].str.lower()\n",
    "data_frame[\"content\"] = data_frame[\"content\"].str.lower()\n",
    "data_frame.head()"
   ],
   "metadata": {
    "collapsed": false,
    "pycharm": {
     "name": "#%%\n"
    }
   }
  },
  {
   "cell_type": "markdown",
   "source": [
    "## 2- Apply Tokenization\n",
    "### a- Apply sentence tokenization"
   ],
   "metadata": {
    "collapsed": false,
    "pycharm": {
     "name": "#%% md\n"
    }
   }
  },
  {
   "cell_type": "code",
   "execution_count": 98,
   "outputs": [],
   "source": [
    "# def sentence_tokenizer(text):\n",
    "#     return sent_tokenize(text)\n",
    "#\n",
    "# data_frame[\"content\"] = data_frame[\"content\"].apply(lambda x: sentence_tokenizer(x))\n",
    "#\n",
    "# data_frame[\"content\"]"
   ],
   "metadata": {
    "collapsed": false,
    "pycharm": {
     "name": "#%%\n"
    }
   }
  },
  {
   "cell_type": "markdown",
   "source": [
    "### b- Apply word tokenization"
   ],
   "metadata": {
    "collapsed": false,
    "pycharm": {
     "name": "#%% md\n"
    }
   }
  },
  {
   "cell_type": "code",
   "execution_count": 99,
   "outputs": [],
   "source": [
    "# def word_tokenizer(sentences):\n",
    "#     tokenized_words = []\n",
    "#     for x in sentences:\n",
    "#         tokenized_words = tokenized_words + word_tokenize(x)\n",
    "#     return tokenized_words\n",
    "#\n",
    "# data_frame[\"content\"] = data_frame[\"content\"].apply(lambda x: word_tokenizer(x))"
   ],
   "metadata": {
    "collapsed": false,
    "pycharm": {
     "name": "#%%\n"
    }
   }
  },
  {
   "cell_type": "markdown",
   "source": [
    "## 3- Remove Punctuations and Special Characters"
   ],
   "metadata": {
    "collapsed": false,
    "pycharm": {
     "name": "#%% md\n"
    }
   }
  },
  {
   "cell_type": "code",
   "execution_count": 100,
   "outputs": [
    {
     "data": {
      "text/plain": "                                                title  \\\n0   house republicans fret about winning their hea...   \n1   rift between officers and residents as killing...   \n2   tyrus wong   bambi  artist thwarted by racial ...   \n3   among deaths in 2016  a heavy toll in pop musi...   \n4   kim jong un says north korea is preparing to t...   \n..                                                ...   \n95  corzine reaches  5 million settlement with reg...   \n96  sears agrees to sell craftsman to stanley blac...   \n97  l i r r  train that crashed was going over twi...   \n98  record 2016 for u s  auto industry long road b...   \n99  macy s will cut 10 000 jobs after poor holiday...   \n\n                                              content  \n0   washington      congressional republicans have...  \n1   after the bullet shells get counted  the blood...  \n2   when walt disney s  bambi  opened in 1942  cri...  \n3   death may be the great equalizer  but it isn t...  \n4   seoul  south korea      north korea s leader  ...  \n..                                                ...  \n95  after more than five years of investigations a...  \n96  the question from the analyst on thursday was ...  \n97  a long island rail road train that crashed in ...  \n98  detroit      unexpectedly strong sales of new ...  \n99  struggling with sagging sales over another cru...  \n\n[98 rows x 2 columns]",
      "text/html": "<div>\n<style scoped>\n    .dataframe tbody tr th:only-of-type {\n        vertical-align: middle;\n    }\n\n    .dataframe tbody tr th {\n        vertical-align: top;\n    }\n\n    .dataframe thead th {\n        text-align: right;\n    }\n</style>\n<table border=\"1\" class=\"dataframe\">\n  <thead>\n    <tr style=\"text-align: right;\">\n      <th></th>\n      <th>title</th>\n      <th>content</th>\n    </tr>\n  </thead>\n  <tbody>\n    <tr>\n      <th>0</th>\n      <td>house republicans fret about winning their hea...</td>\n      <td>washington      congressional republicans have...</td>\n    </tr>\n    <tr>\n      <th>1</th>\n      <td>rift between officers and residents as killing...</td>\n      <td>after the bullet shells get counted  the blood...</td>\n    </tr>\n    <tr>\n      <th>2</th>\n      <td>tyrus wong   bambi  artist thwarted by racial ...</td>\n      <td>when walt disney s  bambi  opened in 1942  cri...</td>\n    </tr>\n    <tr>\n      <th>3</th>\n      <td>among deaths in 2016  a heavy toll in pop musi...</td>\n      <td>death may be the great equalizer  but it isn t...</td>\n    </tr>\n    <tr>\n      <th>4</th>\n      <td>kim jong un says north korea is preparing to t...</td>\n      <td>seoul  south korea      north korea s leader  ...</td>\n    </tr>\n    <tr>\n      <th>...</th>\n      <td>...</td>\n      <td>...</td>\n    </tr>\n    <tr>\n      <th>95</th>\n      <td>corzine reaches  5 million settlement with reg...</td>\n      <td>after more than five years of investigations a...</td>\n    </tr>\n    <tr>\n      <th>96</th>\n      <td>sears agrees to sell craftsman to stanley blac...</td>\n      <td>the question from the analyst on thursday was ...</td>\n    </tr>\n    <tr>\n      <th>97</th>\n      <td>l i r r  train that crashed was going over twi...</td>\n      <td>a long island rail road train that crashed in ...</td>\n    </tr>\n    <tr>\n      <th>98</th>\n      <td>record 2016 for u s  auto industry long road b...</td>\n      <td>detroit      unexpectedly strong sales of new ...</td>\n    </tr>\n    <tr>\n      <th>99</th>\n      <td>macy s will cut 10 000 jobs after poor holiday...</td>\n      <td>struggling with sagging sales over another cru...</td>\n    </tr>\n  </tbody>\n</table>\n<p>98 rows × 2 columns</p>\n</div>"
     },
     "execution_count": 100,
     "metadata": {},
     "output_type": "execute_result"
    }
   ],
   "source": [
    "data_frame[\"title\"] = data_frame['title'].str.replace('[^a-zA-Z0-9]', \" \", regex=True)\n",
    "\n",
    "data_frame[\"content\"] = data_frame['content'].str.replace('[^a-zA-Z0-9]', \" \", regex=True)\n",
    "\n",
    "data_frame[['title', 'content']]"
   ],
   "metadata": {
    "collapsed": false,
    "pycharm": {
     "name": "#%%\n"
    }
   }
  },
  {
   "cell_type": "markdown",
   "source": [
    "## 4- Remove unnecessary spaces and words"
   ],
   "metadata": {
    "collapsed": false,
    "pycharm": {
     "name": "#%% md\n"
    }
   }
  },
  {
   "cell_type": "code",
   "execution_count": 101,
   "outputs": [
    {
     "data": {
      "text/plain": "                                                title  \\\n0   house republicans fret about winning their hea...   \n1   rift between officers and residents as killing...   \n2   tyrus wongbambiartist thwarted by racial biasd...   \n3   among deaths in 2016a heavy toll in pop musict...   \n4   kim jong un says north korea is preparing to t...   \n..                                                ...   \n95  corzine reaches5 million settlement with regul...   \n96  sears agrees to sell craftsman to stanley blac...   \n97  l i r rtrain that crashed was going over twice...   \n98  record 2016 for u sauto industry long road bac...   \n99  macy s will cut 10 000 jobs after poor holiday...   \n\n                                              content  \n0   washington congressional republicans have a ne...  \n1   after the bullet shells get counted the blood ...  \n2   when walt disney s bambi opened in 1942 critic...  \n3   death may be the great equalizer but it isn t ...  \n4   seoul south korea north korea s leader kim sai...  \n..                                                ...  \n95  after more than five years of investigations a...  \n96  the question from the analyst on thursday was ...  \n97  a long island rail road train that crashed in ...  \n98  detroit unexpectedly strong sales of new vehic...  \n99  struggling with sagging sales over another cru...  \n\n[98 rows x 2 columns]",
      "text/html": "<div>\n<style scoped>\n    .dataframe tbody tr th:only-of-type {\n        vertical-align: middle;\n    }\n\n    .dataframe tbody tr th {\n        vertical-align: top;\n    }\n\n    .dataframe thead th {\n        text-align: right;\n    }\n</style>\n<table border=\"1\" class=\"dataframe\">\n  <thead>\n    <tr style=\"text-align: right;\">\n      <th></th>\n      <th>title</th>\n      <th>content</th>\n    </tr>\n  </thead>\n  <tbody>\n    <tr>\n      <th>0</th>\n      <td>house republicans fret about winning their hea...</td>\n      <td>washington congressional republicans have a ne...</td>\n    </tr>\n    <tr>\n      <th>1</th>\n      <td>rift between officers and residents as killing...</td>\n      <td>after the bullet shells get counted the blood ...</td>\n    </tr>\n    <tr>\n      <th>2</th>\n      <td>tyrus wongbambiartist thwarted by racial biasd...</td>\n      <td>when walt disney s bambi opened in 1942 critic...</td>\n    </tr>\n    <tr>\n      <th>3</th>\n      <td>among deaths in 2016a heavy toll in pop musict...</td>\n      <td>death may be the great equalizer but it isn t ...</td>\n    </tr>\n    <tr>\n      <th>4</th>\n      <td>kim jong un says north korea is preparing to t...</td>\n      <td>seoul south korea north korea s leader kim sai...</td>\n    </tr>\n    <tr>\n      <th>...</th>\n      <td>...</td>\n      <td>...</td>\n    </tr>\n    <tr>\n      <th>95</th>\n      <td>corzine reaches5 million settlement with regul...</td>\n      <td>after more than five years of investigations a...</td>\n    </tr>\n    <tr>\n      <th>96</th>\n      <td>sears agrees to sell craftsman to stanley blac...</td>\n      <td>the question from the analyst on thursday was ...</td>\n    </tr>\n    <tr>\n      <th>97</th>\n      <td>l i r rtrain that crashed was going over twice...</td>\n      <td>a long island rail road train that crashed in ...</td>\n    </tr>\n    <tr>\n      <th>98</th>\n      <td>record 2016 for u sauto industry long road bac...</td>\n      <td>detroit unexpectedly strong sales of new vehic...</td>\n    </tr>\n    <tr>\n      <th>99</th>\n      <td>macy s will cut 10 000 jobs after poor holiday...</td>\n      <td>struggling with sagging sales over another cru...</td>\n    </tr>\n  </tbody>\n</table>\n<p>98 rows × 2 columns</p>\n</div>"
     },
     "execution_count": 101,
     "metadata": {},
     "output_type": "execute_result"
    }
   ],
   "source": [
    "# remove unnecessary spaces\n",
    "data_frame[\"title\"] = data_frame['title'].str.replace('\\s\\s+', \"\", regex=True)\n",
    "\n",
    "data_frame[\"content\"] = data_frame['content'].str.replace('\\s\\s+', \" \", regex=True)\n",
    "\n",
    "data_frame[['title', 'content']]"
   ],
   "metadata": {
    "collapsed": false,
    "pycharm": {
     "name": "#%%\n"
    }
   }
  },
  {
   "cell_type": "code",
   "execution_count": 102,
   "outputs": [
    {
     "data": {
      "text/plain": "   Unnamed: 0                                              title  author day  \\\n0           0  house republicans fret about winning their hea...       0  31   \n1           1  rift between officers and residents as killing...       1  19   \n2           2  tyrus wongbambiartist thwarted by racial biasd...       2  06   \n3           3   among deaths in 2016a heavy toll in pop musicthe       3  10   \n4           4  kim jong un says north korea is preparing to t...       4  02   \n\n   year month                                            content  \\\n0  2016    12  washington congressional republicans have a ne...   \n1  2017    06  after the bullet shells get counted the blood ...   \n2  2017    01  when walt disney s bambi opened in 1942 critic...   \n3  2017    04  death may be the great equalizer but it isn t ...   \n4  2017    01  seoul south korea north korea s leader kim sai...   \n\n   publication_new york times  \n0                           1  \n1                           1  \n2                           1  \n3                           1  \n4                           1  ",
      "text/html": "<div>\n<style scoped>\n    .dataframe tbody tr th:only-of-type {\n        vertical-align: middle;\n    }\n\n    .dataframe tbody tr th {\n        vertical-align: top;\n    }\n\n    .dataframe thead th {\n        text-align: right;\n    }\n</style>\n<table border=\"1\" class=\"dataframe\">\n  <thead>\n    <tr style=\"text-align: right;\">\n      <th></th>\n      <th>Unnamed: 0</th>\n      <th>title</th>\n      <th>author</th>\n      <th>day</th>\n      <th>year</th>\n      <th>month</th>\n      <th>content</th>\n      <th>publication_new york times</th>\n    </tr>\n  </thead>\n  <tbody>\n    <tr>\n      <th>0</th>\n      <td>0</td>\n      <td>house republicans fret about winning their hea...</td>\n      <td>0</td>\n      <td>31</td>\n      <td>2016</td>\n      <td>12</td>\n      <td>washington congressional republicans have a ne...</td>\n      <td>1</td>\n    </tr>\n    <tr>\n      <th>1</th>\n      <td>1</td>\n      <td>rift between officers and residents as killing...</td>\n      <td>1</td>\n      <td>19</td>\n      <td>2017</td>\n      <td>06</td>\n      <td>after the bullet shells get counted the blood ...</td>\n      <td>1</td>\n    </tr>\n    <tr>\n      <th>2</th>\n      <td>2</td>\n      <td>tyrus wongbambiartist thwarted by racial biasd...</td>\n      <td>2</td>\n      <td>06</td>\n      <td>2017</td>\n      <td>01</td>\n      <td>when walt disney s bambi opened in 1942 critic...</td>\n      <td>1</td>\n    </tr>\n    <tr>\n      <th>3</th>\n      <td>3</td>\n      <td>among deaths in 2016a heavy toll in pop musicthe</td>\n      <td>3</td>\n      <td>10</td>\n      <td>2017</td>\n      <td>04</td>\n      <td>death may be the great equalizer but it isn t ...</td>\n      <td>1</td>\n    </tr>\n    <tr>\n      <th>4</th>\n      <td>4</td>\n      <td>kim jong un says north korea is preparing to t...</td>\n      <td>4</td>\n      <td>02</td>\n      <td>2017</td>\n      <td>01</td>\n      <td>seoul south korea north korea s leader kim sai...</td>\n      <td>1</td>\n    </tr>\n  </tbody>\n</table>\n</div>"
     },
     "execution_count": 102,
     "metadata": {},
     "output_type": "execute_result"
    }
   ],
   "source": [
    "# remove unnecessary words\n",
    "# remove publication from title\n",
    "for publication in publication_unique_values:\n",
    "    data_frame[\"title\"] = data_frame['title'].str.replace(\".\" + publication + \"$\", \"\", regex=True)\n",
    "\n",
    "data_frame.head()"
   ],
   "metadata": {
    "collapsed": false,
    "pycharm": {
     "name": "#%%\n"
    }
   }
  },
  {
   "cell_type": "markdown",
   "source": [
    "## 5- Remove Stop Words"
   ],
   "metadata": {
    "collapsed": false,
    "pycharm": {
     "name": "#%% md\n"
    }
   }
  },
  {
   "cell_type": "code",
   "execution_count": 103,
   "outputs": [],
   "source": [
    "STOPWORDS = set(stopwords.words(\"english\"))\n",
    "def remove_stop_words(text):\n",
    "    return \" \".join([word for word in text.split() if word not in STOPWORDS])\n",
    "\n",
    "data_frame[\"title\"] = data_frame[\"title\"].apply(lambda x: remove_stop_words(x))\n",
    "\n",
    "data_frame[\"content\"] = data_frame[\"content\"].apply(lambda x: remove_stop_words(x))"
   ],
   "metadata": {
    "collapsed": false,
    "pycharm": {
     "name": "#%%\n"
    }
   }
  },
  {
   "cell_type": "markdown",
   "source": [
    "## 6- Remove frequently words"
   ],
   "metadata": {
    "collapsed": false,
    "pycharm": {
     "name": "#%% md\n"
    }
   }
  },
  {
   "cell_type": "code",
   "execution_count": 104,
   "outputs": [],
   "source": [
    "word_counter_title = Counter()\n",
    "word_counter_content = Counter()\n",
    "def get_most_frequently_words(column_name, word_counter):\n",
    "    for text in data_frame[column_name]:\n",
    "        for word in text.split():\n",
    "            word_counter[word] += 1\n",
    "    return word_counter\n",
    "\n",
    "# get the most common frequently words in [title] more than 1000\n",
    "word_frequency_title = get_most_frequently_words(\"title\", word_counter_title).most_common(10)\n",
    "\n",
    "# get the most common frequently words in [content]\n",
    "word_frequency_content = get_most_frequently_words(\"content\", word_counter_content).most_common(10)"
   ],
   "metadata": {
    "collapsed": false,
    "pycharm": {
     "name": "#%%\n"
    }
   }
  },
  {
   "cell_type": "code",
   "execution_count": 105,
   "outputs": [],
   "source": [
    "FREQUENT_WORDS_TITLE = set(word for (word, word_count) in get_most_frequently_words(\"title\", word_counter_title).most_common(10))\n",
    "\n",
    "FREQUENT_WORDS_CONTENT = set(word for (word, word_count) in get_most_frequently_words(\"content\", word_counter_content).most_common(10))\n",
    "\n",
    "def remove_frequent_words(string_text, frequent_words):\n",
    "    return \" \".join([word for word in string_text.split() if word not in frequent_words])\n",
    "\n",
    "data_frame[\"title\"] = data_frame[\"title\"].apply(lambda x: remove_frequent_words(x, FREQUENT_WORDS_TITLE))\n",
    "\n",
    "data_frame[\"content\"] = data_frame[\"content\"].apply(lambda x: remove_frequent_words(x, FREQUENT_WORDS_CONTENT))"
   ],
   "metadata": {
    "collapsed": false,
    "pycharm": {
     "name": "#%%\n"
    }
   }
  },
  {
   "cell_type": "markdown",
   "source": [
    "## 7- Remove rare words"
   ],
   "metadata": {
    "collapsed": false,
    "pycharm": {
     "name": "#%% md\n"
    }
   }
  },
  {
   "cell_type": "code",
   "execution_count": 106,
   "outputs": [],
   "source": [
    "RARE_WORDS_TITLE = set(word for (word, word_count) in get_most_frequently_words(\"title\", word_counter_title).most_common()[:-10:-1])\n",
    "\n",
    "RARE_WORDS_CONTENT = set(word for (word, word_count) in get_most_frequently_words(\"content\", word_counter_content).most_common()[:-10:-1])\n",
    "\n",
    "def remove_rare_words(string_text, rare_words):\n",
    "    return \" \".join([word for word in string_text.split() if word not in rare_words])\n",
    "\n",
    "data_frame[\"title\"] = data_frame[\"title\"].apply(lambda x: remove_rare_words(x, RARE_WORDS_TITLE))\n",
    "\n",
    "data_frame[\"content\"] = data_frame[\"content\"].apply(lambda x: remove_rare_words(x, RARE_WORDS_CONTENT))"
   ],
   "metadata": {
    "collapsed": false,
    "pycharm": {
     "name": "#%%\n"
    }
   }
  },
  {
   "cell_type": "markdown",
   "source": [
    "## 8- Apply Stemming"
   ],
   "metadata": {
    "collapsed": false,
    "pycharm": {
     "name": "#%% md\n"
    }
   }
  },
  {
   "cell_type": "code",
   "execution_count": 107,
   "outputs": [],
   "source": [
    "porter_stemmer_title = PorterStemmer()\n",
    "porter_stemmer_content = PorterStemmer()\n",
    "def stemming_words(text, porter_stemmer):\n",
    "    return \" \".join([porter_stemmer.stem(word) for word in text.split()])\n",
    "\n",
    "data_frame[\"title\"] = data_frame[\"title\"].apply(lambda x: stemming_words(x, porter_stemmer_title))\n",
    "\n",
    "data_frame[\"content\"] = data_frame[\"content\"].apply(lambda x: stemming_words(x, porter_stemmer_content))"
   ],
   "metadata": {
    "collapsed": false,
    "pycharm": {
     "name": "#%%\n"
    }
   }
  },
  {
   "cell_type": "markdown",
   "source": [
    "## 9- Apply POS and Lemmatization"
   ],
   "metadata": {
    "collapsed": false,
    "pycharm": {
     "name": "#%% md\n"
    }
   }
  },
  {
   "cell_type": "code",
   "execution_count": 108,
   "outputs": [],
   "source": [
    "lemmatizer_title = WordNetLemmatizer()\n",
    "lemmatizer_content = WordNetLemmatizer()\n",
    "wordnet_map = {\"N\": wordnet.NOUN, \"V\": wordnet.VERB, \"J\": wordnet.ADJ, \"R\": wordnet.ADV}\n",
    "\n",
    "def lemmatize_words(text, lemmatizer):\n",
    "    # apply POS tagging\n",
    "    pos_text = pos_tag(text.split())\n",
    "    return \" \".join([lemmatizer.lemmatize(word, wordnet_map.get(pos[0],  wordnet.NOUN)) for word, pos in pos_text])\n",
    "\n",
    "data_frame[\"title\"] = data_frame[\"title\"].apply(lambda x: lemmatize_words(x, lemmatizer_title))\n",
    "\n",
    "data_frame[\"content\"] = data_frame[\"content\"].apply(lambda x: lemmatize_words(x, lemmatizer_content))"
   ],
   "metadata": {
    "collapsed": false,
    "pycharm": {
     "name": "#%%\n"
    }
   }
  },
  {
   "cell_type": "code",
   "execution_count": 108,
   "outputs": [],
   "source": [],
   "metadata": {
    "collapsed": false,
    "pycharm": {
     "name": "#%%\n"
    }
   }
  }
 ],
 "metadata": {
  "kernelspec": {
   "display_name": "Python 3",
   "language": "python",
   "name": "python3"
  },
  "language_info": {
   "codemirror_mode": {
    "name": "ipython",
    "version": 2
   },
   "file_extension": ".py",
   "mimetype": "text/x-python",
   "name": "python",
   "nbconvert_exporter": "python",
   "pygments_lexer": "ipython2",
   "version": "2.7.6"
  }
 },
 "nbformat": 4,
 "nbformat_minor": 0
}