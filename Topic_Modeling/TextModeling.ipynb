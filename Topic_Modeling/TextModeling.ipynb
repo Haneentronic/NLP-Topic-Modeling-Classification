{
 "cells": [
  {
   "cell_type": "markdown",
   "source": [
    "# Imports"
   ],
   "metadata": {
    "collapsed": false,
    "pycharm": {
     "name": "#%% md\n"
    }
   }
  },
  {
   "cell_type": "code",
   "execution_count": 198,
   "outputs": [],
   "source": [
    "import pandas as pd\n",
    "import string\n",
    "import re\n",
    "from nltk.tokenize import sent_tokenize, word_tokenize\n",
    "from nltk.corpus import stopwords\n",
    "from collections import Counter\n",
    "from nltk.stem import PorterStemmer\n",
    "from nltk import pos_tag\n",
    "from nltk.corpus import wordnet\n",
    "from nltk.stem import WordNetLemmatizer\n",
    "from sklearn.feature_extraction.text import TfidfVectorizer\n",
    "from sklearn.model_selection import train_test_split"
   ],
   "metadata": {
    "collapsed": false,
    "pycharm": {
     "name": "#%%\n"
    }
   }
  },
  {
   "cell_type": "markdown",
   "source": [
    "# Data Reading"
   ],
   "metadata": {
    "collapsed": false,
    "pycharm": {
     "name": "#%% md\n"
    }
   }
  },
  {
   "cell_type": "code",
   "execution_count": 199,
   "outputs": [
    {
     "data": {
      "text/plain": "   Unnamed: 0     id                                              title  \\\n0           0  17283  House Republicans Fret About Winning Their Hea...   \n1           1  17284  Rift Between Officers and Residents as Killing...   \n2           2  17285  Tyrus Wong, ‘Bambi’ Artist Thwarted by Racial ...   \n3           3  17286  Among Deaths in 2016, a Heavy Toll in Pop Musi...   \n4           4  17287  Kim Jong-un Says North Korea Is Preparing to T...   \n\n      publication                         author        date    year  month  \\\n0  New York Times                     Carl Hulse  2016-12-31  2016.0   12.0   \n1  New York Times  Benjamin Mueller and Al Baker  2017-06-19  2017.0    6.0   \n2  New York Times                   Margalit Fox  2017-01-06  2017.0    1.0   \n3  New York Times               William McDonald  2017-04-10  2017.0    4.0   \n4  New York Times                  Choe Sang-Hun  2017-01-02  2017.0    1.0   \n\n   url                                            content  \n0  NaN  WASHINGTON  —   Congressional Republicans have...  \n1  NaN  After the bullet shells get counted, the blood...  \n2  NaN  When Walt Disney’s “Bambi” opened in 1942, cri...  \n3  NaN  Death may be the great equalizer, but it isn’t...  \n4  NaN  SEOUL, South Korea  —   North Korea’s leader, ...  ",
      "text/html": "<div>\n<style scoped>\n    .dataframe tbody tr th:only-of-type {\n        vertical-align: middle;\n    }\n\n    .dataframe tbody tr th {\n        vertical-align: top;\n    }\n\n    .dataframe thead th {\n        text-align: right;\n    }\n</style>\n<table border=\"1\" class=\"dataframe\">\n  <thead>\n    <tr style=\"text-align: right;\">\n      <th></th>\n      <th>Unnamed: 0</th>\n      <th>id</th>\n      <th>title</th>\n      <th>publication</th>\n      <th>author</th>\n      <th>date</th>\n      <th>year</th>\n      <th>month</th>\n      <th>url</th>\n      <th>content</th>\n    </tr>\n  </thead>\n  <tbody>\n    <tr>\n      <th>0</th>\n      <td>0</td>\n      <td>17283</td>\n      <td>House Republicans Fret About Winning Their Hea...</td>\n      <td>New York Times</td>\n      <td>Carl Hulse</td>\n      <td>2016-12-31</td>\n      <td>2016.0</td>\n      <td>12.0</td>\n      <td>NaN</td>\n      <td>WASHINGTON  —   Congressional Republicans have...</td>\n    </tr>\n    <tr>\n      <th>1</th>\n      <td>1</td>\n      <td>17284</td>\n      <td>Rift Between Officers and Residents as Killing...</td>\n      <td>New York Times</td>\n      <td>Benjamin Mueller and Al Baker</td>\n      <td>2017-06-19</td>\n      <td>2017.0</td>\n      <td>6.0</td>\n      <td>NaN</td>\n      <td>After the bullet shells get counted, the blood...</td>\n    </tr>\n    <tr>\n      <th>2</th>\n      <td>2</td>\n      <td>17285</td>\n      <td>Tyrus Wong, ‘Bambi’ Artist Thwarted by Racial ...</td>\n      <td>New York Times</td>\n      <td>Margalit Fox</td>\n      <td>2017-01-06</td>\n      <td>2017.0</td>\n      <td>1.0</td>\n      <td>NaN</td>\n      <td>When Walt Disney’s “Bambi” opened in 1942, cri...</td>\n    </tr>\n    <tr>\n      <th>3</th>\n      <td>3</td>\n      <td>17286</td>\n      <td>Among Deaths in 2016, a Heavy Toll in Pop Musi...</td>\n      <td>New York Times</td>\n      <td>William McDonald</td>\n      <td>2017-04-10</td>\n      <td>2017.0</td>\n      <td>4.0</td>\n      <td>NaN</td>\n      <td>Death may be the great equalizer, but it isn’t...</td>\n    </tr>\n    <tr>\n      <th>4</th>\n      <td>4</td>\n      <td>17287</td>\n      <td>Kim Jong-un Says North Korea Is Preparing to T...</td>\n      <td>New York Times</td>\n      <td>Choe Sang-Hun</td>\n      <td>2017-01-02</td>\n      <td>2017.0</td>\n      <td>1.0</td>\n      <td>NaN</td>\n      <td>SEOUL, South Korea  —   North Korea’s leader, ...</td>\n    </tr>\n  </tbody>\n</table>\n</div>"
     },
     "execution_count": 199,
     "metadata": {},
     "output_type": "execute_result"
    }
   ],
   "source": [
    "data_frame = pd.read_csv(\"../Dataset/articles.csv\")\n",
    "data_frame.head()\n",
    "\n",
    "# data_frame = data_frame.head(100)"
   ],
   "metadata": {
    "collapsed": false,
    "pycharm": {
     "name": "#%%\n"
    }
   }
  },
  {
   "cell_type": "markdown",
   "source": [
    "# Data Preprocessing\n",
    "## 1- Handel Missing values\n",
    "### a- Handel columns with missing values"
   ],
   "metadata": {
    "collapsed": false,
    "pycharm": {
     "name": "#%% md\n"
    }
   }
  },
  {
   "cell_type": "code",
   "execution_count": 200,
   "outputs": [
    {
     "data": {
      "text/plain": "Unnamed: 0       0.000\nid               0.000\ntitle            0.000\npublication      0.000\nauthor          12.612\ndate             0.000\nyear             0.000\nmonth            0.000\nurl            100.000\ncontent          0.000\ndtype: float64"
     },
     "execution_count": 200,
     "metadata": {},
     "output_type": "execute_result"
    }
   ],
   "source": [
    "# Get total number of nulls in each column\n",
    "data_frame.isnull().sum() / len(data_frame) * 100"
   ],
   "metadata": {
    "collapsed": false,
    "pycharm": {
     "name": "#%%\n"
    }
   }
  },
  {
   "cell_type": "code",
   "execution_count": 201,
   "outputs": [
    {
     "data": {
      "text/plain": "Unnamed: 0      0.000\nid              0.000\ntitle           0.000\npublication     0.000\nauthor         12.612\ndate            0.000\nyear            0.000\nmonth           0.000\ncontent         0.000\ndtype: float64"
     },
     "execution_count": 201,
     "metadata": {},
     "output_type": "execute_result"
    }
   ],
   "source": [
    "# Remove url column because it's empty(100% null values)\n",
    "data_frame.drop(columns=['url'], inplace=True)\n",
    "data_frame.isnull().sum() / len(data_frame) * 100"
   ],
   "metadata": {
    "collapsed": false,
    "pycharm": {
     "name": "#%%\n"
    }
   }
  },
  {
   "cell_type": "markdown",
   "source": [
    "### b- Handel rows with missing values"
   ],
   "metadata": {
    "collapsed": false,
    "pycharm": {
     "name": "#%% md\n"
    }
   }
  },
  {
   "cell_type": "code",
   "execution_count": 202,
   "outputs": [
    {
     "name": "stdout",
     "output_type": "stream",
     "text": [
      "Number of rows contain null values = 12.612000000000002 %\n"
     ]
    }
   ],
   "source": [
    "# Get percentage of number of rows contain missing values\n",
    "mask = data_frame.isnull().any(axis=1)\n",
    "rows_with_missing_values = mask.sum() / len(data_frame)*100\n",
    "print(\"Number of rows contain null values =\", rows_with_missing_values, \"%\")"
   ],
   "metadata": {
    "collapsed": false,
    "pycharm": {
     "name": "#%%\n"
    }
   }
  },
  {
   "cell_type": "code",
   "execution_count": 203,
   "outputs": [
    {
     "data": {
      "text/plain": "Unnamed: 0     0.0\nid             0.0\ntitle          0.0\npublication    0.0\nauthor         0.0\ndate           0.0\nyear           0.0\nmonth          0.0\ncontent        0.0\ndtype: float64"
     },
     "execution_count": 203,
     "metadata": {},
     "output_type": "execute_result"
    }
   ],
   "source": [
    "# Drop rows contain null values\n",
    "data_frame.dropna(inplace=True)\n",
    "data_frame.isnull().sum() / len(data_frame) * 100"
   ],
   "metadata": {
    "collapsed": false,
    "pycharm": {
     "name": "#%%\n"
    }
   }
  },
  {
   "cell_type": "markdown",
   "source": [
    "## 2- Handel columns data types"
   ],
   "metadata": {
    "collapsed": false,
    "pycharm": {
     "name": "#%% md\n"
    }
   }
  },
  {
   "cell_type": "code",
   "execution_count": 204,
   "outputs": [
    {
     "data": {
      "text/plain": "Unnamed: 0       int64\nid               int64\ntitle           object\npublication     object\nauthor          object\ndate            object\nyear           float64\nmonth          float64\ncontent         object\ndtype: object"
     },
     "execution_count": 204,
     "metadata": {},
     "output_type": "execute_result"
    }
   ],
   "source": [
    "data_frame.dtypes"
   ],
   "metadata": {
    "collapsed": false,
    "pycharm": {
     "name": "#%%\n"
    }
   }
  },
  {
   "cell_type": "code",
   "execution_count": 205,
   "outputs": [
    {
     "data": {
      "text/plain": "Unnamed: 0              int64\nid                      int64\ntitle                  string\npublication            string\nauthor                 string\ndate           datetime64[ns]\nyear                    int64\nmonth                   int64\ncontent                string\ndtype: object"
     },
     "execution_count": 205,
     "metadata": {},
     "output_type": "execute_result"
    }
   ],
   "source": [
    "data_frame= data_frame.astype({\"title\": \"string\",\n",
    "                               \"publication\": \"string\",\n",
    "                               \"author\": \"string\",\n",
    "                               \"date\": \"datetime64\",\n",
    "                               \"year\": \"int64\",\n",
    "                               \"month\": \"int64\",\n",
    "                               \"content\": \"string\"})\n",
    "\n",
    "data_frame.dtypes"
   ],
   "metadata": {
    "collapsed": false,
    "pycharm": {
     "name": "#%%\n"
    }
   }
  },
  {
   "cell_type": "markdown",
   "source": [
    "## 3- Dealing with unnecessary columns"
   ],
   "metadata": {
    "collapsed": false,
    "pycharm": {
     "name": "#%% md\n"
    }
   }
  },
  {
   "cell_type": "code",
   "execution_count": 206,
   "outputs": [
    {
     "data": {
      "text/plain": "   Unnamed: 0                                              title  \\\n0           0  House Republicans Fret About Winning Their Hea...   \n1           1  Rift Between Officers and Residents as Killing...   \n2           2  Tyrus Wong, ‘Bambi’ Artist Thwarted by Racial ...   \n3           3  Among Deaths in 2016, a Heavy Toll in Pop Musi...   \n4           4  Kim Jong-un Says North Korea Is Preparing to T...   \n\n      publication                         author       date  year  month  \\\n0  New York Times                     Carl Hulse 2016-12-31  2016     12   \n1  New York Times  Benjamin Mueller and Al Baker 2017-06-19  2017      6   \n2  New York Times                   Margalit Fox 2017-01-06  2017      1   \n3  New York Times               William McDonald 2017-04-10  2017      4   \n4  New York Times                  Choe Sang-Hun 2017-01-02  2017      1   \n\n                                             content  \n0  WASHINGTON  —   Congressional Republicans have...  \n1  After the bullet shells get counted, the blood...  \n2  When Walt Disney’s “Bambi” opened in 1942, cri...  \n3  Death may be the great equalizer, but it isn’t...  \n4  SEOUL, South Korea  —   North Korea’s leader, ...  ",
      "text/html": "<div>\n<style scoped>\n    .dataframe tbody tr th:only-of-type {\n        vertical-align: middle;\n    }\n\n    .dataframe tbody tr th {\n        vertical-align: top;\n    }\n\n    .dataframe thead th {\n        text-align: right;\n    }\n</style>\n<table border=\"1\" class=\"dataframe\">\n  <thead>\n    <tr style=\"text-align: right;\">\n      <th></th>\n      <th>Unnamed: 0</th>\n      <th>title</th>\n      <th>publication</th>\n      <th>author</th>\n      <th>date</th>\n      <th>year</th>\n      <th>month</th>\n      <th>content</th>\n    </tr>\n  </thead>\n  <tbody>\n    <tr>\n      <th>0</th>\n      <td>0</td>\n      <td>House Republicans Fret About Winning Their Hea...</td>\n      <td>New York Times</td>\n      <td>Carl Hulse</td>\n      <td>2016-12-31</td>\n      <td>2016</td>\n      <td>12</td>\n      <td>WASHINGTON  —   Congressional Republicans have...</td>\n    </tr>\n    <tr>\n      <th>1</th>\n      <td>1</td>\n      <td>Rift Between Officers and Residents as Killing...</td>\n      <td>New York Times</td>\n      <td>Benjamin Mueller and Al Baker</td>\n      <td>2017-06-19</td>\n      <td>2017</td>\n      <td>6</td>\n      <td>After the bullet shells get counted, the blood...</td>\n    </tr>\n    <tr>\n      <th>2</th>\n      <td>2</td>\n      <td>Tyrus Wong, ‘Bambi’ Artist Thwarted by Racial ...</td>\n      <td>New York Times</td>\n      <td>Margalit Fox</td>\n      <td>2017-01-06</td>\n      <td>2017</td>\n      <td>1</td>\n      <td>When Walt Disney’s “Bambi” opened in 1942, cri...</td>\n    </tr>\n    <tr>\n      <th>3</th>\n      <td>3</td>\n      <td>Among Deaths in 2016, a Heavy Toll in Pop Musi...</td>\n      <td>New York Times</td>\n      <td>William McDonald</td>\n      <td>2017-04-10</td>\n      <td>2017</td>\n      <td>4</td>\n      <td>Death may be the great equalizer, but it isn’t...</td>\n    </tr>\n    <tr>\n      <th>4</th>\n      <td>4</td>\n      <td>Kim Jong-un Says North Korea Is Preparing to T...</td>\n      <td>New York Times</td>\n      <td>Choe Sang-Hun</td>\n      <td>2017-01-02</td>\n      <td>2017</td>\n      <td>1</td>\n      <td>SEOUL, South Korea  —   North Korea’s leader, ...</td>\n    </tr>\n  </tbody>\n</table>\n</div>"
     },
     "execution_count": 206,
     "metadata": {},
     "output_type": "execute_result"
    }
   ],
   "source": [
    "# Drop id column because it contain unnecessary unique values\n",
    "data_frame.drop(columns=['id'], inplace=True)\n",
    "data_frame.head()"
   ],
   "metadata": {
    "collapsed": false,
    "pycharm": {
     "name": "#%%\n"
    }
   }
  },
  {
   "cell_type": "code",
   "execution_count": 207,
   "outputs": [
    {
     "data": {
      "text/plain": "   Unnamed: 0                                              title  \\\n0           0  House Republicans Fret About Winning Their Hea...   \n1           1  Rift Between Officers and Residents as Killing...   \n2           2  Tyrus Wong, ‘Bambi’ Artist Thwarted by Racial ...   \n3           3  Among Deaths in 2016, a Heavy Toll in Pop Musi...   \n4           4  Kim Jong-un Says North Korea Is Preparing to T...   \n\n      publication                         author day  year month  \\\n0  New York Times                     Carl Hulse  31  2016    12   \n1  New York Times  Benjamin Mueller and Al Baker  19  2017    06   \n2  New York Times                   Margalit Fox  06  2017    01   \n3  New York Times               William McDonald  10  2017    04   \n4  New York Times                  Choe Sang-Hun  02  2017    01   \n\n                                             content  \n0  WASHINGTON  —   Congressional Republicans have...  \n1  After the bullet shells get counted, the blood...  \n2  When Walt Disney’s “Bambi” opened in 1942, cri...  \n3  Death may be the great equalizer, but it isn’t...  \n4  SEOUL, South Korea  —   North Korea’s leader, ...  ",
      "text/html": "<div>\n<style scoped>\n    .dataframe tbody tr th:only-of-type {\n        vertical-align: middle;\n    }\n\n    .dataframe tbody tr th {\n        vertical-align: top;\n    }\n\n    .dataframe thead th {\n        text-align: right;\n    }\n</style>\n<table border=\"1\" class=\"dataframe\">\n  <thead>\n    <tr style=\"text-align: right;\">\n      <th></th>\n      <th>Unnamed: 0</th>\n      <th>title</th>\n      <th>publication</th>\n      <th>author</th>\n      <th>day</th>\n      <th>year</th>\n      <th>month</th>\n      <th>content</th>\n    </tr>\n  </thead>\n  <tbody>\n    <tr>\n      <th>0</th>\n      <td>0</td>\n      <td>House Republicans Fret About Winning Their Hea...</td>\n      <td>New York Times</td>\n      <td>Carl Hulse</td>\n      <td>31</td>\n      <td>2016</td>\n      <td>12</td>\n      <td>WASHINGTON  —   Congressional Republicans have...</td>\n    </tr>\n    <tr>\n      <th>1</th>\n      <td>1</td>\n      <td>Rift Between Officers and Residents as Killing...</td>\n      <td>New York Times</td>\n      <td>Benjamin Mueller and Al Baker</td>\n      <td>19</td>\n      <td>2017</td>\n      <td>06</td>\n      <td>After the bullet shells get counted, the blood...</td>\n    </tr>\n    <tr>\n      <th>2</th>\n      <td>2</td>\n      <td>Tyrus Wong, ‘Bambi’ Artist Thwarted by Racial ...</td>\n      <td>New York Times</td>\n      <td>Margalit Fox</td>\n      <td>06</td>\n      <td>2017</td>\n      <td>01</td>\n      <td>When Walt Disney’s “Bambi” opened in 1942, cri...</td>\n    </tr>\n    <tr>\n      <th>3</th>\n      <td>3</td>\n      <td>Among Deaths in 2016, a Heavy Toll in Pop Musi...</td>\n      <td>New York Times</td>\n      <td>William McDonald</td>\n      <td>10</td>\n      <td>2017</td>\n      <td>04</td>\n      <td>Death may be the great equalizer, but it isn’t...</td>\n    </tr>\n    <tr>\n      <th>4</th>\n      <td>4</td>\n      <td>Kim Jong-un Says North Korea Is Preparing to T...</td>\n      <td>New York Times</td>\n      <td>Choe Sang-Hun</td>\n      <td>02</td>\n      <td>2017</td>\n      <td>01</td>\n      <td>SEOUL, South Korea  —   North Korea’s leader, ...</td>\n    </tr>\n  </tbody>\n</table>\n</div>"
     },
     "execution_count": 207,
     "metadata": {},
     "output_type": "execute_result"
    }
   ],
   "source": [
    "# extract day from date column and rename column to day\n",
    "data_frame['date'] = data_frame['date'].astype('string')\n",
    "data_frame['date'] = data_frame['date'].str.replace(\"-\", \"/\")\n",
    "data_frame[[\"year\", \"month\", \"day\"]] = data_frame[\"date\"].str.split(\"/\", expand = True)\n",
    "data_frame['date'] = data_frame['day']\n",
    "data_frame.drop(columns=[\"day\"], inplace=True)\n",
    "data_frame.rename(columns={\"date\": \"day\"}, inplace=True)\n",
    "data_frame.head()"
   ],
   "metadata": {
    "collapsed": false,
    "pycharm": {
     "name": "#%%\n"
    }
   }
  },
  {
   "cell_type": "markdown",
   "source": [
    "# Text Preprocessing NLP Pipeline\n",
    "## 1- Convert to lowercase"
   ],
   "metadata": {
    "collapsed": false,
    "pycharm": {
     "name": "#%% md\n"
    }
   }
  },
  {
   "cell_type": "code",
   "execution_count": 208,
   "outputs": [
    {
     "data": {
      "text/plain": "   Unnamed: 0                                              title  \\\n0           0  house republicans fret about winning their hea...   \n1           1  rift between officers and residents as killing...   \n2           2  tyrus wong, ‘bambi’ artist thwarted by racial ...   \n3           3  among deaths in 2016, a heavy toll in pop musi...   \n4           4  kim jong-un says north korea is preparing to t...   \n\n      publication                         author day  year month  \\\n0  new york times                     carl hulse  31  2016    12   \n1  new york times  benjamin mueller and al baker  19  2017    06   \n2  new york times                   margalit fox  06  2017    01   \n3  new york times               william mcdonald  10  2017    04   \n4  new york times                  choe sang-hun  02  2017    01   \n\n                                             content  \n0  washington  —   congressional republicans have...  \n1  after the bullet shells get counted, the blood...  \n2  when walt disney’s “bambi” opened in 1942, cri...  \n3  death may be the great equalizer, but it isn’t...  \n4  seoul, south korea  —   north korea’s leader, ...  ",
      "text/html": "<div>\n<style scoped>\n    .dataframe tbody tr th:only-of-type {\n        vertical-align: middle;\n    }\n\n    .dataframe tbody tr th {\n        vertical-align: top;\n    }\n\n    .dataframe thead th {\n        text-align: right;\n    }\n</style>\n<table border=\"1\" class=\"dataframe\">\n  <thead>\n    <tr style=\"text-align: right;\">\n      <th></th>\n      <th>Unnamed: 0</th>\n      <th>title</th>\n      <th>publication</th>\n      <th>author</th>\n      <th>day</th>\n      <th>year</th>\n      <th>month</th>\n      <th>content</th>\n    </tr>\n  </thead>\n  <tbody>\n    <tr>\n      <th>0</th>\n      <td>0</td>\n      <td>house republicans fret about winning their hea...</td>\n      <td>new york times</td>\n      <td>carl hulse</td>\n      <td>31</td>\n      <td>2016</td>\n      <td>12</td>\n      <td>washington  —   congressional republicans have...</td>\n    </tr>\n    <tr>\n      <th>1</th>\n      <td>1</td>\n      <td>rift between officers and residents as killing...</td>\n      <td>new york times</td>\n      <td>benjamin mueller and al baker</td>\n      <td>19</td>\n      <td>2017</td>\n      <td>06</td>\n      <td>after the bullet shells get counted, the blood...</td>\n    </tr>\n    <tr>\n      <th>2</th>\n      <td>2</td>\n      <td>tyrus wong, ‘bambi’ artist thwarted by racial ...</td>\n      <td>new york times</td>\n      <td>margalit fox</td>\n      <td>06</td>\n      <td>2017</td>\n      <td>01</td>\n      <td>when walt disney’s “bambi” opened in 1942, cri...</td>\n    </tr>\n    <tr>\n      <th>3</th>\n      <td>3</td>\n      <td>among deaths in 2016, a heavy toll in pop musi...</td>\n      <td>new york times</td>\n      <td>william mcdonald</td>\n      <td>10</td>\n      <td>2017</td>\n      <td>04</td>\n      <td>death may be the great equalizer, but it isn’t...</td>\n    </tr>\n    <tr>\n      <th>4</th>\n      <td>4</td>\n      <td>kim jong-un says north korea is preparing to t...</td>\n      <td>new york times</td>\n      <td>choe sang-hun</td>\n      <td>02</td>\n      <td>2017</td>\n      <td>01</td>\n      <td>seoul, south korea  —   north korea’s leader, ...</td>\n    </tr>\n  </tbody>\n</table>\n</div>"
     },
     "execution_count": 208,
     "metadata": {},
     "output_type": "execute_result"
    }
   ],
   "source": [
    "columns = [\"title\", \"publication\", \"author\", \"content\"]\n",
    "for column in columns:\n",
    "    data_frame[column] = data_frame[column].str.lower()\n",
    "\n",
    "data_frame.head()"
   ],
   "metadata": {
    "collapsed": false,
    "pycharm": {
     "name": "#%%\n"
    }
   }
  },
  {
   "cell_type": "markdown",
   "source": [
    "## 2- Remove HTML Tags"
   ],
   "metadata": {
    "collapsed": false,
    "pycharm": {
     "name": "#%% md\n"
    }
   }
  },
  {
   "cell_type": "code",
   "execution_count": 209,
   "outputs": [],
   "source": [
    "def remove_HTML_tags(text):\n",
    "    return re.sub(r'<.*?>', \"\", text)\n",
    "\n",
    "columns = [\"title\", \"author\", \"content\"]\n",
    "for column in columns:\n",
    "    data_frame[column] = data_frame[column].apply(lambda x: remove_HTML_tags(x))"
   ],
   "metadata": {
    "collapsed": false,
    "pycharm": {
     "name": "#%%\n"
    }
   }
  },
  {
   "cell_type": "markdown",
   "source": [
    "## 3- Remove URLs"
   ],
   "metadata": {
    "collapsed": false,
    "pycharm": {
     "name": "#%% md\n"
    }
   }
  },
  {
   "cell_type": "code",
   "execution_count": 210,
   "outputs": [],
   "source": [
    "def remove_URLs(text):\n",
    "    return re.sub(r'https?://\\S+www\\.\\S+', \"\", text)\n",
    "\n",
    "columns = [\"title\", \"author\", \"content\"]\n",
    "for column in columns:\n",
    "    data_frame[column] = data_frame[column].apply(lambda x: remove_URLs(x))"
   ],
   "metadata": {
    "collapsed": false,
    "pycharm": {
     "name": "#%%\n"
    }
   }
  },
  {
   "cell_type": "markdown",
   "source": [
    "## 4- Remove Punctuations and Special Characters"
   ],
   "metadata": {
    "collapsed": false,
    "pycharm": {
     "name": "#%% md\n"
    }
   }
  },
  {
   "cell_type": "code",
   "execution_count": 211,
   "outputs": [
    {
     "data": {
      "text/plain": "                                                   title  \\\n0      house republicans fret about winning their hea...   \n1      rift between officers and residents as killing...   \n2      tyrus wong   bambi  artist thwarted by racial ...   \n3      among deaths in 2016  a heavy toll in pop musi...   \n4      kim jong un says north korea is preparing to t...   \n...                                                  ...   \n49995   rex tillerson says climate change is real  but     \n49996  the biggest intelligence questions raised by t...   \n49997  trump announces plan that does little to resol...   \n49998    dozens of for profit colleges could soon close    \n49999                       the milky way s stolen stars   \n\n                                                 content  \n0      washington      congressional republicans have...  \n1      after the bullet shells get counted  the blood...  \n2      when walt disney s  bambi  opened in 1942  cri...  \n3      death may be the great equalizer  but it isn t...  \n4      seoul  south korea      north korea s leader  ...  \n...                                                  ...  \n49995  as chairman and ceo of exxonmobil  rex tillers...  \n49996  i ve spent nearly 20 years looking at intellig...  \n49997    donald trump will not be taking necessary st...  \n49998  dozens of   colleges could be forced to close ...  \n49999  the force of gravity can be described using a ...  \n\n[43694 rows x 2 columns]",
      "text/html": "<div>\n<style scoped>\n    .dataframe tbody tr th:only-of-type {\n        vertical-align: middle;\n    }\n\n    .dataframe tbody tr th {\n        vertical-align: top;\n    }\n\n    .dataframe thead th {\n        text-align: right;\n    }\n</style>\n<table border=\"1\" class=\"dataframe\">\n  <thead>\n    <tr style=\"text-align: right;\">\n      <th></th>\n      <th>title</th>\n      <th>content</th>\n    </tr>\n  </thead>\n  <tbody>\n    <tr>\n      <th>0</th>\n      <td>house republicans fret about winning their hea...</td>\n      <td>washington      congressional republicans have...</td>\n    </tr>\n    <tr>\n      <th>1</th>\n      <td>rift between officers and residents as killing...</td>\n      <td>after the bullet shells get counted  the blood...</td>\n    </tr>\n    <tr>\n      <th>2</th>\n      <td>tyrus wong   bambi  artist thwarted by racial ...</td>\n      <td>when walt disney s  bambi  opened in 1942  cri...</td>\n    </tr>\n    <tr>\n      <th>3</th>\n      <td>among deaths in 2016  a heavy toll in pop musi...</td>\n      <td>death may be the great equalizer  but it isn t...</td>\n    </tr>\n    <tr>\n      <th>4</th>\n      <td>kim jong un says north korea is preparing to t...</td>\n      <td>seoul  south korea      north korea s leader  ...</td>\n    </tr>\n    <tr>\n      <th>...</th>\n      <td>...</td>\n      <td>...</td>\n    </tr>\n    <tr>\n      <th>49995</th>\n      <td>rex tillerson says climate change is real  but</td>\n      <td>as chairman and ceo of exxonmobil  rex tillers...</td>\n    </tr>\n    <tr>\n      <th>49996</th>\n      <td>the biggest intelligence questions raised by t...</td>\n      <td>i ve spent nearly 20 years looking at intellig...</td>\n    </tr>\n    <tr>\n      <th>49997</th>\n      <td>trump announces plan that does little to resol...</td>\n      <td>donald trump will not be taking necessary st...</td>\n    </tr>\n    <tr>\n      <th>49998</th>\n      <td>dozens of for profit colleges could soon close</td>\n      <td>dozens of   colleges could be forced to close ...</td>\n    </tr>\n    <tr>\n      <th>49999</th>\n      <td>the milky way s stolen stars</td>\n      <td>the force of gravity can be described using a ...</td>\n    </tr>\n  </tbody>\n</table>\n<p>43694 rows × 2 columns</p>\n</div>"
     },
     "execution_count": 211,
     "metadata": {},
     "output_type": "execute_result"
    }
   ],
   "source": [
    "# columns = [\"title\", \"author\", \"content\"]\n",
    "columns = [\"title\", \"content\"]\n",
    "for column in columns:\n",
    "    data_frame[column] = data_frame[column].str.replace('[^a-zA-Z0-9]', \" \", regex=True)\n",
    "\n",
    "data_frame[['title', 'content']]"
   ],
   "metadata": {
    "collapsed": false,
    "pycharm": {
     "name": "#%%\n"
    }
   }
  },
  {
   "cell_type": "markdown",
   "source": [
    "## 5- Remove unnecessary spaces and words"
   ],
   "metadata": {
    "collapsed": false,
    "pycharm": {
     "name": "#%% md\n"
    }
   }
  },
  {
   "cell_type": "code",
   "execution_count": 212,
   "outputs": [
    {
     "data": {
      "text/plain": "                                                   title  \\\n0      house republicans fret about winning their hea...   \n1      rift between officers and residents as killing...   \n2      tyrus wong bambi artist thwarted by racial bia...   \n3      among deaths in 2016 a heavy toll in pop music...   \n4      kim jong un says north korea is preparing to t...   \n...                                                  ...   \n49995     rex tillerson says climate change is real but    \n49996  the biggest intelligence questions raised by t...   \n49997  trump announces plan that does little to resol...   \n49998    dozens of for profit colleges could soon close    \n49999                       the milky way s stolen stars   \n\n                                                 content  \n0      washington congressional republicans have a ne...  \n1      after the bullet shells get counted the blood ...  \n2      when walt disney s bambi opened in 1942 critic...  \n3      death may be the great equalizer but it isn t ...  \n4      seoul south korea north korea s leader kim sai...  \n...                                                  ...  \n49995  as chairman and ceo of exxonmobil rex tillerso...  \n49996  i ve spent nearly 20 years looking at intellig...  \n49997   donald trump will not be taking necessary ste...  \n49998  dozens of colleges could be forced to close in...  \n49999  the force of gravity can be described using a ...  \n\n[43694 rows x 2 columns]",
      "text/html": "<div>\n<style scoped>\n    .dataframe tbody tr th:only-of-type {\n        vertical-align: middle;\n    }\n\n    .dataframe tbody tr th {\n        vertical-align: top;\n    }\n\n    .dataframe thead th {\n        text-align: right;\n    }\n</style>\n<table border=\"1\" class=\"dataframe\">\n  <thead>\n    <tr style=\"text-align: right;\">\n      <th></th>\n      <th>title</th>\n      <th>content</th>\n    </tr>\n  </thead>\n  <tbody>\n    <tr>\n      <th>0</th>\n      <td>house republicans fret about winning their hea...</td>\n      <td>washington congressional republicans have a ne...</td>\n    </tr>\n    <tr>\n      <th>1</th>\n      <td>rift between officers and residents as killing...</td>\n      <td>after the bullet shells get counted the blood ...</td>\n    </tr>\n    <tr>\n      <th>2</th>\n      <td>tyrus wong bambi artist thwarted by racial bia...</td>\n      <td>when walt disney s bambi opened in 1942 critic...</td>\n    </tr>\n    <tr>\n      <th>3</th>\n      <td>among deaths in 2016 a heavy toll in pop music...</td>\n      <td>death may be the great equalizer but it isn t ...</td>\n    </tr>\n    <tr>\n      <th>4</th>\n      <td>kim jong un says north korea is preparing to t...</td>\n      <td>seoul south korea north korea s leader kim sai...</td>\n    </tr>\n    <tr>\n      <th>...</th>\n      <td>...</td>\n      <td>...</td>\n    </tr>\n    <tr>\n      <th>49995</th>\n      <td>rex tillerson says climate change is real but</td>\n      <td>as chairman and ceo of exxonmobil rex tillerso...</td>\n    </tr>\n    <tr>\n      <th>49996</th>\n      <td>the biggest intelligence questions raised by t...</td>\n      <td>i ve spent nearly 20 years looking at intellig...</td>\n    </tr>\n    <tr>\n      <th>49997</th>\n      <td>trump announces plan that does little to resol...</td>\n      <td>donald trump will not be taking necessary ste...</td>\n    </tr>\n    <tr>\n      <th>49998</th>\n      <td>dozens of for profit colleges could soon close</td>\n      <td>dozens of colleges could be forced to close in...</td>\n    </tr>\n    <tr>\n      <th>49999</th>\n      <td>the milky way s stolen stars</td>\n      <td>the force of gravity can be described using a ...</td>\n    </tr>\n  </tbody>\n</table>\n<p>43694 rows × 2 columns</p>\n</div>"
     },
     "execution_count": 212,
     "metadata": {},
     "output_type": "execute_result"
    }
   ],
   "source": [
    "# remove unnecessary spaces\n",
    "columns = [\"title\", \"author\", \"content\"]\n",
    "for column in columns:\n",
    "    data_frame[column] = data_frame[column].str.replace('\\s\\s+', \" \", regex=True)\n",
    "\n",
    "data_frame[['title', 'content']]"
   ],
   "metadata": {
    "collapsed": false,
    "pycharm": {
     "name": "#%%\n"
    }
   }
  },
  {
   "cell_type": "code",
   "execution_count": 213,
   "outputs": [
    {
     "data": {
      "text/plain": "   Unnamed: 0                                              title  \\\n0           0  house republicans fret about winning their hea...   \n1           1  rift between officers and residents as killing...   \n2           2  tyrus wong bambi artist thwarted by racial bia...   \n3           3  among deaths in 2016 a heavy toll in pop music...   \n4           4  kim jong un says north korea is preparing to t...   \n\n      publication                         author day  year month  \\\n0  new york times                     carl hulse  31  2016    12   \n1  new york times  benjamin mueller and al baker  19  2017    06   \n2  new york times                   margalit fox  06  2017    01   \n3  new york times               william mcdonald  10  2017    04   \n4  new york times                  choe sang-hun  02  2017    01   \n\n                                             content  \n0  washington congressional republicans have a ne...  \n1  after the bullet shells get counted the blood ...  \n2  when walt disney s bambi opened in 1942 critic...  \n3  death may be the great equalizer but it isn t ...  \n4  seoul south korea north korea s leader kim sai...  ",
      "text/html": "<div>\n<style scoped>\n    .dataframe tbody tr th:only-of-type {\n        vertical-align: middle;\n    }\n\n    .dataframe tbody tr th {\n        vertical-align: top;\n    }\n\n    .dataframe thead th {\n        text-align: right;\n    }\n</style>\n<table border=\"1\" class=\"dataframe\">\n  <thead>\n    <tr style=\"text-align: right;\">\n      <th></th>\n      <th>Unnamed: 0</th>\n      <th>title</th>\n      <th>publication</th>\n      <th>author</th>\n      <th>day</th>\n      <th>year</th>\n      <th>month</th>\n      <th>content</th>\n    </tr>\n  </thead>\n  <tbody>\n    <tr>\n      <th>0</th>\n      <td>0</td>\n      <td>house republicans fret about winning their hea...</td>\n      <td>new york times</td>\n      <td>carl hulse</td>\n      <td>31</td>\n      <td>2016</td>\n      <td>12</td>\n      <td>washington congressional republicans have a ne...</td>\n    </tr>\n    <tr>\n      <th>1</th>\n      <td>1</td>\n      <td>rift between officers and residents as killing...</td>\n      <td>new york times</td>\n      <td>benjamin mueller and al baker</td>\n      <td>19</td>\n      <td>2017</td>\n      <td>06</td>\n      <td>after the bullet shells get counted the blood ...</td>\n    </tr>\n    <tr>\n      <th>2</th>\n      <td>2</td>\n      <td>tyrus wong bambi artist thwarted by racial bia...</td>\n      <td>new york times</td>\n      <td>margalit fox</td>\n      <td>06</td>\n      <td>2017</td>\n      <td>01</td>\n      <td>when walt disney s bambi opened in 1942 critic...</td>\n    </tr>\n    <tr>\n      <th>3</th>\n      <td>3</td>\n      <td>among deaths in 2016 a heavy toll in pop music...</td>\n      <td>new york times</td>\n      <td>william mcdonald</td>\n      <td>10</td>\n      <td>2017</td>\n      <td>04</td>\n      <td>death may be the great equalizer but it isn t ...</td>\n    </tr>\n    <tr>\n      <th>4</th>\n      <td>4</td>\n      <td>kim jong un says north korea is preparing to t...</td>\n      <td>new york times</td>\n      <td>choe sang-hun</td>\n      <td>02</td>\n      <td>2017</td>\n      <td>01</td>\n      <td>seoul south korea north korea s leader kim sai...</td>\n    </tr>\n  </tbody>\n</table>\n</div>"
     },
     "execution_count": 213,
     "metadata": {},
     "output_type": "execute_result"
    }
   ],
   "source": [
    "# remove unnecessary words\n",
    "# remove publication from title\n",
    "publication_unique_values = data_frame[\"publication\"].unique()\n",
    "for publication in publication_unique_values:\n",
    "    data_frame[\"title\"] = data_frame['title'].str.replace(\".\" + publication + \"$\", \"\", regex=True)\n",
    "\n",
    "data_frame.head()"
   ],
   "metadata": {
    "collapsed": false,
    "pycharm": {
     "name": "#%%\n"
    }
   }
  },
  {
   "cell_type": "markdown",
   "source": [
    "## 6- Apply Tokenization\n",
    "### a- Apply sentence tokenization"
   ],
   "metadata": {
    "collapsed": false,
    "pycharm": {
     "name": "#%% md\n"
    }
   }
  },
  {
   "cell_type": "code",
   "execution_count": 214,
   "outputs": [],
   "source": [
    "# def sentence_tokenizer(text):\n",
    "#     return sent_tokenize(text)\n",
    "#\n",
    "# columns = [\"title\", \"content\"]\n",
    "# for column in columns:\n",
    "#     data_frame[column] = data_frame[column].apply(lambda x: sentence_tokenizer(x))\n",
    "#\n",
    "# data_frame[['title', 'content']]"
   ],
   "metadata": {
    "collapsed": false,
    "pycharm": {
     "name": "#%%\n"
    }
   }
  },
  {
   "cell_type": "markdown",
   "source": [
    "### b- Apply word tokenization"
   ],
   "metadata": {
    "collapsed": false,
    "pycharm": {
     "name": "#%% md\n"
    }
   }
  },
  {
   "cell_type": "code",
   "execution_count": 215,
   "outputs": [
    {
     "data": {
      "text/plain": "   Unnamed: 0                                              title  \\\n0           0  [house, republicans, fret, about, winning, the...   \n1           1  [rift, between, officers, and, residents, as, ...   \n2           2  [tyrus, wong, bambi, artist, thwarted, by, rac...   \n3           3  [among, deaths, in, 2016, a, heavy, toll, in, ...   \n4           4  [kim, jong, un, says, north, korea, is, prepar...   \n\n      publication                         author day  year month  \\\n0  new york times                     carl hulse  31  2016    12   \n1  new york times  benjamin mueller and al baker  19  2017    06   \n2  new york times                   margalit fox  06  2017    01   \n3  new york times               william mcdonald  10  2017    04   \n4  new york times                  choe sang-hun  02  2017    01   \n\n                                             content  \n0  [washington, congressional, republicans, have,...  \n1  [after, the, bullet, shells, get, counted, the...  \n2  [when, walt, disney, s, bambi, opened, in, 194...  \n3  [death, may, be, the, great, equalizer, but, i...  \n4  [seoul, south, korea, north, korea, s, leader,...  ",
      "text/html": "<div>\n<style scoped>\n    .dataframe tbody tr th:only-of-type {\n        vertical-align: middle;\n    }\n\n    .dataframe tbody tr th {\n        vertical-align: top;\n    }\n\n    .dataframe thead th {\n        text-align: right;\n    }\n</style>\n<table border=\"1\" class=\"dataframe\">\n  <thead>\n    <tr style=\"text-align: right;\">\n      <th></th>\n      <th>Unnamed: 0</th>\n      <th>title</th>\n      <th>publication</th>\n      <th>author</th>\n      <th>day</th>\n      <th>year</th>\n      <th>month</th>\n      <th>content</th>\n    </tr>\n  </thead>\n  <tbody>\n    <tr>\n      <th>0</th>\n      <td>0</td>\n      <td>[house, republicans, fret, about, winning, the...</td>\n      <td>new york times</td>\n      <td>carl hulse</td>\n      <td>31</td>\n      <td>2016</td>\n      <td>12</td>\n      <td>[washington, congressional, republicans, have,...</td>\n    </tr>\n    <tr>\n      <th>1</th>\n      <td>1</td>\n      <td>[rift, between, officers, and, residents, as, ...</td>\n      <td>new york times</td>\n      <td>benjamin mueller and al baker</td>\n      <td>19</td>\n      <td>2017</td>\n      <td>06</td>\n      <td>[after, the, bullet, shells, get, counted, the...</td>\n    </tr>\n    <tr>\n      <th>2</th>\n      <td>2</td>\n      <td>[tyrus, wong, bambi, artist, thwarted, by, rac...</td>\n      <td>new york times</td>\n      <td>margalit fox</td>\n      <td>06</td>\n      <td>2017</td>\n      <td>01</td>\n      <td>[when, walt, disney, s, bambi, opened, in, 194...</td>\n    </tr>\n    <tr>\n      <th>3</th>\n      <td>3</td>\n      <td>[among, deaths, in, 2016, a, heavy, toll, in, ...</td>\n      <td>new york times</td>\n      <td>william mcdonald</td>\n      <td>10</td>\n      <td>2017</td>\n      <td>04</td>\n      <td>[death, may, be, the, great, equalizer, but, i...</td>\n    </tr>\n    <tr>\n      <th>4</th>\n      <td>4</td>\n      <td>[kim, jong, un, says, north, korea, is, prepar...</td>\n      <td>new york times</td>\n      <td>choe sang-hun</td>\n      <td>02</td>\n      <td>2017</td>\n      <td>01</td>\n      <td>[seoul, south, korea, north, korea, s, leader,...</td>\n    </tr>\n  </tbody>\n</table>\n</div>"
     },
     "execution_count": 215,
     "metadata": {},
     "output_type": "execute_result"
    }
   ],
   "source": [
    "# def word_tokenizer(sentences):\n",
    "#     tokenized_words = []\n",
    "#     for x in sentences:\n",
    "#         tokenized_words = tokenized_words + word_tokenize(x)\n",
    "#     return tokenized_words\n",
    "\n",
    "def word_tokenizer(text):\n",
    "    return word_tokenize(text)\n",
    "columns = [\"title\", \"content\"]\n",
    "for column in columns:\n",
    "    data_frame[column] = data_frame[column].apply(lambda x: word_tokenizer(x))\n",
    "\n",
    "data_frame.head()"
   ],
   "metadata": {
    "collapsed": false,
    "pycharm": {
     "name": "#%%\n"
    }
   }
  },
  {
   "cell_type": "markdown",
   "source": [
    "## 7- Remove Stop Words"
   ],
   "metadata": {
    "collapsed": false,
    "pycharm": {
     "name": "#%% md\n"
    }
   }
  },
  {
   "cell_type": "code",
   "execution_count": 216,
   "outputs": [
    {
     "data": {
      "text/plain": "   Unnamed: 0                                              title  \\\n0           0  [house, republicans, fret, winning, health, ca...   \n1           1  [rift, officers, residents, killings, persist,...   \n2           2  [tyrus, wong, bambi, artist, thwarted, racial,...   \n3           3     [among, deaths, 2016, heavy, toll, pop, music]   \n4           4  [kim, jong, un, says, north, korea, preparing,...   \n\n      publication                         author day  year month  \\\n0  new york times                     carl hulse  31  2016    12   \n1  new york times  benjamin mueller and al baker  19  2017    06   \n2  new york times                   margalit fox  06  2017    01   \n3  new york times               william mcdonald  10  2017    04   \n4  new york times                  choe sang-hun  02  2017    01   \n\n                                             content  \n0  [washington, congressional, republicans, new, ...  \n1  [bullet, shells, get, counted, blood, dries, v...  \n2  [walt, disney, bambi, opened, 1942, critics, p...  \n3  [death, may, great, equalizer, necessarily, ev...  \n4  [seoul, south, korea, north, korea, leader, ki...  ",
      "text/html": "<div>\n<style scoped>\n    .dataframe tbody tr th:only-of-type {\n        vertical-align: middle;\n    }\n\n    .dataframe tbody tr th {\n        vertical-align: top;\n    }\n\n    .dataframe thead th {\n        text-align: right;\n    }\n</style>\n<table border=\"1\" class=\"dataframe\">\n  <thead>\n    <tr style=\"text-align: right;\">\n      <th></th>\n      <th>Unnamed: 0</th>\n      <th>title</th>\n      <th>publication</th>\n      <th>author</th>\n      <th>day</th>\n      <th>year</th>\n      <th>month</th>\n      <th>content</th>\n    </tr>\n  </thead>\n  <tbody>\n    <tr>\n      <th>0</th>\n      <td>0</td>\n      <td>[house, republicans, fret, winning, health, ca...</td>\n      <td>new york times</td>\n      <td>carl hulse</td>\n      <td>31</td>\n      <td>2016</td>\n      <td>12</td>\n      <td>[washington, congressional, republicans, new, ...</td>\n    </tr>\n    <tr>\n      <th>1</th>\n      <td>1</td>\n      <td>[rift, officers, residents, killings, persist,...</td>\n      <td>new york times</td>\n      <td>benjamin mueller and al baker</td>\n      <td>19</td>\n      <td>2017</td>\n      <td>06</td>\n      <td>[bullet, shells, get, counted, blood, dries, v...</td>\n    </tr>\n    <tr>\n      <th>2</th>\n      <td>2</td>\n      <td>[tyrus, wong, bambi, artist, thwarted, racial,...</td>\n      <td>new york times</td>\n      <td>margalit fox</td>\n      <td>06</td>\n      <td>2017</td>\n      <td>01</td>\n      <td>[walt, disney, bambi, opened, 1942, critics, p...</td>\n    </tr>\n    <tr>\n      <th>3</th>\n      <td>3</td>\n      <td>[among, deaths, 2016, heavy, toll, pop, music]</td>\n      <td>new york times</td>\n      <td>william mcdonald</td>\n      <td>10</td>\n      <td>2017</td>\n      <td>04</td>\n      <td>[death, may, great, equalizer, necessarily, ev...</td>\n    </tr>\n    <tr>\n      <th>4</th>\n      <td>4</td>\n      <td>[kim, jong, un, says, north, korea, preparing,...</td>\n      <td>new york times</td>\n      <td>choe sang-hun</td>\n      <td>02</td>\n      <td>2017</td>\n      <td>01</td>\n      <td>[seoul, south, korea, north, korea, leader, ki...</td>\n    </tr>\n  </tbody>\n</table>\n</div>"
     },
     "execution_count": 216,
     "metadata": {},
     "output_type": "execute_result"
    }
   ],
   "source": [
    "STOPWORDS = set(stopwords.words(\"english\"))\n",
    "def remove_stop_words(text):\n",
    "    return [word for word in text if word not in STOPWORDS]\n",
    "\n",
    "columns = [\"title\", \"content\"]\n",
    "for column in columns:\n",
    "    data_frame[column] = data_frame[column].apply(lambda x: remove_stop_words(x))\n",
    "\n",
    "data_frame.head()"
   ],
   "metadata": {
    "collapsed": false,
    "pycharm": {
     "name": "#%%\n"
    }
   }
  },
  {
   "cell_type": "markdown",
   "source": [
    "## 8- Remove frequently words"
   ],
   "metadata": {
    "collapsed": false,
    "pycharm": {
     "name": "#%% md\n"
    }
   }
  },
  {
   "cell_type": "code",
   "execution_count": 217,
   "outputs": [],
   "source": [
    "word_counter_title = Counter()\n",
    "word_counter_content = Counter()\n",
    "def get_most_frequently_words(column_name, word_counter):\n",
    "    for text in data_frame[column_name]:\n",
    "        for word in text:\n",
    "            word_counter[word] += 1\n",
    "    return word_counter\n",
    "\n",
    "# get the most common frequently words in [title] more than 1000\n",
    "word_frequency_title = get_most_frequently_words(\"title\", word_counter_title).most_common(10)\n",
    "\n",
    "# get the most common frequently words in [content]\n",
    "word_frequency_content = get_most_frequently_words(\"content\", word_counter_content).most_common(10)"
   ],
   "metadata": {
    "collapsed": false,
    "pycharm": {
     "name": "#%%\n"
    }
   }
  },
  {
   "cell_type": "code",
   "execution_count": 218,
   "outputs": [
    {
     "data": {
      "text/plain": "   Unnamed: 0                                              title  \\\n0           0  [house, republicans, fret, winning, health, ca...   \n1           1  [rift, officers, residents, killings, persist,...   \n2           2  [tyrus, wong, bambi, artist, thwarted, racial,...   \n3           3     [among, deaths, 2016, heavy, toll, pop, music]   \n4           4  [kim, jong, un, north, korea, preparing, test,...   \n\n      publication                         author day  year month  \\\n0  new york times                     carl hulse  31  2016    12   \n1  new york times  benjamin mueller and al baker  19  2017    06   \n2  new york times                   margalit fox  06  2017    01   \n3  new york times               william mcdonald  10  2017    04   \n4  new york times                  choe sang-hun  02  2017    01   \n\n                                             content  \n0  [washington, congressional, republicans, fear,...  \n1  [bullet, shells, get, counted, blood, dries, v...  \n2  [walt, disney, bambi, opened, 1942, critics, p...  \n3  [death, may, great, equalizer, necessarily, ev...  \n4  [seoul, south, korea, north, korea, leader, ki...  ",
      "text/html": "<div>\n<style scoped>\n    .dataframe tbody tr th:only-of-type {\n        vertical-align: middle;\n    }\n\n    .dataframe tbody tr th {\n        vertical-align: top;\n    }\n\n    .dataframe thead th {\n        text-align: right;\n    }\n</style>\n<table border=\"1\" class=\"dataframe\">\n  <thead>\n    <tr style=\"text-align: right;\">\n      <th></th>\n      <th>Unnamed: 0</th>\n      <th>title</th>\n      <th>publication</th>\n      <th>author</th>\n      <th>day</th>\n      <th>year</th>\n      <th>month</th>\n      <th>content</th>\n    </tr>\n  </thead>\n  <tbody>\n    <tr>\n      <th>0</th>\n      <td>0</td>\n      <td>[house, republicans, fret, winning, health, ca...</td>\n      <td>new york times</td>\n      <td>carl hulse</td>\n      <td>31</td>\n      <td>2016</td>\n      <td>12</td>\n      <td>[washington, congressional, republicans, fear,...</td>\n    </tr>\n    <tr>\n      <th>1</th>\n      <td>1</td>\n      <td>[rift, officers, residents, killings, persist,...</td>\n      <td>new york times</td>\n      <td>benjamin mueller and al baker</td>\n      <td>19</td>\n      <td>2017</td>\n      <td>06</td>\n      <td>[bullet, shells, get, counted, blood, dries, v...</td>\n    </tr>\n    <tr>\n      <th>2</th>\n      <td>2</td>\n      <td>[tyrus, wong, bambi, artist, thwarted, racial,...</td>\n      <td>new york times</td>\n      <td>margalit fox</td>\n      <td>06</td>\n      <td>2017</td>\n      <td>01</td>\n      <td>[walt, disney, bambi, opened, 1942, critics, p...</td>\n    </tr>\n    <tr>\n      <th>3</th>\n      <td>3</td>\n      <td>[among, deaths, 2016, heavy, toll, pop, music]</td>\n      <td>new york times</td>\n      <td>william mcdonald</td>\n      <td>10</td>\n      <td>2017</td>\n      <td>04</td>\n      <td>[death, may, great, equalizer, necessarily, ev...</td>\n    </tr>\n    <tr>\n      <th>4</th>\n      <td>4</td>\n      <td>[kim, jong, un, north, korea, preparing, test,...</td>\n      <td>new york times</td>\n      <td>choe sang-hun</td>\n      <td>02</td>\n      <td>2017</td>\n      <td>01</td>\n      <td>[seoul, south, korea, north, korea, leader, ki...</td>\n    </tr>\n  </tbody>\n</table>\n</div>"
     },
     "execution_count": 218,
     "metadata": {},
     "output_type": "execute_result"
    }
   ],
   "source": [
    "FREQUENT_WORDS_TITLE = set(word for (word, word_count) in get_most_frequently_words(\"title\", word_counter_title).most_common(10))\n",
    "FREQUENT_WORDS_CONTENT = set(word for (word, word_count) in get_most_frequently_words(\"content\", word_counter_content).most_common(10))\n",
    "\n",
    "def remove_frequent_words(string_text, frequent_words):\n",
    "    return [word for word in string_text if word not in frequent_words]\n",
    "\n",
    "columns = [\"title\", \"content\"]\n",
    "for column in columns:\n",
    "    data_frame[column] = data_frame[column].apply(lambda x: remove_frequent_words(x, FREQUENT_WORDS_TITLE))\n",
    "\n",
    "data_frame.head()"
   ],
   "metadata": {
    "collapsed": false,
    "pycharm": {
     "name": "#%%\n"
    }
   }
  },
  {
   "cell_type": "markdown",
   "source": [
    "## 9- Remove rare words"
   ],
   "metadata": {
    "collapsed": false,
    "pycharm": {
     "name": "#%% md\n"
    }
   }
  },
  {
   "cell_type": "code",
   "execution_count": 219,
   "outputs": [
    {
     "data": {
      "text/plain": "   Unnamed: 0                                              title  \\\n0           0  [house, republicans, fret, winning, health, ca...   \n1           1  [rift, officers, residents, killings, persist,...   \n2           2  [tyrus, wong, bambi, artist, thwarted, racial,...   \n3           3     [among, deaths, 2016, heavy, toll, pop, music]   \n4           4  [kim, jong, un, north, korea, preparing, test,...   \n\n      publication                         author day  year month  \\\n0  new york times                     carl hulse  31  2016    12   \n1  new york times  benjamin mueller and al baker  19  2017    06   \n2  new york times                   margalit fox  06  2017    01   \n3  new york times               william mcdonald  10  2017    04   \n4  new york times                  choe sang-hun  02  2017    01   \n\n                                             content  \n0  [washington, congressional, republicans, fear,...  \n1  [bullet, shells, get, counted, blood, dries, v...  \n2  [walt, disney, bambi, opened, 1942, critics, p...  \n3  [death, may, great, equalizer, necessarily, ev...  \n4  [seoul, south, korea, north, korea, leader, ki...  ",
      "text/html": "<div>\n<style scoped>\n    .dataframe tbody tr th:only-of-type {\n        vertical-align: middle;\n    }\n\n    .dataframe tbody tr th {\n        vertical-align: top;\n    }\n\n    .dataframe thead th {\n        text-align: right;\n    }\n</style>\n<table border=\"1\" class=\"dataframe\">\n  <thead>\n    <tr style=\"text-align: right;\">\n      <th></th>\n      <th>Unnamed: 0</th>\n      <th>title</th>\n      <th>publication</th>\n      <th>author</th>\n      <th>day</th>\n      <th>year</th>\n      <th>month</th>\n      <th>content</th>\n    </tr>\n  </thead>\n  <tbody>\n    <tr>\n      <th>0</th>\n      <td>0</td>\n      <td>[house, republicans, fret, winning, health, ca...</td>\n      <td>new york times</td>\n      <td>carl hulse</td>\n      <td>31</td>\n      <td>2016</td>\n      <td>12</td>\n      <td>[washington, congressional, republicans, fear,...</td>\n    </tr>\n    <tr>\n      <th>1</th>\n      <td>1</td>\n      <td>[rift, officers, residents, killings, persist,...</td>\n      <td>new york times</td>\n      <td>benjamin mueller and al baker</td>\n      <td>19</td>\n      <td>2017</td>\n      <td>06</td>\n      <td>[bullet, shells, get, counted, blood, dries, v...</td>\n    </tr>\n    <tr>\n      <th>2</th>\n      <td>2</td>\n      <td>[tyrus, wong, bambi, artist, thwarted, racial,...</td>\n      <td>new york times</td>\n      <td>margalit fox</td>\n      <td>06</td>\n      <td>2017</td>\n      <td>01</td>\n      <td>[walt, disney, bambi, opened, 1942, critics, p...</td>\n    </tr>\n    <tr>\n      <th>3</th>\n      <td>3</td>\n      <td>[among, deaths, 2016, heavy, toll, pop, music]</td>\n      <td>new york times</td>\n      <td>william mcdonald</td>\n      <td>10</td>\n      <td>2017</td>\n      <td>04</td>\n      <td>[death, may, great, equalizer, necessarily, ev...</td>\n    </tr>\n    <tr>\n      <th>4</th>\n      <td>4</td>\n      <td>[kim, jong, un, north, korea, preparing, test,...</td>\n      <td>new york times</td>\n      <td>choe sang-hun</td>\n      <td>02</td>\n      <td>2017</td>\n      <td>01</td>\n      <td>[seoul, south, korea, north, korea, leader, ki...</td>\n    </tr>\n  </tbody>\n</table>\n</div>"
     },
     "execution_count": 219,
     "metadata": {},
     "output_type": "execute_result"
    }
   ],
   "source": [
    "RARE_WORDS_TITLE = set(word for (word, word_count) in get_most_frequently_words(\"title\", word_counter_title).most_common()[:-10:-1])\n",
    "RARE_WORDS_CONTENT = set(word for (word, word_count) in get_most_frequently_words(\"content\", word_counter_content).most_common()[:-10:-1])\n",
    "\n",
    "def remove_rare_words(string_text, rare_words):\n",
    "    return [word for word in string_text if word not in rare_words]\n",
    "\n",
    "columns = [\"title\", \"content\"]\n",
    "for column in columns:\n",
    "    data_frame[column] = data_frame[column].apply(lambda x: remove_rare_words(x, RARE_WORDS_TITLE))\n",
    "\n",
    "data_frame.head()"
   ],
   "metadata": {
    "collapsed": false,
    "pycharm": {
     "name": "#%%\n"
    }
   }
  },
  {
   "cell_type": "markdown",
   "source": [
    "## 10- Apply Stemming"
   ],
   "metadata": {
    "collapsed": false,
    "pycharm": {
     "name": "#%% md\n"
    }
   }
  },
  {
   "cell_type": "code",
   "execution_count": 220,
   "outputs": [],
   "source": [
    "# porter_stemmer_title = PorterStemmer()\n",
    "# porter_stemmer_content = PorterStemmer()\n",
    "# def stemming_words(text, porter_stemmer):\n",
    "#     return [porter_stemmer.stem(word) for word in text]\n",
    "#\n",
    "# columns = [\"title\", \"content\"]\n",
    "# for column in columns:\n",
    "#     data_frame[column] = data_frame[column].apply(lambda x: stemming_words(x, porter_stemmer_title))\n",
    "#\n",
    "# data_frame.head()"
   ],
   "metadata": {
    "collapsed": false,
    "pycharm": {
     "name": "#%%\n"
    }
   }
  },
  {
   "cell_type": "markdown",
   "source": [
    "## 11- Apply POS and Lemmatization"
   ],
   "metadata": {
    "collapsed": false,
    "pycharm": {
     "name": "#%% md\n"
    }
   }
  },
  {
   "cell_type": "code",
   "execution_count": 221,
   "outputs": [],
   "source": [
    "# lemmatizer_title = WordNetLemmatizer()\n",
    "# lemmatizer_content = WordNetLemmatizer()\n",
    "# wordnet_map = {\"N\": wordnet.NOUN, \"V\": wordnet.VERB, \"J\": wordnet.ADJ, \"R\": wordnet.ADV}\n",
    "#\n",
    "# def lemmatize_words(text, lemmatizer):\n",
    "#     # apply POS tagging\n",
    "#     pos_text = pos_tag(text)\n",
    "#     return [lemmatizer.lemmatize(word, wordnet_map.get(pos[0],  wordnet.NOUN)) for word, pos in pos_text]\n",
    "#\n",
    "# columns = [\"title\", \"content\"]\n",
    "# for column in columns:\n",
    "#     data_frame[column] = data_frame[column].apply(lambda x: lemmatize_words(x, lemmatizer_title))"
   ],
   "metadata": {
    "collapsed": false,
    "pycharm": {
     "name": "#%%\n"
    }
   }
  },
  {
   "cell_type": "markdown",
   "source": [
    "# Data Preprocessing\n",
    "## 1- Dealing with categorical data (Nominal Data)"
   ],
   "metadata": {
    "collapsed": false,
    "pycharm": {
     "name": "#%% md\n"
    }
   }
  },
  {
   "cell_type": "code",
   "execution_count": 222,
   "outputs": [
    {
     "name": "stdout",
     "output_type": "stream",
     "text": [
      "Publication unique values =  5\n"
     ]
    }
   ],
   "source": [
    "# get number of unique values in publication column\n",
    "publication_unique_values = data_frame[\"publication\"].unique()\n",
    "print(\"Publication unique values = \", len(publication_unique_values))"
   ],
   "metadata": {
    "collapsed": false,
    "pycharm": {
     "name": "#%%\n"
    }
   }
  },
  {
   "cell_type": "code",
   "execution_count": 223,
   "outputs": [
    {
     "data": {
      "text/plain": "Unnamed: 0                       int64\ntitle                           object\nauthor                          object\nday                             string\nyear                            string\nmonth                           string\ncontent                         object\npublication_atlantic             uint8\npublication_breitbart            uint8\npublication_business insider     uint8\npublication_cnn                  uint8\npublication_new york times       uint8\ndtype: object"
     },
     "execution_count": 223,
     "metadata": {},
     "output_type": "execute_result"
    }
   ],
   "source": [
    "# apply one hot encoding in publication column\n",
    "data_frame = pd.get_dummies(data=data_frame, columns=[\"publication\"])\n",
    "data_frame.dtypes"
   ],
   "metadata": {
    "collapsed": false,
    "pycharm": {
     "name": "#%%\n"
    }
   }
  },
  {
   "cell_type": "code",
   "execution_count": 224,
   "outputs": [
    {
     "name": "stdout",
     "output_type": "stream",
     "text": [
      "Author unique values =  2351\n"
     ]
    }
   ],
   "source": [
    "#remove any character followed by dot(.) and any brackets contain words\n",
    "data_frame[\"author\"] = data_frame[\"author\"].str.replace('[a-z]{1}\\.|\\(.*\\)', \" \", regex=True)\n",
    "\n",
    "# get number of unique values in author column and it's frequency\n",
    "author_unique_values = Counter()\n",
    "for text in data_frame[\"author\"]:\n",
    "    for author_name in re.split('with|and|,|&', text):\n",
    "\n",
    "        name = author_name.strip() # remove spaces after and before string\n",
    "        name = \" \".join(name.split()) # remove extra spaces between words\n",
    "        name = re.sub(r'^.\\s|\\s.$', \"\", name) # remove single character in beginning and end of string\n",
    "\n",
    "        if len(name) > 1:\n",
    "            author_unique_values[name] += 1\n",
    "\n",
    "print(\"Author unique values = \", len(author_unique_values))"
   ],
   "metadata": {
    "collapsed": false,
    "pycharm": {
     "name": "#%%\n"
    }
   }
  },
  {
   "cell_type": "code",
   "execution_count": 225,
   "outputs": [],
   "source": [
    "def split_authors(text):\n",
    "    return ','.join([word.strip() for word in re.split('with|and|,|&', text)])\n",
    "\n",
    "data_frame[\"author\"] = data_frame[\"author\"].apply(lambda x: split_authors(x))"
   ],
   "metadata": {
    "collapsed": false,
    "pycharm": {
     "name": "#%%\n"
    }
   }
  },
  {
   "cell_type": "code",
   "execution_count": 226,
   "outputs": [
    {
     "data": {
      "text/plain": "   Unnamed: 0                                              title  \\\n0           0  [house, republicans, fret, winning, health, ca...   \n1           1  [rift, officers, residents, killings, persist,...   \n2           2  [tyrus, wong, bambi, artist, thwarted, racial,...   \n3           3     [among, deaths, 2016, heavy, toll, pop, music]   \n4           4  [kim, jong, un, north, korea, preparing, test,...   \n\n                      author day  year month  \\\n0                          0  31  2016    12   \n1  benjamin mueller,al baker  19  2017    06   \n2                          3  06  2017    01   \n3                          4  10  2017    04   \n4                          5  02  2017    01   \n\n                                             content  publication_atlantic  \\\n0  [washington, congressional, republicans, fear,...                     0   \n1  [bullet, shells, get, counted, blood, dries, v...                     0   \n2  [walt, disney, bambi, opened, 1942, critics, p...                     0   \n3  [death, may, great, equalizer, necessarily, ev...                     0   \n4  [seoul, south, korea, north, korea, leader, ki...                     0   \n\n   publication_breitbart  publication_business insider  publication_cnn  \\\n0                      0                             0                0   \n1                      0                             0                0   \n2                      0                             0                0   \n3                      0                             0                0   \n4                      0                             0                0   \n\n   publication_new york times  \n0                           1  \n1                           1  \n2                           1  \n3                           1  \n4                           1  ",
      "text/html": "<div>\n<style scoped>\n    .dataframe tbody tr th:only-of-type {\n        vertical-align: middle;\n    }\n\n    .dataframe tbody tr th {\n        vertical-align: top;\n    }\n\n    .dataframe thead th {\n        text-align: right;\n    }\n</style>\n<table border=\"1\" class=\"dataframe\">\n  <thead>\n    <tr style=\"text-align: right;\">\n      <th></th>\n      <th>Unnamed: 0</th>\n      <th>title</th>\n      <th>author</th>\n      <th>day</th>\n      <th>year</th>\n      <th>month</th>\n      <th>content</th>\n      <th>publication_atlantic</th>\n      <th>publication_breitbart</th>\n      <th>publication_business insider</th>\n      <th>publication_cnn</th>\n      <th>publication_new york times</th>\n    </tr>\n  </thead>\n  <tbody>\n    <tr>\n      <th>0</th>\n      <td>0</td>\n      <td>[house, republicans, fret, winning, health, ca...</td>\n      <td>0</td>\n      <td>31</td>\n      <td>2016</td>\n      <td>12</td>\n      <td>[washington, congressional, republicans, fear,...</td>\n      <td>0</td>\n      <td>0</td>\n      <td>0</td>\n      <td>0</td>\n      <td>1</td>\n    </tr>\n    <tr>\n      <th>1</th>\n      <td>1</td>\n      <td>[rift, officers, residents, killings, persist,...</td>\n      <td>benjamin mueller,al baker</td>\n      <td>19</td>\n      <td>2017</td>\n      <td>06</td>\n      <td>[bullet, shells, get, counted, blood, dries, v...</td>\n      <td>0</td>\n      <td>0</td>\n      <td>0</td>\n      <td>0</td>\n      <td>1</td>\n    </tr>\n    <tr>\n      <th>2</th>\n      <td>2</td>\n      <td>[tyrus, wong, bambi, artist, thwarted, racial,...</td>\n      <td>3</td>\n      <td>06</td>\n      <td>2017</td>\n      <td>01</td>\n      <td>[walt, disney, bambi, opened, 1942, critics, p...</td>\n      <td>0</td>\n      <td>0</td>\n      <td>0</td>\n      <td>0</td>\n      <td>1</td>\n    </tr>\n    <tr>\n      <th>3</th>\n      <td>3</td>\n      <td>[among, deaths, 2016, heavy, toll, pop, music]</td>\n      <td>4</td>\n      <td>10</td>\n      <td>2017</td>\n      <td>04</td>\n      <td>[death, may, great, equalizer, necessarily, ev...</td>\n      <td>0</td>\n      <td>0</td>\n      <td>0</td>\n      <td>0</td>\n      <td>1</td>\n    </tr>\n    <tr>\n      <th>4</th>\n      <td>4</td>\n      <td>[kim, jong, un, north, korea, preparing, test,...</td>\n      <td>5</td>\n      <td>02</td>\n      <td>2017</td>\n      <td>01</td>\n      <td>[seoul, south, korea, north, korea, leader, ki...</td>\n      <td>0</td>\n      <td>0</td>\n      <td>0</td>\n      <td>0</td>\n      <td>1</td>\n    </tr>\n  </tbody>\n</table>\n</div>"
     },
     "execution_count": 226,
     "metadata": {},
     "output_type": "execute_result"
    }
   ],
   "source": [
    "# apply mapping in author\n",
    "mapping_author = {}\n",
    "for index, author in enumerate(list(author_unique_values.keys())):\n",
    "    mapping_author[author] = index\n",
    "\"\"\"\n",
    "write code here if cell contain more than one author get author with minimum frequency\n",
    "\"\"\"\n",
    "data_frame = data_frame.replace ({\n",
    "    \"author\": mapping_author\n",
    "})\n",
    "data_frame.head()"
   ],
   "metadata": {
    "collapsed": false,
    "pycharm": {
     "name": "#%%\n"
    }
   }
  },
  {
   "cell_type": "markdown",
   "source": [
    "# Feature Extraction\n",
    "## ⚫ Apply TF-IDF"
   ],
   "metadata": {
    "collapsed": false,
    "pycharm": {
     "name": "#%% md\n"
    }
   }
  },
  {
   "cell_type": "code",
   "execution_count": 227,
   "outputs": [],
   "source": [
    "# X = data_frame\n",
    "# Y = data_frame\n",
    "# # split data\n",
    "# X_train, X_test, Y_train, Y_test = train_test_split(X,Y ,\n",
    "#                                    random_state=104,\n",
    "#                                    test_size=0.25,\n",
    "#                                    shuffle=True)\n",
    "\n",
    "\n"
   ],
   "metadata": {
    "collapsed": false,
    "pycharm": {
     "name": "#%%\n"
    }
   }
  },
  {
   "cell_type": "code",
   "execution_count": 228,
   "outputs": [],
   "source": [
    "# TF_IDF = TfidfVectorizer(stop_words='english')\n",
    "#\n",
    "# # fit data\n",
    "# TF_IDF.fit(data_frame[\"title\"])"
   ],
   "metadata": {
    "collapsed": false,
    "pycharm": {
     "name": "#%%\n"
    }
   }
  }
 ],
 "metadata": {
  "kernelspec": {
   "display_name": "Python 3",
   "language": "python",
   "name": "python3"
  },
  "language_info": {
   "codemirror_mode": {
    "name": "ipython",
    "version": 2
   },
   "file_extension": ".py",
   "mimetype": "text/x-python",
   "name": "python",
   "nbconvert_exporter": "python",
   "pygments_lexer": "ipython2",
   "version": "2.7.6"
  }
 },
 "nbformat": 4,
 "nbformat_minor": 0
}